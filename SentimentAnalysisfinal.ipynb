{
  "cells": [
    {
      "cell_type": "markdown",
      "id": "44c70337",
      "metadata": {
        "id": "44c70337"
      },
      "source": [
        "# 1. Load The Tweets Dataset"
      ]
    },
    {
      "cell_type": "code",
      "execution_count": null,
      "id": "1c6d6b10",
      "metadata": {
        "id": "1c6d6b10"
      },
      "outputs": [],
      "source": [
        "import pandas as pd\n",
        "pd.set_option(\"display.max_colwidth\", 200)"
      ]
    },
    {
      "cell_type": "code",
      "execution_count": null,
      "id": "8d002621",
      "metadata": {
        "colab": {
          "base_uri": "https://localhost:8080/",
          "height": 293
        },
        "id": "8d002621",
        "outputId": "536548fa-1a51-4d84-f18f-de966ba8f4d7"
      },
      "outputs": [
        {
          "output_type": "execute_result",
          "data": {
            "text/plain": [
              "   id  label  \\\n",
              "0   1      0   \n",
              "1   2      0   \n",
              "2   3      0   \n",
              "3   4      0   \n",
              "4   5      1   \n",
              "\n",
              "                                                                                                                                 tweet  \n",
              "0     #fingerprint #Pregnancy Test https://goo.gl/h1MfQV #android #apps #beautiful #cute #health #igers #iphoneonly #iphonesia #iphone  \n",
              "1  Finally a transparant silicon case ^^ Thanks to my uncle :) #yay #Sony #Xperia #S #sonyexperias… http://instagram.com/p/YGEt5JC6JM/  \n",
              "2          We love this! Would you go? #talk #makememories #unplug #relax #iphone #smartphone #wifi #connect... http://fb.me/6N3LsUpCu  \n",
              "3                     I'm wired I know I'm George I was made that way ;) #iphone #cute #daventry #home http://instagr.am/p/Li_5_ujS4k/  \n",
              "4         What amazing service! Apple won't even talk to me about a question I have unless I pay them $19.95 for their stupid support!  "
            ],
            "text/html": [
              "\n",
              "  <div id=\"df-ffdeb266-e3ad-4e66-9261-f3393f1f8c2f\" class=\"colab-df-container\">\n",
              "    <div>\n",
              "<style scoped>\n",
              "    .dataframe tbody tr th:only-of-type {\n",
              "        vertical-align: middle;\n",
              "    }\n",
              "\n",
              "    .dataframe tbody tr th {\n",
              "        vertical-align: top;\n",
              "    }\n",
              "\n",
              "    .dataframe thead th {\n",
              "        text-align: right;\n",
              "    }\n",
              "</style>\n",
              "<table border=\"1\" class=\"dataframe\">\n",
              "  <thead>\n",
              "    <tr style=\"text-align: right;\">\n",
              "      <th></th>\n",
              "      <th>id</th>\n",
              "      <th>label</th>\n",
              "      <th>tweet</th>\n",
              "    </tr>\n",
              "  </thead>\n",
              "  <tbody>\n",
              "    <tr>\n",
              "      <th>0</th>\n",
              "      <td>1</td>\n",
              "      <td>0</td>\n",
              "      <td>#fingerprint #Pregnancy Test https://goo.gl/h1MfQV #android #apps #beautiful #cute #health #igers #iphoneonly #iphonesia #iphone</td>\n",
              "    </tr>\n",
              "    <tr>\n",
              "      <th>1</th>\n",
              "      <td>2</td>\n",
              "      <td>0</td>\n",
              "      <td>Finally a transparant silicon case ^^ Thanks to my uncle :) #yay #Sony #Xperia #S #sonyexperias… http://instagram.com/p/YGEt5JC6JM/</td>\n",
              "    </tr>\n",
              "    <tr>\n",
              "      <th>2</th>\n",
              "      <td>3</td>\n",
              "      <td>0</td>\n",
              "      <td>We love this! Would you go? #talk #makememories #unplug #relax #iphone #smartphone #wifi #connect... http://fb.me/6N3LsUpCu</td>\n",
              "    </tr>\n",
              "    <tr>\n",
              "      <th>3</th>\n",
              "      <td>4</td>\n",
              "      <td>0</td>\n",
              "      <td>I'm wired I know I'm George I was made that way ;) #iphone #cute #daventry #home http://instagr.am/p/Li_5_ujS4k/</td>\n",
              "    </tr>\n",
              "    <tr>\n",
              "      <th>4</th>\n",
              "      <td>5</td>\n",
              "      <td>1</td>\n",
              "      <td>What amazing service! Apple won't even talk to me about a question I have unless I pay them $19.95 for their stupid support!</td>\n",
              "    </tr>\n",
              "  </tbody>\n",
              "</table>\n",
              "</div>\n",
              "    <div class=\"colab-df-buttons\">\n",
              "\n",
              "  <div class=\"colab-df-container\">\n",
              "    <button class=\"colab-df-convert\" onclick=\"convertToInteractive('df-ffdeb266-e3ad-4e66-9261-f3393f1f8c2f')\"\n",
              "            title=\"Convert this dataframe to an interactive table.\"\n",
              "            style=\"display:none;\">\n",
              "\n",
              "  <svg xmlns=\"http://www.w3.org/2000/svg\" height=\"24px\" viewBox=\"0 -960 960 960\">\n",
              "    <path d=\"M120-120v-720h720v720H120Zm60-500h600v-160H180v160Zm220 220h160v-160H400v160Zm0 220h160v-160H400v160ZM180-400h160v-160H180v160Zm440 0h160v-160H620v160ZM180-180h160v-160H180v160Zm440 0h160v-160H620v160Z\"/>\n",
              "  </svg>\n",
              "    </button>\n",
              "\n",
              "  <style>\n",
              "    .colab-df-container {\n",
              "      display:flex;\n",
              "      gap: 12px;\n",
              "    }\n",
              "\n",
              "    .colab-df-convert {\n",
              "      background-color: #E8F0FE;\n",
              "      border: none;\n",
              "      border-radius: 50%;\n",
              "      cursor: pointer;\n",
              "      display: none;\n",
              "      fill: #1967D2;\n",
              "      height: 32px;\n",
              "      padding: 0 0 0 0;\n",
              "      width: 32px;\n",
              "    }\n",
              "\n",
              "    .colab-df-convert:hover {\n",
              "      background-color: #E2EBFA;\n",
              "      box-shadow: 0px 1px 2px rgba(60, 64, 67, 0.3), 0px 1px 3px 1px rgba(60, 64, 67, 0.15);\n",
              "      fill: #174EA6;\n",
              "    }\n",
              "\n",
              "    .colab-df-buttons div {\n",
              "      margin-bottom: 4px;\n",
              "    }\n",
              "\n",
              "    [theme=dark] .colab-df-convert {\n",
              "      background-color: #3B4455;\n",
              "      fill: #D2E3FC;\n",
              "    }\n",
              "\n",
              "    [theme=dark] .colab-df-convert:hover {\n",
              "      background-color: #434B5C;\n",
              "      box-shadow: 0px 1px 3px 1px rgba(0, 0, 0, 0.15);\n",
              "      filter: drop-shadow(0px 1px 2px rgba(0, 0, 0, 0.3));\n",
              "      fill: #FFFFFF;\n",
              "    }\n",
              "  </style>\n",
              "\n",
              "    <script>\n",
              "      const buttonEl =\n",
              "        document.querySelector('#df-ffdeb266-e3ad-4e66-9261-f3393f1f8c2f button.colab-df-convert');\n",
              "      buttonEl.style.display =\n",
              "        google.colab.kernel.accessAllowed ? 'block' : 'none';\n",
              "\n",
              "      async function convertToInteractive(key) {\n",
              "        const element = document.querySelector('#df-ffdeb266-e3ad-4e66-9261-f3393f1f8c2f');\n",
              "        const dataTable =\n",
              "          await google.colab.kernel.invokeFunction('convertToInteractive',\n",
              "                                                    [key], {});\n",
              "        if (!dataTable) return;\n",
              "\n",
              "        const docLinkHtml = 'Like what you see? Visit the ' +\n",
              "          '<a target=\"_blank\" href=https://colab.research.google.com/notebooks/data_table.ipynb>data table notebook</a>'\n",
              "          + ' to learn more about interactive tables.';\n",
              "        element.innerHTML = '';\n",
              "        dataTable['output_type'] = 'display_data';\n",
              "        await google.colab.output.renderOutput(dataTable, element);\n",
              "        const docLink = document.createElement('div');\n",
              "        docLink.innerHTML = docLinkHtml;\n",
              "        element.appendChild(docLink);\n",
              "      }\n",
              "    </script>\n",
              "  </div>\n",
              "\n",
              "\n",
              "<div id=\"df-0e30c1be-5797-4d6e-b945-c63d861f0704\">\n",
              "  <button class=\"colab-df-quickchart\" onclick=\"quickchart('df-0e30c1be-5797-4d6e-b945-c63d861f0704')\"\n",
              "            title=\"Suggest charts\"\n",
              "            style=\"display:none;\">\n",
              "\n",
              "<svg xmlns=\"http://www.w3.org/2000/svg\" height=\"24px\"viewBox=\"0 0 24 24\"\n",
              "     width=\"24px\">\n",
              "    <g>\n",
              "        <path d=\"M19 3H5c-1.1 0-2 .9-2 2v14c0 1.1.9 2 2 2h14c1.1 0 2-.9 2-2V5c0-1.1-.9-2-2-2zM9 17H7v-7h2v7zm4 0h-2V7h2v10zm4 0h-2v-4h2v4z\"/>\n",
              "    </g>\n",
              "</svg>\n",
              "  </button>\n",
              "\n",
              "<style>\n",
              "  .colab-df-quickchart {\n",
              "      --bg-color: #E8F0FE;\n",
              "      --fill-color: #1967D2;\n",
              "      --hover-bg-color: #E2EBFA;\n",
              "      --hover-fill-color: #174EA6;\n",
              "      --disabled-fill-color: #AAA;\n",
              "      --disabled-bg-color: #DDD;\n",
              "  }\n",
              "\n",
              "  [theme=dark] .colab-df-quickchart {\n",
              "      --bg-color: #3B4455;\n",
              "      --fill-color: #D2E3FC;\n",
              "      --hover-bg-color: #434B5C;\n",
              "      --hover-fill-color: #FFFFFF;\n",
              "      --disabled-bg-color: #3B4455;\n",
              "      --disabled-fill-color: #666;\n",
              "  }\n",
              "\n",
              "  .colab-df-quickchart {\n",
              "    background-color: var(--bg-color);\n",
              "    border: none;\n",
              "    border-radius: 50%;\n",
              "    cursor: pointer;\n",
              "    display: none;\n",
              "    fill: var(--fill-color);\n",
              "    height: 32px;\n",
              "    padding: 0;\n",
              "    width: 32px;\n",
              "  }\n",
              "\n",
              "  .colab-df-quickchart:hover {\n",
              "    background-color: var(--hover-bg-color);\n",
              "    box-shadow: 0 1px 2px rgba(60, 64, 67, 0.3), 0 1px 3px 1px rgba(60, 64, 67, 0.15);\n",
              "    fill: var(--button-hover-fill-color);\n",
              "  }\n",
              "\n",
              "  .colab-df-quickchart-complete:disabled,\n",
              "  .colab-df-quickchart-complete:disabled:hover {\n",
              "    background-color: var(--disabled-bg-color);\n",
              "    fill: var(--disabled-fill-color);\n",
              "    box-shadow: none;\n",
              "  }\n",
              "\n",
              "  .colab-df-spinner {\n",
              "    border: 2px solid var(--fill-color);\n",
              "    border-color: transparent;\n",
              "    border-bottom-color: var(--fill-color);\n",
              "    animation:\n",
              "      spin 1s steps(1) infinite;\n",
              "  }\n",
              "\n",
              "  @keyframes spin {\n",
              "    0% {\n",
              "      border-color: transparent;\n",
              "      border-bottom-color: var(--fill-color);\n",
              "      border-left-color: var(--fill-color);\n",
              "    }\n",
              "    20% {\n",
              "      border-color: transparent;\n",
              "      border-left-color: var(--fill-color);\n",
              "      border-top-color: var(--fill-color);\n",
              "    }\n",
              "    30% {\n",
              "      border-color: transparent;\n",
              "      border-left-color: var(--fill-color);\n",
              "      border-top-color: var(--fill-color);\n",
              "      border-right-color: var(--fill-color);\n",
              "    }\n",
              "    40% {\n",
              "      border-color: transparent;\n",
              "      border-right-color: var(--fill-color);\n",
              "      border-top-color: var(--fill-color);\n",
              "    }\n",
              "    60% {\n",
              "      border-color: transparent;\n",
              "      border-right-color: var(--fill-color);\n",
              "    }\n",
              "    80% {\n",
              "      border-color: transparent;\n",
              "      border-right-color: var(--fill-color);\n",
              "      border-bottom-color: var(--fill-color);\n",
              "    }\n",
              "    90% {\n",
              "      border-color: transparent;\n",
              "      border-bottom-color: var(--fill-color);\n",
              "    }\n",
              "  }\n",
              "</style>\n",
              "\n",
              "  <script>\n",
              "    async function quickchart(key) {\n",
              "      const quickchartButtonEl =\n",
              "        document.querySelector('#' + key + ' button');\n",
              "      quickchartButtonEl.disabled = true;  // To prevent multiple clicks.\n",
              "      quickchartButtonEl.classList.add('colab-df-spinner');\n",
              "      try {\n",
              "        const charts = await google.colab.kernel.invokeFunction(\n",
              "            'suggestCharts', [key], {});\n",
              "      } catch (error) {\n",
              "        console.error('Error during call to suggestCharts:', error);\n",
              "      }\n",
              "      quickchartButtonEl.classList.remove('colab-df-spinner');\n",
              "      quickchartButtonEl.classList.add('colab-df-quickchart-complete');\n",
              "    }\n",
              "    (() => {\n",
              "      let quickchartButtonEl =\n",
              "        document.querySelector('#df-0e30c1be-5797-4d6e-b945-c63d861f0704 button');\n",
              "      quickchartButtonEl.style.display =\n",
              "        google.colab.kernel.accessAllowed ? 'block' : 'none';\n",
              "    })();\n",
              "  </script>\n",
              "</div>\n",
              "    </div>\n",
              "  </div>\n"
            ],
            "application/vnd.google.colaboratory.intrinsic+json": {
              "type": "dataframe",
              "variable_name": "data",
              "summary": "{\n  \"name\": \"data\",\n  \"rows\": 7920,\n  \"fields\": [\n    {\n      \"column\": \"id\",\n      \"properties\": {\n        \"dtype\": \"number\",\n        \"std\": 2286,\n        \"min\": 1,\n        \"max\": 7920,\n        \"num_unique_values\": 7920,\n        \"samples\": [\n          4897,\n          7540,\n          1678\n        ],\n        \"semantic_type\": \"\",\n        \"description\": \"\"\n      }\n    },\n    {\n      \"column\": \"label\",\n      \"properties\": {\n        \"dtype\": \"number\",\n        \"std\": 0,\n        \"min\": 0,\n        \"max\": 1,\n        \"num_unique_values\": 2,\n        \"samples\": [\n          1,\n          0\n        ],\n        \"semantic_type\": \"\",\n        \"description\": \"\"\n      }\n    },\n    {\n      \"column\": \"tweet\",\n      \"properties\": {\n        \"dtype\": \"string\",\n        \"num_unique_values\": 7918,\n        \"samples\": [\n          \"My face as dad gave me cards worth \\u00a320, 000.00 #gay #shopping #boy #macbook #apple #blonde #pickofthe http://instagr.am/p/Uo5Ue7H7A8/\",\n          \"@skullcandy your product is brutal, 1 headphone always stops working. Get it together #Sony ftw\"\n        ],\n        \"semantic_type\": \"\",\n        \"description\": \"\"\n      }\n    }\n  ]\n}"
            }
          },
          "metadata": {},
          "execution_count": 2
        }
      ],
      "source": [
        "data = pd.read_csv('tweets.csv')\n",
        "data.head()"
      ]
    },
    {
      "cell_type": "code",
      "execution_count": null,
      "id": "377d93bf",
      "metadata": {
        "id": "377d93bf"
      },
      "outputs": [],
      "source": [
        "# 0 refers to positive sentiment, 1 is negative sentiment"
      ]
    },
    {
      "cell_type": "code",
      "execution_count": null,
      "id": "607aab79",
      "metadata": {
        "colab": {
          "base_uri": "https://localhost:8080/"
        },
        "id": "607aab79",
        "outputId": "8e4c224c-6b90-4d20-ae40-2fe82803f89f"
      },
      "outputs": [
        {
          "output_type": "stream",
          "name": "stdout",
          "text": [
            "<class 'pandas.core.frame.DataFrame'>\n",
            "RangeIndex: 7920 entries, 0 to 7919\n",
            "Data columns (total 3 columns):\n",
            " #   Column  Non-Null Count  Dtype \n",
            "---  ------  --------------  ----- \n",
            " 0   id      7920 non-null   int64 \n",
            " 1   label   7920 non-null   int64 \n",
            " 2   tweet   7920 non-null   object\n",
            "dtypes: int64(2), object(1)\n",
            "memory usage: 185.8+ KB\n"
          ]
        }
      ],
      "source": [
        "data.info()"
      ]
    },
    {
      "cell_type": "code",
      "execution_count": null,
      "id": "25e83372",
      "metadata": {
        "colab": {
          "base_uri": "https://localhost:8080/"
        },
        "id": "25e83372",
        "outputId": "c1aa4212-506c-4b24-e3fa-ebf341c63140"
      },
      "outputs": [
        {
          "output_type": "execute_result",
          "data": {
            "text/plain": [
              "id       0\n",
              "label    0\n",
              "tweet    0\n",
              "dtype: int64"
            ]
          },
          "metadata": {},
          "execution_count": 5
        }
      ],
      "source": [
        "# check for missing values\n",
        "data.isnull().sum()"
      ]
    },
    {
      "cell_type": "code",
      "execution_count": null,
      "id": "3a762be5",
      "metadata": {
        "colab": {
          "base_uri": "https://localhost:8080/",
          "height": 275
        },
        "id": "3a762be5",
        "outputId": "843d2776-29d8-44ee-a4f2-2a244421c4df"
      },
      "outputs": [
        {
          "output_type": "execute_result",
          "data": {
            "text/plain": [
              "   label  \\\n",
              "0      0   \n",
              "1      0   \n",
              "2      0   \n",
              "3      0   \n",
              "4      1   \n",
              "\n",
              "                                                                                                                                 tweet  \n",
              "0     #fingerprint #Pregnancy Test https://goo.gl/h1MfQV #android #apps #beautiful #cute #health #igers #iphoneonly #iphonesia #iphone  \n",
              "1  Finally a transparant silicon case ^^ Thanks to my uncle :) #yay #Sony #Xperia #S #sonyexperias… http://instagram.com/p/YGEt5JC6JM/  \n",
              "2          We love this! Would you go? #talk #makememories #unplug #relax #iphone #smartphone #wifi #connect... http://fb.me/6N3LsUpCu  \n",
              "3                     I'm wired I know I'm George I was made that way ;) #iphone #cute #daventry #home http://instagr.am/p/Li_5_ujS4k/  \n",
              "4         What amazing service! Apple won't even talk to me about a question I have unless I pay them $19.95 for their stupid support!  "
            ],
            "text/html": [
              "\n",
              "  <div id=\"df-dd931878-2699-4a9e-8009-807fa67fd95f\" class=\"colab-df-container\">\n",
              "    <div>\n",
              "<style scoped>\n",
              "    .dataframe tbody tr th:only-of-type {\n",
              "        vertical-align: middle;\n",
              "    }\n",
              "\n",
              "    .dataframe tbody tr th {\n",
              "        vertical-align: top;\n",
              "    }\n",
              "\n",
              "    .dataframe thead th {\n",
              "        text-align: right;\n",
              "    }\n",
              "</style>\n",
              "<table border=\"1\" class=\"dataframe\">\n",
              "  <thead>\n",
              "    <tr style=\"text-align: right;\">\n",
              "      <th></th>\n",
              "      <th>label</th>\n",
              "      <th>tweet</th>\n",
              "    </tr>\n",
              "  </thead>\n",
              "  <tbody>\n",
              "    <tr>\n",
              "      <th>0</th>\n",
              "      <td>0</td>\n",
              "      <td>#fingerprint #Pregnancy Test https://goo.gl/h1MfQV #android #apps #beautiful #cute #health #igers #iphoneonly #iphonesia #iphone</td>\n",
              "    </tr>\n",
              "    <tr>\n",
              "      <th>1</th>\n",
              "      <td>0</td>\n",
              "      <td>Finally a transparant silicon case ^^ Thanks to my uncle :) #yay #Sony #Xperia #S #sonyexperias… http://instagram.com/p/YGEt5JC6JM/</td>\n",
              "    </tr>\n",
              "    <tr>\n",
              "      <th>2</th>\n",
              "      <td>0</td>\n",
              "      <td>We love this! Would you go? #talk #makememories #unplug #relax #iphone #smartphone #wifi #connect... http://fb.me/6N3LsUpCu</td>\n",
              "    </tr>\n",
              "    <tr>\n",
              "      <th>3</th>\n",
              "      <td>0</td>\n",
              "      <td>I'm wired I know I'm George I was made that way ;) #iphone #cute #daventry #home http://instagr.am/p/Li_5_ujS4k/</td>\n",
              "    </tr>\n",
              "    <tr>\n",
              "      <th>4</th>\n",
              "      <td>1</td>\n",
              "      <td>What amazing service! Apple won't even talk to me about a question I have unless I pay them $19.95 for their stupid support!</td>\n",
              "    </tr>\n",
              "  </tbody>\n",
              "</table>\n",
              "</div>\n",
              "    <div class=\"colab-df-buttons\">\n",
              "\n",
              "  <div class=\"colab-df-container\">\n",
              "    <button class=\"colab-df-convert\" onclick=\"convertToInteractive('df-dd931878-2699-4a9e-8009-807fa67fd95f')\"\n",
              "            title=\"Convert this dataframe to an interactive table.\"\n",
              "            style=\"display:none;\">\n",
              "\n",
              "  <svg xmlns=\"http://www.w3.org/2000/svg\" height=\"24px\" viewBox=\"0 -960 960 960\">\n",
              "    <path d=\"M120-120v-720h720v720H120Zm60-500h600v-160H180v160Zm220 220h160v-160H400v160Zm0 220h160v-160H400v160ZM180-400h160v-160H180v160Zm440 0h160v-160H620v160ZM180-180h160v-160H180v160Zm440 0h160v-160H620v160Z\"/>\n",
              "  </svg>\n",
              "    </button>\n",
              "\n",
              "  <style>\n",
              "    .colab-df-container {\n",
              "      display:flex;\n",
              "      gap: 12px;\n",
              "    }\n",
              "\n",
              "    .colab-df-convert {\n",
              "      background-color: #E8F0FE;\n",
              "      border: none;\n",
              "      border-radius: 50%;\n",
              "      cursor: pointer;\n",
              "      display: none;\n",
              "      fill: #1967D2;\n",
              "      height: 32px;\n",
              "      padding: 0 0 0 0;\n",
              "      width: 32px;\n",
              "    }\n",
              "\n",
              "    .colab-df-convert:hover {\n",
              "      background-color: #E2EBFA;\n",
              "      box-shadow: 0px 1px 2px rgba(60, 64, 67, 0.3), 0px 1px 3px 1px rgba(60, 64, 67, 0.15);\n",
              "      fill: #174EA6;\n",
              "    }\n",
              "\n",
              "    .colab-df-buttons div {\n",
              "      margin-bottom: 4px;\n",
              "    }\n",
              "\n",
              "    [theme=dark] .colab-df-convert {\n",
              "      background-color: #3B4455;\n",
              "      fill: #D2E3FC;\n",
              "    }\n",
              "\n",
              "    [theme=dark] .colab-df-convert:hover {\n",
              "      background-color: #434B5C;\n",
              "      box-shadow: 0px 1px 3px 1px rgba(0, 0, 0, 0.15);\n",
              "      filter: drop-shadow(0px 1px 2px rgba(0, 0, 0, 0.3));\n",
              "      fill: #FFFFFF;\n",
              "    }\n",
              "  </style>\n",
              "\n",
              "    <script>\n",
              "      const buttonEl =\n",
              "        document.querySelector('#df-dd931878-2699-4a9e-8009-807fa67fd95f button.colab-df-convert');\n",
              "      buttonEl.style.display =\n",
              "        google.colab.kernel.accessAllowed ? 'block' : 'none';\n",
              "\n",
              "      async function convertToInteractive(key) {\n",
              "        const element = document.querySelector('#df-dd931878-2699-4a9e-8009-807fa67fd95f');\n",
              "        const dataTable =\n",
              "          await google.colab.kernel.invokeFunction('convertToInteractive',\n",
              "                                                    [key], {});\n",
              "        if (!dataTable) return;\n",
              "\n",
              "        const docLinkHtml = 'Like what you see? Visit the ' +\n",
              "          '<a target=\"_blank\" href=https://colab.research.google.com/notebooks/data_table.ipynb>data table notebook</a>'\n",
              "          + ' to learn more about interactive tables.';\n",
              "        element.innerHTML = '';\n",
              "        dataTable['output_type'] = 'display_data';\n",
              "        await google.colab.output.renderOutput(dataTable, element);\n",
              "        const docLink = document.createElement('div');\n",
              "        docLink.innerHTML = docLinkHtml;\n",
              "        element.appendChild(docLink);\n",
              "      }\n",
              "    </script>\n",
              "  </div>\n",
              "\n",
              "\n",
              "<div id=\"df-094e4b17-88b0-4c4a-9e92-a2954ef56d84\">\n",
              "  <button class=\"colab-df-quickchart\" onclick=\"quickchart('df-094e4b17-88b0-4c4a-9e92-a2954ef56d84')\"\n",
              "            title=\"Suggest charts\"\n",
              "            style=\"display:none;\">\n",
              "\n",
              "<svg xmlns=\"http://www.w3.org/2000/svg\" height=\"24px\"viewBox=\"0 0 24 24\"\n",
              "     width=\"24px\">\n",
              "    <g>\n",
              "        <path d=\"M19 3H5c-1.1 0-2 .9-2 2v14c0 1.1.9 2 2 2h14c1.1 0 2-.9 2-2V5c0-1.1-.9-2-2-2zM9 17H7v-7h2v7zm4 0h-2V7h2v10zm4 0h-2v-4h2v4z\"/>\n",
              "    </g>\n",
              "</svg>\n",
              "  </button>\n",
              "\n",
              "<style>\n",
              "  .colab-df-quickchart {\n",
              "      --bg-color: #E8F0FE;\n",
              "      --fill-color: #1967D2;\n",
              "      --hover-bg-color: #E2EBFA;\n",
              "      --hover-fill-color: #174EA6;\n",
              "      --disabled-fill-color: #AAA;\n",
              "      --disabled-bg-color: #DDD;\n",
              "  }\n",
              "\n",
              "  [theme=dark] .colab-df-quickchart {\n",
              "      --bg-color: #3B4455;\n",
              "      --fill-color: #D2E3FC;\n",
              "      --hover-bg-color: #434B5C;\n",
              "      --hover-fill-color: #FFFFFF;\n",
              "      --disabled-bg-color: #3B4455;\n",
              "      --disabled-fill-color: #666;\n",
              "  }\n",
              "\n",
              "  .colab-df-quickchart {\n",
              "    background-color: var(--bg-color);\n",
              "    border: none;\n",
              "    border-radius: 50%;\n",
              "    cursor: pointer;\n",
              "    display: none;\n",
              "    fill: var(--fill-color);\n",
              "    height: 32px;\n",
              "    padding: 0;\n",
              "    width: 32px;\n",
              "  }\n",
              "\n",
              "  .colab-df-quickchart:hover {\n",
              "    background-color: var(--hover-bg-color);\n",
              "    box-shadow: 0 1px 2px rgba(60, 64, 67, 0.3), 0 1px 3px 1px rgba(60, 64, 67, 0.15);\n",
              "    fill: var(--button-hover-fill-color);\n",
              "  }\n",
              "\n",
              "  .colab-df-quickchart-complete:disabled,\n",
              "  .colab-df-quickchart-complete:disabled:hover {\n",
              "    background-color: var(--disabled-bg-color);\n",
              "    fill: var(--disabled-fill-color);\n",
              "    box-shadow: none;\n",
              "  }\n",
              "\n",
              "  .colab-df-spinner {\n",
              "    border: 2px solid var(--fill-color);\n",
              "    border-color: transparent;\n",
              "    border-bottom-color: var(--fill-color);\n",
              "    animation:\n",
              "      spin 1s steps(1) infinite;\n",
              "  }\n",
              "\n",
              "  @keyframes spin {\n",
              "    0% {\n",
              "      border-color: transparent;\n",
              "      border-bottom-color: var(--fill-color);\n",
              "      border-left-color: var(--fill-color);\n",
              "    }\n",
              "    20% {\n",
              "      border-color: transparent;\n",
              "      border-left-color: var(--fill-color);\n",
              "      border-top-color: var(--fill-color);\n",
              "    }\n",
              "    30% {\n",
              "      border-color: transparent;\n",
              "      border-left-color: var(--fill-color);\n",
              "      border-top-color: var(--fill-color);\n",
              "      border-right-color: var(--fill-color);\n",
              "    }\n",
              "    40% {\n",
              "      border-color: transparent;\n",
              "      border-right-color: var(--fill-color);\n",
              "      border-top-color: var(--fill-color);\n",
              "    }\n",
              "    60% {\n",
              "      border-color: transparent;\n",
              "      border-right-color: var(--fill-color);\n",
              "    }\n",
              "    80% {\n",
              "      border-color: transparent;\n",
              "      border-right-color: var(--fill-color);\n",
              "      border-bottom-color: var(--fill-color);\n",
              "    }\n",
              "    90% {\n",
              "      border-color: transparent;\n",
              "      border-bottom-color: var(--fill-color);\n",
              "    }\n",
              "  }\n",
              "</style>\n",
              "\n",
              "  <script>\n",
              "    async function quickchart(key) {\n",
              "      const quickchartButtonEl =\n",
              "        document.querySelector('#' + key + ' button');\n",
              "      quickchartButtonEl.disabled = true;  // To prevent multiple clicks.\n",
              "      quickchartButtonEl.classList.add('colab-df-spinner');\n",
              "      try {\n",
              "        const charts = await google.colab.kernel.invokeFunction(\n",
              "            'suggestCharts', [key], {});\n",
              "      } catch (error) {\n",
              "        console.error('Error during call to suggestCharts:', error);\n",
              "      }\n",
              "      quickchartButtonEl.classList.remove('colab-df-spinner');\n",
              "      quickchartButtonEl.classList.add('colab-df-quickchart-complete');\n",
              "    }\n",
              "    (() => {\n",
              "      let quickchartButtonEl =\n",
              "        document.querySelector('#df-094e4b17-88b0-4c4a-9e92-a2954ef56d84 button');\n",
              "      quickchartButtonEl.style.display =\n",
              "        google.colab.kernel.accessAllowed ? 'block' : 'none';\n",
              "    })();\n",
              "  </script>\n",
              "</div>\n",
              "    </div>\n",
              "  </div>\n"
            ],
            "application/vnd.google.colaboratory.intrinsic+json": {
              "type": "dataframe",
              "variable_name": "data",
              "summary": "{\n  \"name\": \"data\",\n  \"rows\": 7920,\n  \"fields\": [\n    {\n      \"column\": \"label\",\n      \"properties\": {\n        \"dtype\": \"number\",\n        \"std\": 0,\n        \"min\": 0,\n        \"max\": 1,\n        \"num_unique_values\": 2,\n        \"samples\": [\n          1,\n          0\n        ],\n        \"semantic_type\": \"\",\n        \"description\": \"\"\n      }\n    },\n    {\n      \"column\": \"tweet\",\n      \"properties\": {\n        \"dtype\": \"string\",\n        \"num_unique_values\": 7918,\n        \"samples\": [\n          \"My face as dad gave me cards worth \\u00a320, 000.00 #gay #shopping #boy #macbook #apple #blonde #pickofthe http://instagr.am/p/Uo5Ue7H7A8/\",\n          \"@skullcandy your product is brutal, 1 headphone always stops working. Get it together #Sony ftw\"\n        ],\n        \"semantic_type\": \"\",\n        \"description\": \"\"\n      }\n    }\n  ]\n}"
            }
          },
          "metadata": {},
          "execution_count": 6
        }
      ],
      "source": [
        "# drop the id column\n",
        "data.drop(['id'], axis=1, inplace=True)\n",
        "data.head()"
      ]
    },
    {
      "cell_type": "code",
      "execution_count": null,
      "id": "5fef08e2",
      "metadata": {
        "colab": {
          "base_uri": "https://localhost:8080/"
        },
        "id": "5fef08e2",
        "outputId": "20ed6064-2728-4c19-8e55-c036f5454420"
      },
      "outputs": [
        {
          "output_type": "execute_result",
          "data": {
            "text/plain": [
              "0    0.744192\n",
              "1    0.255808\n",
              "Name: label, dtype: float64"
            ]
          },
          "metadata": {},
          "execution_count": 7
        }
      ],
      "source": [
        "# Check for the class balance\n",
        "data['label'].value_counts(normalize=True)"
      ]
    },
    {
      "cell_type": "code",
      "execution_count": null,
      "id": "da964ccc",
      "metadata": {
        "colab": {
          "base_uri": "https://localhost:8080/",
          "height": 442
        },
        "id": "da964ccc",
        "outputId": "dca9a197-890c-4cda-cacf-24b9e9835ed7"
      },
      "outputs": [
        {
          "output_type": "execute_result",
          "data": {
            "text/plain": [
              "<Axes: >"
            ]
          },
          "metadata": {},
          "execution_count": 8
        },
        {
          "output_type": "display_data",
          "data": {
            "text/plain": [
              "<Figure size 640x480 with 1 Axes>"
            ],
            "image/png": "[encoded data removed]"
          },
          "metadata": {}
        }
      ],
      "source": [
        "# plot the label counts\n",
        "data['label'].value_counts().plot(kind='bar')"
      ]
    },
    {
      "cell_type": "markdown",
      "id": "2ebe7934",
      "metadata": {
        "id": "2ebe7934"
      },
      "source": [
        "# 2. Data Cleaning"
      ]
    },
    {
      "cell_type": "code",
      "execution_count": null,
      "id": "864cb495",
      "metadata": {
        "colab": {
          "base_uri": "https://localhost:8080/",
          "height": 52
        },
        "id": "864cb495",
        "outputId": "766da710-c771-44fd-bd2a-95ccd1a78785"
      },
      "outputs": [
        {
          "output_type": "execute_result",
          "data": {
            "text/plain": [
              "\"It's time for new wallpapers #phone #wallpapers #wall #screen #galaxy #samsung #app … https://www.instagram.com/p/BcsKTNNn51c/\""
            ],
            "application/vnd.google.colaboratory.intrinsic+json": {
              "type": "string"
            }
          },
          "metadata": {},
          "execution_count": 9
        }
      ],
      "source": [
        "data['tweet'][24]"
      ]
    },
    {
      "cell_type": "code",
      "execution_count": null,
      "id": "29638830",
      "metadata": {
        "id": "29638830"
      },
      "outputs": [],
      "source": [
        "import re"
      ]
    },
    {
      "cell_type": "code",
      "execution_count": null,
      "id": "e21a6b13",
      "metadata": {
        "colab": {
          "base_uri": "https://localhost:8080/",
          "height": 52
        },
        "id": "e21a6b13",
        "outputId": "2d2a6bdf-973c-47a0-bdc7-7d5cc81fd70b"
      },
      "outputs": [
        {
          "output_type": "execute_result",
          "data": {
            "text/plain": [
              "'It is time for new wallpapers #phone #wallpapers #wall #screen #galaxy #samsung #app … https://www.instagram.com/p/BcsKTNNn51c/'"
            ],
            "application/vnd.google.colaboratory.intrinsic+json": {
              "type": "string"
            }
          },
          "metadata": {},
          "execution_count": 11
        }
      ],
      "source": [
        "# Substitute 's with \" is\"\n",
        "re.sub(r\"'s\\b\", \" is\", data['tweet'][24])"
      ]
    },
    {
      "cell_type": "code",
      "execution_count": null,
      "id": "cd7dcd23",
      "metadata": {
        "colab": {
          "base_uri": "https://localhost:8080/",
          "height": 52
        },
        "id": "cd7dcd23",
        "outputId": "17bf1f8a-9cdc-4963-c40c-96534f3e2ac9"
      },
      "outputs": [
        {
          "output_type": "execute_result",
          "data": {
            "text/plain": [
              "'Ha! Not heavy machinery but it does what I need it to. @Apple really dropped the ball with that design. #drinkyourhaterade'"
            ],
            "application/vnd.google.colaboratory.intrinsic+json": {
              "type": "string"
            }
          },
          "metadata": {},
          "execution_count": 12
        }
      ],
      "source": [
        "# Removing the user mentions\n",
        "data['tweet'][11]"
      ]
    },
    {
      "cell_type": "code",
      "execution_count": null,
      "id": "6376ce28",
      "metadata": {
        "colab": {
          "base_uri": "https://localhost:8080/",
          "height": 52
        },
        "id": "6376ce28",
        "outputId": "6bc7a4b1-7cf7-479e-b5ac-7abcfcc82123"
      },
      "outputs": [
        {
          "output_type": "execute_result",
          "data": {
            "text/plain": [
              "'Ha! Not heavy machinery but it does what I need it to.  really dropped the ball with that design. #drinkyourhaterade'"
            ],
            "application/vnd.google.colaboratory.intrinsic+json": {
              "type": "string"
            }
          },
          "metadata": {},
          "execution_count": 13
        }
      ],
      "source": [
        "# We'll retain on the alphabets & digits\n",
        "re.sub(\"@[A-Za-z0-9]+\", \"\", data['tweet'][11])"
      ]
    },
    {
      "cell_type": "code",
      "execution_count": null,
      "id": "dfef97f7",
      "metadata": {
        "colab": {
          "base_uri": "https://localhost:8080/",
          "height": 52
        },
        "id": "dfef97f7",
        "outputId": "f7b47b6d-668e-4b38-c830-6c362451e7d9"
      },
      "outputs": [
        {
          "output_type": "execute_result",
          "data": {
            "text/plain": [
              "'#fingerprint #Pregnancy Test https://goo.gl/h1MfQV #android #apps #beautiful #cute #health #igers #iphoneonly #iphonesia #iphone'"
            ],
            "application/vnd.google.colaboratory.intrinsic+json": {
              "type": "string"
            }
          },
          "metadata": {},
          "execution_count": 14
        }
      ],
      "source": [
        "# remove the hashtags\n",
        "data['tweet'][0]"
      ]
    },
    {
      "cell_type": "code",
      "execution_count": null,
      "id": "414a68ed",
      "metadata": {
        "colab": {
          "base_uri": "https://localhost:8080/",
          "height": 52
        },
        "id": "414a68ed",
        "outputId": "89975ef4-c759-41bd-bce7-1535d779a932"
      },
      "outputs": [
        {
          "output_type": "execute_result",
          "data": {
            "text/plain": [
              "'fingerprint Pregnancy Test https://goo.gl/h1MfQV android apps beautiful cute health igers iphoneonly iphonesia iphone'"
            ],
            "application/vnd.google.colaboratory.intrinsic+json": {
              "type": "string"
            }
          },
          "metadata": {},
          "execution_count": 15
        }
      ],
      "source": [
        "re.sub(\"#\", \"\", data['tweet'][0])"
      ]
    },
    {
      "cell_type": "code",
      "execution_count": null,
      "id": "d228f1a8",
      "metadata": {
        "colab": {
          "base_uri": "https://localhost:8080/",
          "height": 52
        },
        "id": "d228f1a8",
        "outputId": "7ef48cda-cb8b-437f-8d31-eea0e8188ca8"
      },
      "outputs": [
        {
          "output_type": "execute_result",
          "data": {
            "text/plain": [
              "'#fingerprint #Pregnancy Test  #android #apps #beautiful #cute #health #igers #iphoneonly #iphonesia #iphone'"
            ],
            "application/vnd.google.colaboratory.intrinsic+json": {
              "type": "string"
            }
          },
          "metadata": {},
          "execution_count": 16
        }
      ],
      "source": [
        "# Removing the hyperlinks\n",
        "re.sub(r\"http\\S+\", \"\", data['tweet'][0])"
      ]
    },
    {
      "cell_type": "code",
      "execution_count": null,
      "id": "6db434b8",
      "metadata": {
        "colab": {
          "base_uri": "https://localhost:8080/",
          "height": 52
        },
        "id": "6db434b8",
        "outputId": "9e535868-748b-4d7b-9c71-0cde80ba7cd9"
      },
      "outputs": [
        {
          "output_type": "execute_result",
          "data": {
            "text/plain": [
              "'1.05 billion for 3 patents where there is prior art = 300 millions each = patent trolls are partying now thanks to Apple #apple'"
            ],
            "application/vnd.google.colaboratory.intrinsic+json": {
              "type": "string"
            }
          },
          "metadata": {},
          "execution_count": 17
        }
      ],
      "source": [
        "# Retain on the alphabets (get rid of punctuations, special char, digits)\n",
        "data['tweet'][25]"
      ]
    },
    {
      "cell_type": "code",
      "execution_count": null,
      "id": "39aba7ae",
      "metadata": {
        "colab": {
          "base_uri": "https://localhost:8080/",
          "height": 52
        },
        "id": "39aba7ae",
        "outputId": "6bb25d61-d157-44de-b69c-eb5011b9445a"
      },
      "outputs": [
        {
          "output_type": "execute_result",
          "data": {
            "text/plain": [
              "' fingerprint  Pregnancy Test https   goo gl h MfQV  android  apps  beautiful  cute  health  igers  iphoneonly  iphonesia  iphone'"
            ],
            "application/vnd.google.colaboratory.intrinsic+json": {
              "type": "string"
            }
          },
          "metadata": {},
          "execution_count": 18
        }
      ],
      "source": [
        "re.sub(r\"[^a-zA-Z]\", \" \", data['tweet'][0])"
      ]
    },
    {
      "cell_type": "code",
      "execution_count": null,
      "id": "64848c44",
      "metadata": {
        "colab": {
          "base_uri": "https://localhost:8080/"
        },
        "id": "64848c44",
        "outputId": "06e3151f-d963-4faa-ef18-199f430af009"
      },
      "outputs": [
        {
          "output_type": "stream",
          "name": "stderr",
          "text": [
            "[nltk_data] Downloading package stopwords to /root/nltk_data...\n",
            "[nltk_data]   Unzipping corpora/stopwords.zip.\n"
          ]
        }
      ],
      "source": [
        "# Stop words Removal\n",
        "import nltk\n",
        "nltk.download('stopwords')\n",
        "from nltk.corpus import stopwords"
      ]
    },
    {
      "cell_type": "code",
      "execution_count": null,
      "id": "e791f4e7",
      "metadata": {
        "colab": {
          "base_uri": "https://localhost:8080/"
        },
        "id": "e791f4e7",
        "outputId": "fed8bc70-3167-4bc6-8e96-3d486d7ac974"
      },
      "outputs": [
        {
          "output_type": "stream",
          "name": "stdout",
          "text": [
            "{'theirs', 'him', 'hadn', 'than', 'being', 'out', \"needn't\", 'been', 'not', 'you', 'don', 'weren', 'having', 'above', 'most', 'just', \"aren't\", 'shan', 'i', 'has', 'she', \"weren't\", 'm', 'hasn', 've', 'our', 'had', 'my', 'what', 'doing', 'on', 'mightn', 'this', 'below', 'other', 's', 'while', 'a', 'ourselves', \"she's\", 'll', 'ours', 'up', 'its', 'no', \"that'll\", 'who', 'and', 'won', 'he', 'does', 'whom', 'same', 'was', 'the', 'why', 'will', 're', 'y', 'so', 'about', 'ain', \"won't\", 'are', 'here', 'me', 'now', 'do', 'd', 'wasn', 'during', 'down', 'over', 'again', 'ma', 'between', 'into', 'once', 'where', 'an', 'before', 'is', 'further', 'we', \"hasn't\", 'yourself', 'from', 'own', 'but', 'should', 'to', \"should've\", 'yourselves', 'have', 'these', 'as', 'some', 'such', \"isn't\", 'am', 'few', 'their', 'itself', 'how', 'doesn', 'hers', 'those', 'too', 'her', 'it', 'more', 'haven', 'any', 'themselves', 'only', 'for', 'his', 'mustn', 'after', 'couldn', 'nor', 'then', \"didn't\", 'which', 'very', 'aren', 'in', 'isn', 'did', 'your', \"couldn't\", \"wasn't\", 'through', 'all', 'if', 'by', \"mightn't\", 'myself', 'that', \"mustn't\", \"you're\", 'against', 'they', \"haven't\", 'or', 'both', \"doesn't\", 'didn', 'with', 'needn', 'wouldn', 'shouldn', 'off', 'yours', \"you've\", 'until', 'under', 'at', \"you'd\", 'be', \"don't\", \"hadn't\", \"shan't\", 'because', 'o', 'himself', 'herself', 'of', \"shouldn't\", \"you'll\", 'them', 't', 'each', 'can', 'were', 'there', 'when', \"wouldn't\", \"it's\"}\n"
          ]
        }
      ],
      "source": [
        "nltk_stopwords = set(stopwords.words('english'))\n",
        "print(nltk_stopwords)"
      ]
    },
    {
      "cell_type": "code",
      "execution_count": null,
      "id": "f4ae7f75",
      "metadata": {
        "colab": {
          "base_uri": "https://localhost:8080/"
        },
        "id": "f4ae7f75",
        "outputId": "98af2202-932e-4741-ff6f-c1889e8fef2f"
      },
      "outputs": [
        {
          "output_type": "execute_result",
          "data": {
            "text/plain": [
              "179"
            ]
          },
          "metadata": {},
          "execution_count": 21
        }
      ],
      "source": [
        "len(nltk_stopwords)"
      ]
    },
    {
      "cell_type": "code",
      "execution_count": null,
      "id": "3a8095da",
      "metadata": {
        "colab": {
          "base_uri": "https://localhost:8080/"
        },
        "id": "3a8095da",
        "outputId": "22c7cb41-405a-49a3-9224-4c4b5a72a19e"
      },
      "outputs": [
        {
          "output_type": "stream",
          "name": "stdout",
          "text": [
            "{'eleven', 'show', 'him', 'may', 'upon', 'however', 'being', 'otherwise', 'whereupon', 'not', 'ie', 'among', 'six', 'eg', 'herein', 'every', 'cry', 'done', 'most', 'else', 'therein', 'could', 'has', 'she', 'hereafter', 'less', 'this', 'elsewhere', 'cannot', 'while', 'name', 'nowhere', 'amongst', 'within', 'anyone', 'already', 'de', 'no', 'whoever', 'inc', 'and', 'he', 'nobody', 'next', 'was', 'the', 'will', 'thin', 'even', 'everywhere', 'so', 'about', 'towards', 'along', 'are', 'me', 'now', 'during', 'down', 'full', 'over', 'between', 'hundred', 'un', 'see', 'an', 'is', 'we', 'often', 'many', 'yourself', 'from', 'own', 'should', 'to', 'have', 'these', 'hereby', 'mostly', 'three', 'as', 'whereby', 'am', 'several', 'whether', 'give', 'perhaps', 'thick', 'how', 'one', 'hers', 'though', 'those', 'too', 'her', 'more', 'due', 'etc', 'only', 'someone', 'his', 'rather', 'after', 'describe', 'anyhow', 'nor', 'then', 'in', 'through', 'almost', 'latterly', 'system', 'couldnt', 'also', 'myself', 'that', 'they', 'sometimes', 'serious', 'or', 'back', 'still', 'beyond', 'everything', 'off', 'under', 'thereby', 'be', 'himself', 'of', 'sincere', 'except', 'found', 'whole', 'them', 'each', 'were', 'indeed', 'there', 'throughout', 'much', 'anywhere', 'whence', 'onto', 'either', 'than', 'out', 'somehow', 'around', 'latter', 'been', 'cant', 'you', 'become', 'toward', 'empty', 'seem', 'never', 'whose', 'above', 'made', 'whereas', 'two', 'i', 'well', 'front', 'thus', 'had', 'con', 'my', 'our', 'something', 'what', 'on', 'eight', 'other', 'below', 'ten', 'please', 'another', 'take', 'a', 'ourselves', 'becomes', 'afterwards', 'fifty', 'must', 'ours', 'seemed', 'up', 'its', 'who', 'seems', 'thru', 'although', 'us', 'moreover', 'same', 'sometime', 'besides', 'sixty', 'whom', 'why', 're', 'hasnt', 'keep', 'would', 'therefore', 'least', 'here', 'seeming', 'call', 'beside', 'do', 'across', 'fill', 'get', 'mill', 'again', 'bill', 'without', 'part', 'into', 'namely', 'once', 'behind', 'whenever', 'fire', 'whatever', 'where', 'wherein', 'before', 'further', 'neither', 'since', 'twelve', 'anything', 'interest', 'but', 'per', 'yourselves', 'nothing', 'some', 'such', 'whereafter', 'few', 'their', 'go', 'amoungst', 'itself', 'alone', 'it', 'any', 'themselves', 'thereafter', 'thereupon', 'enough', 'for', 'via', 'ltd', 'third', 'everyone', 'first', 'very', 'which', 'amount', 'mine', 'five', 'noone', 'move', 'none', 'your', 'put', 'all', 'former', 'if', 'beforehand', 'twenty', 'by', 'detail', 'hereupon', 'against', 'find', 'hence', 'side', 'top', 'might', 'both', 'bottom', 'somewhere', 'with', 'nine', 'ever', 'anyway', 'formerly', 'four', 'whither', 'yours', 'until', 'at', 'because', 'herself', 'forty', 'meanwhile', 'together', 'can', 'yet', 'wherever', 'when', 'always', 'fifteen', 'became', 'nevertheless', 'co', 'others', 'thence', 'last', 'becoming'}\n"
          ]
        }
      ],
      "source": [
        "from sklearn.feature_extraction.text import ENGLISH_STOP_WORDS\n",
        "sklearn_stopwords = set(ENGLISH_STOP_WORDS)\n",
        "print(sklearn_stopwords)"
      ]
    },
    {
      "cell_type": "code",
      "execution_count": null,
      "id": "cf4e095c",
      "metadata": {
        "colab": {
          "base_uri": "https://localhost:8080/"
        },
        "id": "cf4e095c",
        "outputId": "bf2f8f09-ea91-47f4-fc8d-b2754d49b242"
      },
      "outputs": [
        {
          "output_type": "execute_result",
          "data": {
            "text/plain": [
              "318"
            ]
          },
          "metadata": {},
          "execution_count": 23
        }
      ],
      "source": [
        "len(sklearn_stopwords)"
      ]
    },
    {
      "cell_type": "code",
      "execution_count": null,
      "id": "c0b37185",
      "metadata": {
        "colab": {
          "base_uri": "https://localhost:8080/"
        },
        "id": "c0b37185",
        "outputId": "94fa3217-c433-4829-b27f-9fd1dc8f69f1"
      },
      "outputs": [
        {
          "output_type": "stream",
          "name": "stdout",
          "text": [
            "{'him', 'than', 'being', 'out', 'been', 'not', 'you', 'most', 'above', 'i', 'has', 'she', 'our', 'had', 'my', 'what', 'on', 'below', 'this', 'other', 'while', 'a', 'ourselves', 'ours', 'up', 'no', 'its', 'who', 'and', 'he', 'whom', 'same', 'was', 'the', 'why', 'will', 're', 'so', 'about', 'are', 'here', 'me', 'now', 'do', 'during', 'down', 'over', 'again', 'between', 'into', 'once', 'where', 'an', 'before', 'is', 'further', 'we', 'yourself', 'from', 'own', 'but', 'should', 'to', 'yourselves', 'have', 'these', 'as', 'some', 'such', 'am', 'few', 'their', 'itself', 'how', 'hers', 'those', 'too', 'her', 'it', 'more', 'any', 'themselves', 'only', 'for', 'his', 'after', 'nor', 'then', 'which', 'very', 'in', 'your', 'through', 'all', 'if', 'by', 'myself', 'that', 'against', 'they', 'or', 'both', 'with', 'off', 'yours', 'until', 'under', 'at', 'be', 'because', 'himself', 'herself', 'of', 'them', 'each', 'can', 'were', 'there', 'when'}\n"
          ]
        }
      ],
      "source": [
        "# Find the common stopwords from NLTK & sklearn\n",
        "print(nltk_stopwords.intersection(sklearn_stopwords))"
      ]
    },
    {
      "cell_type": "code",
      "execution_count": null,
      "id": "f46b31b6",
      "metadata": {
        "colab": {
          "base_uri": "https://localhost:8080/"
        },
        "id": "f46b31b6",
        "outputId": "06bcdbc9-f2a0-428f-d9e4-e36bd66ce8d9"
      },
      "outputs": [
        {
          "output_type": "execute_result",
          "data": {
            "text/plain": [
              "119"
            ]
          },
          "metadata": {},
          "execution_count": 25
        }
      ],
      "source": [
        "len(nltk_stopwords.intersection(sklearn_stopwords))"
      ]
    },
    {
      "cell_type": "code",
      "execution_count": null,
      "id": "4d244574",
      "metadata": {
        "id": "4d244574"
      },
      "outputs": [],
      "source": [
        "# Combining the stopwords from sklearn & NLTK\n",
        "combined_stopwords = nltk_stopwords.union(sklearn_stopwords)"
      ]
    },
    {
      "cell_type": "code",
      "execution_count": null,
      "id": "7c5cab13",
      "metadata": {
        "colab": {
          "base_uri": "https://localhost:8080/"
        },
        "id": "7c5cab13",
        "outputId": "6bbeb591-f47c-44e7-8d1c-3b05f8018c4a"
      },
      "outputs": [
        {
          "output_type": "execute_result",
          "data": {
            "text/plain": [
              "378"
            ]
          },
          "metadata": {},
          "execution_count": 27
        }
      ],
      "source": [
        "len(combined_stopwords)"
      ]
    },
    {
      "cell_type": "code",
      "execution_count": null,
      "id": "1434274a",
      "metadata": {
        "id": "1434274a"
      },
      "outputs": [],
      "source": [
        "# Text Normalization: Stemming or Lemmatization (prefer)\n",
        "from nltk.stem import WordNetLemmatizer\n",
        "lemmatizer = WordNetLemmatizer()"
      ]
    },
    {
      "cell_type": "code",
      "execution_count": null,
      "id": "adf51cf7",
      "metadata": {
        "colab": {
          "base_uri": "https://localhost:8080/"
        },
        "id": "adf51cf7",
        "outputId": "902408bf-465e-4c25-b44d-6468cf0f4f68"
      },
      "outputs": [
        {
          "output_type": "execute_result",
          "data": {
            "text/plain": [
              "['Gain',\n",
              " 'Followers',\n",
              " 'RT',\n",
              " 'This',\n",
              " 'MUST',\n",
              " 'FOLLOW',\n",
              " 'ME',\n",
              " 'I',\n",
              " 'FOLLOW',\n",
              " 'BACK',\n",
              " 'Follow',\n",
              " 'everyone',\n",
              " 'who',\n",
              " 'rts',\n",
              " 'Gain',\n",
              " '#iphone',\n",
              " '#sougofollow',\n",
              " '#ff',\n",
              " 'i7si']"
            ]
          },
          "metadata": {},
          "execution_count": 29
        }
      ],
      "source": [
        "data['tweet'][63].split()"
      ]
    },
    {
      "cell_type": "code",
      "execution_count": null,
      "id": "44aa4683",
      "metadata": {
        "colab": {
          "base_uri": "https://localhost:8080/",
          "height": 70
        },
        "id": "44aa4683",
        "outputId": "55e416b5-273f-423f-98ff-e153913c43b1"
      },
      "outputs": [
        {
          "output_type": "stream",
          "name": "stderr",
          "text": [
            "[nltk_data] Downloading package wordnet to /root/nltk_data...\n"
          ]
        },
        {
          "output_type": "execute_result",
          "data": {
            "text/plain": [
              "'gain follower rt this must follow me i follow back follow everyone who rts gain #iphone #sougofollow #ff i7si '"
            ],
            "application/vnd.google.colaboratory.intrinsic+json": {
              "type": "string"
            }
          },
          "metadata": {},
          "execution_count": 30
        }
      ],
      "source": [
        "import nltk\n",
        "nltk.download('wordnet')\n",
        "\n",
        "new_sent = ''\n",
        "for token in data['tweet'][63].split():\n",
        "    new_sent = new_sent + lemmatizer.lemmatize(token.lower()) + ' '\n",
        "\n",
        "new_sent"
      ]
    },
    {
      "cell_type": "code",
      "execution_count": null,
      "id": "cd8d70fc",
      "metadata": {
        "id": "cd8d70fc"
      },
      "outputs": [],
      "source": [
        "# !pip install contractions"
      ]
    },
    {
      "cell_type": "code",
      "execution_count": null,
      "id": "1d7ce8c1",
      "metadata": {
        "id": "1d7ce8c1"
      },
      "outputs": [],
      "source": []
    },
    {
      "cell_type": "code",
      "execution_count": null,
      "id": "6ea94262",
      "metadata": {
        "colab": {
          "base_uri": "https://localhost:8080/",
          "height": 281
        },
        "id": "6ea94262",
        "outputId": "8f804743-224b-4a20-b151-64c8d06d1398"
      },
      "outputs": [
        {
          "output_type": "stream",
          "name": "stdout",
          "text": [
            "Collecting contractions\n",
            "  Downloading contractions-0.1.73-py2.py3-none-any.whl (8.7 kB)\n",
            "Collecting textsearch>=0.0.21 (from contractions)\n",
            "  Downloading textsearch-0.0.24-py2.py3-none-any.whl (7.6 kB)\n",
            "Collecting anyascii (from textsearch>=0.0.21->contractions)\n",
            "  Downloading anyascii-0.3.2-py3-none-any.whl (289 kB)\n",
            "\u001b[2K     \u001b[90m━━━━━━━━━━━━━━━━━━━━━━━━━━━━━━━━━━━━━━━━\u001b[0m \u001b[32m289.9/289.9 kB\u001b[0m \u001b[31m2.3 MB/s\u001b[0m eta \u001b[36m0:00:00\u001b[0m\n",
            "\u001b[?25hCollecting pyahocorasick (from textsearch>=0.0.21->contractions)\n",
            "  Downloading pyahocorasick-2.1.0-cp310-cp310-manylinux_2_5_x86_64.manylinux1_x86_64.manylinux_2_12_x86_64.manylinux2010_x86_64.whl (110 kB)\n",
            "\u001b[2K     \u001b[90m━━━━━━━━━━━━━━━━━━━━━━━━━━━━━━━━━━━━━━━━\u001b[0m \u001b[32m110.7/110.7 kB\u001b[0m \u001b[31m12.7 MB/s\u001b[0m eta \u001b[36m0:00:00\u001b[0m\n",
            "\u001b[?25hInstalling collected packages: pyahocorasick, anyascii, textsearch, contractions\n",
            "Successfully installed anyascii-0.3.2 contractions-0.1.73 pyahocorasick-2.1.0 textsearch-0.0.24\n"
          ]
        },
        {
          "output_type": "execute_result",
          "data": {
            "text/plain": [
              "\"It's time for new wallpapers #phone #wallpapers #wall #screen #galaxy #samsung #app … https://www.instagram.com/p/BcsKTNNn51c/\""
            ],
            "application/vnd.google.colaboratory.intrinsic+json": {
              "type": "string"
            }
          },
          "metadata": {},
          "execution_count": 32
        }
      ],
      "source": [
        "!pip install contractions\n",
        "import contractions\n",
        "data['tweet'][24]"
      ]
    },
    {
      "cell_type": "code",
      "execution_count": null,
      "id": "c8a417a5",
      "metadata": {
        "id": "c8a417a5",
        "outputId": "ec33161d-23a9-4835-b0a3-a6e4e7bfa1ea",
        "colab": {
          "base_uri": "https://localhost:8080/",
          "height": 52
        }
      },
      "outputs": [
        {
          "output_type": "execute_result",
          "data": {
            "text/plain": [
              "'It is time for new wallpapers #phone #wallpapers #wall #screen #galaxy #samsung #app … https://www.instagram.com/p/BcsKTNNn51c/'"
            ],
            "application/vnd.google.colaboratory.intrinsic+json": {
              "type": "string"
            }
          },
          "metadata": {},
          "execution_count": 33
        }
      ],
      "source": [
        "contractions.fix(data['tweet'][24])"
      ]
    },
    {
      "cell_type": "markdown",
      "id": "a00fd547",
      "metadata": {
        "id": "a00fd547"
      },
      "source": [
        "## Define the Cleaner Function & Apply"
      ]
    },
    {
      "cell_type": "code",
      "execution_count": null,
      "id": "6bcdc3be",
      "metadata": {
        "id": "6bcdc3be"
      },
      "outputs": [],
      "source": [
        "import re"
      ]
    },
    {
      "cell_type": "code",
      "execution_count": null,
      "id": "8be4ed4b",
      "metadata": {
        "id": "8be4ed4b"
      },
      "outputs": [],
      "source": [
        "def tweet_cleaner_without_stopwords(text):\n",
        "    new_text = re.sub(r\"'s\\b\", \" is\", text)\n",
        "    new_text = re.sub(\"#\", \"\", new_text)\n",
        "    new_text = re.sub(\"@[A-Za-z0-9]+\", \"\", new_text)\n",
        "    new_text = re.sub(r\"http\\S+\", \"\", new_text)\n",
        "    new_text = contractions.fix(new_text)\n",
        "    new_text = re.sub(r\"[^a-zA-Z]\", \" \", new_text)\n",
        "    new_text = new_text.lower().strip()\n",
        "\n",
        "    cleaned_text = ''\n",
        "    for token in new_text.split():\n",
        "        cleaned_text = cleaned_text + lemmatizer.lemmatize(token) + ' '\n",
        "\n",
        "    return cleaned_text"
      ]
    },
    {
      "cell_type": "code",
      "execution_count": null,
      "id": "5f490cc9",
      "metadata": {
        "id": "5f490cc9"
      },
      "outputs": [],
      "source": [
        "cleaned_tweets = []  # list of cleaned tweets\n",
        "for twt in data['tweet']:\n",
        "    cleaned_tweets.append(tweet_cleaner_without_stopwords(twt))"
      ]
    },
    {
      "cell_type": "code",
      "execution_count": null,
      "id": "d0ade359",
      "metadata": {
        "colab": {
          "base_uri": "https://localhost:8080/"
        },
        "id": "d0ade359",
        "outputId": "2de6d595-0ddc-454a-8895-83eb6739b80b"
      },
      "outputs": [
        {
          "output_type": "execute_result",
          "data": {
            "text/plain": [
              "['fingerprint pregnancy test android apps beautiful cute health igers iphoneonly iphonesia iphone ',\n",
              " 'finally a transparant silicon case thanks to my uncle yay sony xperia s sonyexperias ',\n",
              " 'we love this would you go talk makememories unplug relax iphone smartphone wifi connect ',\n",
              " 'i am wired i know i am george i wa made that way iphone cute daventry home ',\n",
              " 'what amazing service apple will not even talk to me about a question i have unless i pay them for their stupid support ']"
            ]
          },
          "metadata": {},
          "execution_count": 37
        }
      ],
      "source": [
        "cleaned_tweets[:5]"
      ]
    },
    {
      "cell_type": "code",
      "execution_count": null,
      "id": "c9a4d13f",
      "metadata": {
        "colab": {
          "base_uri": "https://localhost:8080/",
          "height": 35
        },
        "id": "c9a4d13f",
        "outputId": "11a3c81e-cde3-459f-f41a-530f219abbe5"
      },
      "outputs": [
        {
          "output_type": "execute_result",
          "data": {
            "text/plain": [
              "'it is time for new wallpaper phone wallpaper wall screen galaxy samsung app '"
            ],
            "application/vnd.google.colaboratory.intrinsic+json": {
              "type": "string"
            }
          },
          "metadata": {},
          "execution_count": 38
        }
      ],
      "source": [
        "cleaned_tweets[24]"
      ]
    },
    {
      "cell_type": "code",
      "execution_count": null,
      "id": "be51e00a",
      "metadata": {
        "colab": {
          "base_uri": "https://localhost:8080/",
          "height": 70
        },
        "id": "be51e00a",
        "outputId": "bcdd5b77-e450-4689-bf92-e52966b3bbcd"
      },
      "outputs": [
        {
          "output_type": "execute_result",
          "data": {
            "text/plain": [
              "'#Apple Bunch if Crooks Refused to repair/replace my beats wireless. Problem rubber on mic coming off microphones stopped working. Said warranty was void because ear piece looked chewed. Bullshit. I don’t have any animals and I would chew on anything I put in my ear. pic.twitter.com/GfgvquEpuC'"
            ],
            "application/vnd.google.colaboratory.intrinsic+json": {
              "type": "string"
            }
          },
          "metadata": {},
          "execution_count": 39
        }
      ],
      "source": [
        "data['tweet'][1500]"
      ]
    },
    {
      "cell_type": "code",
      "execution_count": null,
      "id": "6bc838c8",
      "metadata": {
        "colab": {
          "base_uri": "https://localhost:8080/"
        },
        "id": "6bc838c8",
        "outputId": "9062a4d4-fb28-42a0-8516-a9ba7497aa3f"
      },
      "outputs": [
        {
          "output_type": "execute_result",
          "data": {
            "text/plain": [
              "['#Apple',\n",
              " 'Bunch',\n",
              " 'if',\n",
              " 'Crooks',\n",
              " 'Refused',\n",
              " 'to',\n",
              " 'repair/replace',\n",
              " 'my',\n",
              " 'beats',\n",
              " 'wireless.',\n",
              " 'Problem',\n",
              " 'rubber',\n",
              " 'on',\n",
              " 'mic',\n",
              " 'coming',\n",
              " 'off',\n",
              " 'microphones',\n",
              " 'stopped',\n",
              " 'working.',\n",
              " 'Said',\n",
              " 'warranty',\n",
              " 'was',\n",
              " 'void',\n",
              " 'because',\n",
              " 'ear',\n",
              " 'piece',\n",
              " 'looked',\n",
              " 'chewed.',\n",
              " 'Bullshit.',\n",
              " 'I',\n",
              " 'don’t',\n",
              " 'have',\n",
              " 'any',\n",
              " 'animals',\n",
              " 'and',\n",
              " 'I',\n",
              " 'would',\n",
              " 'chew',\n",
              " 'on',\n",
              " 'anything',\n",
              " 'I',\n",
              " 'put',\n",
              " 'in',\n",
              " 'my',\n",
              " 'ear.',\n",
              " 'pic.twitter.com/GfgvquEpuC']"
            ]
          },
          "metadata": {},
          "execution_count": 40
        }
      ],
      "source": [
        "data['tweet'][1500].split()"
      ]
    },
    {
      "cell_type": "code",
      "execution_count": null,
      "id": "6b35606a",
      "metadata": {
        "colab": {
          "base_uri": "https://localhost:8080/",
          "height": 70
        },
        "id": "6b35606a",
        "outputId": "8603a6cf-7f47-409d-d5b2-0728f5630b93"
      },
      "outputs": [
        {
          "output_type": "execute_result",
          "data": {
            "text/plain": [
              "'apple bunch if crook refused to repair replace my beat wireless problem rubber on mic coming off microphone stopped working said warranty wa void because ear piece looked chewed bullshit i do not have any animal and i would chew on anything i put in my ear pic twitter com gfgvquepuc '"
            ],
            "application/vnd.google.colaboratory.intrinsic+json": {
              "type": "string"
            }
          },
          "metadata": {},
          "execution_count": 41
        }
      ],
      "source": [
        "cleaned_tweets[1500]"
      ]
    },
    {
      "cell_type": "code",
      "execution_count": null,
      "id": "035c3fde",
      "metadata": {
        "id": "035c3fde"
      },
      "outputs": [],
      "source": [
        "# tweet['tweet'].apply(lambda x: tweet_cleaner(x))"
      ]
    },
    {
      "cell_type": "code",
      "execution_count": null,
      "id": "578f9e75",
      "metadata": {
        "colab": {
          "base_uri": "https://localhost:8080/",
          "height": 362
        },
        "id": "578f9e75",
        "outputId": "3207ec21-387e-4a90-f7b5-86fdef4839dd"
      },
      "outputs": [
        {
          "output_type": "execute_result",
          "data": {
            "text/plain": [
              "   label  \\\n",
              "0      0   \n",
              "1      0   \n",
              "2      0   \n",
              "3      0   \n",
              "4      1   \n",
              "\n",
              "                                                                                                                                 tweet  \\\n",
              "0     #fingerprint #Pregnancy Test https://goo.gl/h1MfQV #android #apps #beautiful #cute #health #igers #iphoneonly #iphonesia #iphone   \n",
              "1  Finally a transparant silicon case ^^ Thanks to my uncle :) #yay #Sony #Xperia #S #sonyexperias… http://instagram.com/p/YGEt5JC6JM/   \n",
              "2          We love this! Would you go? #talk #makememories #unplug #relax #iphone #smartphone #wifi #connect... http://fb.me/6N3LsUpCu   \n",
              "3                     I'm wired I know I'm George I was made that way ;) #iphone #cute #daventry #home http://instagr.am/p/Li_5_ujS4k/   \n",
              "4         What amazing service! Apple won't even talk to me about a question I have unless I pay them $19.95 for their stupid support!   \n",
              "\n",
              "                                                                                                     cleaned_tweets_w/o_SW  \n",
              "0                         fingerprint pregnancy test android apps beautiful cute health igers iphoneonly iphonesia iphone   \n",
              "1                                    finally a transparant silicon case thanks to my uncle yay sony xperia s sonyexperias   \n",
              "2                                 we love this would you go talk makememories unplug relax iphone smartphone wifi connect   \n",
              "3                                              i am wired i know i am george i wa made that way iphone cute daventry home   \n",
              "4  what amazing service apple will not even talk to me about a question i have unless i pay them for their stupid support   "
            ],
            "text/html": [
              "\n",
              "  <div id=\"df-b14da8f7-bc0a-4a23-9c9c-4a9230229f49\" class=\"colab-df-container\">\n",
              "    <div>\n",
              "<style scoped>\n",
              "    .dataframe tbody tr th:only-of-type {\n",
              "        vertical-align: middle;\n",
              "    }\n",
              "\n",
              "    .dataframe tbody tr th {\n",
              "        vertical-align: top;\n",
              "    }\n",
              "\n",
              "    .dataframe thead th {\n",
              "        text-align: right;\n",
              "    }\n",
              "</style>\n",
              "<table border=\"1\" class=\"dataframe\">\n",
              "  <thead>\n",
              "    <tr style=\"text-align: right;\">\n",
              "      <th></th>\n",
              "      <th>label</th>\n",
              "      <th>tweet</th>\n",
              "      <th>cleaned_tweets_w/o_SW</th>\n",
              "    </tr>\n",
              "  </thead>\n",
              "  <tbody>\n",
              "    <tr>\n",
              "      <th>0</th>\n",
              "      <td>0</td>\n",
              "      <td>#fingerprint #Pregnancy Test https://goo.gl/h1MfQV #android #apps #beautiful #cute #health #igers #iphoneonly #iphonesia #iphone</td>\n",
              "      <td>fingerprint pregnancy test android apps beautiful cute health igers iphoneonly iphonesia iphone</td>\n",
              "    </tr>\n",
              "    <tr>\n",
              "      <th>1</th>\n",
              "      <td>0</td>\n",
              "      <td>Finally a transparant silicon case ^^ Thanks to my uncle :) #yay #Sony #Xperia #S #sonyexperias… http://instagram.com/p/YGEt5JC6JM/</td>\n",
              "      <td>finally a transparant silicon case thanks to my uncle yay sony xperia s sonyexperias</td>\n",
              "    </tr>\n",
              "    <tr>\n",
              "      <th>2</th>\n",
              "      <td>0</td>\n",
              "      <td>We love this! Would you go? #talk #makememories #unplug #relax #iphone #smartphone #wifi #connect... http://fb.me/6N3LsUpCu</td>\n",
              "      <td>we love this would you go talk makememories unplug relax iphone smartphone wifi connect</td>\n",
              "    </tr>\n",
              "    <tr>\n",
              "      <th>3</th>\n",
              "      <td>0</td>\n",
              "      <td>I'm wired I know I'm George I was made that way ;) #iphone #cute #daventry #home http://instagr.am/p/Li_5_ujS4k/</td>\n",
              "      <td>i am wired i know i am george i wa made that way iphone cute daventry home</td>\n",
              "    </tr>\n",
              "    <tr>\n",
              "      <th>4</th>\n",
              "      <td>1</td>\n",
              "      <td>What amazing service! Apple won't even talk to me about a question I have unless I pay them $19.95 for their stupid support!</td>\n",
              "      <td>what amazing service apple will not even talk to me about a question i have unless i pay them for their stupid support</td>\n",
              "    </tr>\n",
              "  </tbody>\n",
              "</table>\n",
              "</div>\n",
              "    <div class=\"colab-df-buttons\">\n",
              "\n",
              "  <div class=\"colab-df-container\">\n",
              "    <button class=\"colab-df-convert\" onclick=\"convertToInteractive('df-b14da8f7-bc0a-4a23-9c9c-4a9230229f49')\"\n",
              "            title=\"Convert this dataframe to an interactive table.\"\n",
              "            style=\"display:none;\">\n",
              "\n",
              "  <svg xmlns=\"http://www.w3.org/2000/svg\" height=\"24px\" viewBox=\"0 -960 960 960\">\n",
              "    <path d=\"M120-120v-720h720v720H120Zm60-500h600v-160H180v160Zm220 220h160v-160H400v160Zm0 220h160v-160H400v160ZM180-400h160v-160H180v160Zm440 0h160v-160H620v160ZM180-180h160v-160H180v160Zm440 0h160v-160H620v160Z\"/>\n",
              "  </svg>\n",
              "    </button>\n",
              "\n",
              "  <style>\n",
              "    .colab-df-container {\n",
              "      display:flex;\n",
              "      gap: 12px;\n",
              "    }\n",
              "\n",
              "    .colab-df-convert {\n",
              "      background-color: #E8F0FE;\n",
              "      border: none;\n",
              "      border-radius: 50%;\n",
              "      cursor: pointer;\n",
              "      display: none;\n",
              "      fill: #1967D2;\n",
              "      height: 32px;\n",
              "      padding: 0 0 0 0;\n",
              "      width: 32px;\n",
              "    }\n",
              "\n",
              "    .colab-df-convert:hover {\n",
              "      background-color: #E2EBFA;\n",
              "      box-shadow: 0px 1px 2px rgba(60, 64, 67, 0.3), 0px 1px 3px 1px rgba(60, 64, 67, 0.15);\n",
              "      fill: #174EA6;\n",
              "    }\n",
              "\n",
              "    .colab-df-buttons div {\n",
              "      margin-bottom: 4px;\n",
              "    }\n",
              "\n",
              "    [theme=dark] .colab-df-convert {\n",
              "      background-color: #3B4455;\n",
              "      fill: #D2E3FC;\n",
              "    }\n",
              "\n",
              "    [theme=dark] .colab-df-convert:hover {\n",
              "      background-color: #434B5C;\n",
              "      box-shadow: 0px 1px 3px 1px rgba(0, 0, 0, 0.15);\n",
              "      filter: drop-shadow(0px 1px 2px rgba(0, 0, 0, 0.3));\n",
              "      fill: #FFFFFF;\n",
              "    }\n",
              "  </style>\n",
              "\n",
              "    <script>\n",
              "      const buttonEl =\n",
              "        document.querySelector('#df-b14da8f7-bc0a-4a23-9c9c-4a9230229f49 button.colab-df-convert');\n",
              "      buttonEl.style.display =\n",
              "        google.colab.kernel.accessAllowed ? 'block' : 'none';\n",
              "\n",
              "      async function convertToInteractive(key) {\n",
              "        const element = document.querySelector('#df-b14da8f7-bc0a-4a23-9c9c-4a9230229f49');\n",
              "        const dataTable =\n",
              "          await google.colab.kernel.invokeFunction('convertToInteractive',\n",
              "                                                    [key], {});\n",
              "        if (!dataTable) return;\n",
              "\n",
              "        const docLinkHtml = 'Like what you see? Visit the ' +\n",
              "          '<a target=\"_blank\" href=https://colab.research.google.com/notebooks/data_table.ipynb>data table notebook</a>'\n",
              "          + ' to learn more about interactive tables.';\n",
              "        element.innerHTML = '';\n",
              "        dataTable['output_type'] = 'display_data';\n",
              "        await google.colab.output.renderOutput(dataTable, element);\n",
              "        const docLink = document.createElement('div');\n",
              "        docLink.innerHTML = docLinkHtml;\n",
              "        element.appendChild(docLink);\n",
              "      }\n",
              "    </script>\n",
              "  </div>\n",
              "\n",
              "\n",
              "<div id=\"df-b7f23bc1-ea77-4baf-8d6c-0328472632ae\">\n",
              "  <button class=\"colab-df-quickchart\" onclick=\"quickchart('df-b7f23bc1-ea77-4baf-8d6c-0328472632ae')\"\n",
              "            title=\"Suggest charts\"\n",
              "            style=\"display:none;\">\n",
              "\n",
              "<svg xmlns=\"http://www.w3.org/2000/svg\" height=\"24px\"viewBox=\"0 0 24 24\"\n",
              "     width=\"24px\">\n",
              "    <g>\n",
              "        <path d=\"M19 3H5c-1.1 0-2 .9-2 2v14c0 1.1.9 2 2 2h14c1.1 0 2-.9 2-2V5c0-1.1-.9-2-2-2zM9 17H7v-7h2v7zm4 0h-2V7h2v10zm4 0h-2v-4h2v4z\"/>\n",
              "    </g>\n",
              "</svg>\n",
              "  </button>\n",
              "\n",
              "<style>\n",
              "  .colab-df-quickchart {\n",
              "      --bg-color: #E8F0FE;\n",
              "      --fill-color: #1967D2;\n",
              "      --hover-bg-color: #E2EBFA;\n",
              "      --hover-fill-color: #174EA6;\n",
              "      --disabled-fill-color: #AAA;\n",
              "      --disabled-bg-color: #DDD;\n",
              "  }\n",
              "\n",
              "  [theme=dark] .colab-df-quickchart {\n",
              "      --bg-color: #3B4455;\n",
              "      --fill-color: #D2E3FC;\n",
              "      --hover-bg-color: #434B5C;\n",
              "      --hover-fill-color: #FFFFFF;\n",
              "      --disabled-bg-color: #3B4455;\n",
              "      --disabled-fill-color: #666;\n",
              "  }\n",
              "\n",
              "  .colab-df-quickchart {\n",
              "    background-color: var(--bg-color);\n",
              "    border: none;\n",
              "    border-radius: 50%;\n",
              "    cursor: pointer;\n",
              "    display: none;\n",
              "    fill: var(--fill-color);\n",
              "    height: 32px;\n",
              "    padding: 0;\n",
              "    width: 32px;\n",
              "  }\n",
              "\n",
              "  .colab-df-quickchart:hover {\n",
              "    background-color: var(--hover-bg-color);\n",
              "    box-shadow: 0 1px 2px rgba(60, 64, 67, 0.3), 0 1px 3px 1px rgba(60, 64, 67, 0.15);\n",
              "    fill: var(--button-hover-fill-color);\n",
              "  }\n",
              "\n",
              "  .colab-df-quickchart-complete:disabled,\n",
              "  .colab-df-quickchart-complete:disabled:hover {\n",
              "    background-color: var(--disabled-bg-color);\n",
              "    fill: var(--disabled-fill-color);\n",
              "    box-shadow: none;\n",
              "  }\n",
              "\n",
              "  .colab-df-spinner {\n",
              "    border: 2px solid var(--fill-color);\n",
              "    border-color: transparent;\n",
              "    border-bottom-color: var(--fill-color);\n",
              "    animation:\n",
              "      spin 1s steps(1) infinite;\n",
              "  }\n",
              "\n",
              "  @keyframes spin {\n",
              "    0% {\n",
              "      border-color: transparent;\n",
              "      border-bottom-color: var(--fill-color);\n",
              "      border-left-color: var(--fill-color);\n",
              "    }\n",
              "    20% {\n",
              "      border-color: transparent;\n",
              "      border-left-color: var(--fill-color);\n",
              "      border-top-color: var(--fill-color);\n",
              "    }\n",
              "    30% {\n",
              "      border-color: transparent;\n",
              "      border-left-color: var(--fill-color);\n",
              "      border-top-color: var(--fill-color);\n",
              "      border-right-color: var(--fill-color);\n",
              "    }\n",
              "    40% {\n",
              "      border-color: transparent;\n",
              "      border-right-color: var(--fill-color);\n",
              "      border-top-color: var(--fill-color);\n",
              "    }\n",
              "    60% {\n",
              "      border-color: transparent;\n",
              "      border-right-color: var(--fill-color);\n",
              "    }\n",
              "    80% {\n",
              "      border-color: transparent;\n",
              "      border-right-color: var(--fill-color);\n",
              "      border-bottom-color: var(--fill-color);\n",
              "    }\n",
              "    90% {\n",
              "      border-color: transparent;\n",
              "      border-bottom-color: var(--fill-color);\n",
              "    }\n",
              "  }\n",
              "</style>\n",
              "\n",
              "  <script>\n",
              "    async function quickchart(key) {\n",
              "      const quickchartButtonEl =\n",
              "        document.querySelector('#' + key + ' button');\n",
              "      quickchartButtonEl.disabled = true;  // To prevent multiple clicks.\n",
              "      quickchartButtonEl.classList.add('colab-df-spinner');\n",
              "      try {\n",
              "        const charts = await google.colab.kernel.invokeFunction(\n",
              "            'suggestCharts', [key], {});\n",
              "      } catch (error) {\n",
              "        console.error('Error during call to suggestCharts:', error);\n",
              "      }\n",
              "      quickchartButtonEl.classList.remove('colab-df-spinner');\n",
              "      quickchartButtonEl.classList.add('colab-df-quickchart-complete');\n",
              "    }\n",
              "    (() => {\n",
              "      let quickchartButtonEl =\n",
              "        document.querySelector('#df-b7f23bc1-ea77-4baf-8d6c-0328472632ae button');\n",
              "      quickchartButtonEl.style.display =\n",
              "        google.colab.kernel.accessAllowed ? 'block' : 'none';\n",
              "    })();\n",
              "  </script>\n",
              "</div>\n",
              "    </div>\n",
              "  </div>\n"
            ],
            "application/vnd.google.colaboratory.intrinsic+json": {
              "type": "dataframe",
              "variable_name": "data",
              "summary": "{\n  \"name\": \"data\",\n  \"rows\": 7920,\n  \"fields\": [\n    {\n      \"column\": \"label\",\n      \"properties\": {\n        \"dtype\": \"number\",\n        \"std\": 0,\n        \"min\": 0,\n        \"max\": 1,\n        \"num_unique_values\": 2,\n        \"samples\": [\n          1,\n          0\n        ],\n        \"semantic_type\": \"\",\n        \"description\": \"\"\n      }\n    },\n    {\n      \"column\": \"tweet\",\n      \"properties\": {\n        \"dtype\": \"string\",\n        \"num_unique_values\": 7918,\n        \"samples\": [\n          \"My face as dad gave me cards worth \\u00a320, 000.00 #gay #shopping #boy #macbook #apple #blonde #pickofthe http://instagr.am/p/Uo5Ue7H7A8/\",\n          \"@skullcandy your product is brutal, 1 headphone always stops working. Get it together #Sony ftw\"\n        ],\n        \"semantic_type\": \"\",\n        \"description\": \"\"\n      }\n    },\n    {\n      \"column\": \"cleaned_tweets_w/o_SW\",\n      \"properties\": {\n        \"dtype\": \"string\",\n        \"num_unique_values\": 7712,\n        \"samples\": [\n          \"samsung galaxy edge new super ebace geneva genevalake phone photo by b st n ge rge \",\n          \"the key to my heart teamminibar clubdrunkviners iphone lgbt guy lol comedy artpop heart \"\n        ],\n        \"semantic_type\": \"\",\n        \"description\": \"\"\n      }\n    }\n  ]\n}"
            }
          },
          "metadata": {},
          "execution_count": 43
        }
      ],
      "source": [
        "data['cleaned_tweets_w/o_SW'] = cleaned_tweets\n",
        "data.head()"
      ]
    },
    {
      "cell_type": "markdown",
      "id": "3453f45e",
      "metadata": {
        "id": "3453f45e"
      },
      "source": [
        "# 3. Data Visualization\n",
        "\n",
        "Plot the top 25 most common words in this tweets dataset"
      ]
    },
    {
      "cell_type": "code",
      "execution_count": null,
      "id": "cb70565b",
      "metadata": {
        "id": "cb70565b"
      },
      "outputs": [],
      "source": [
        "import matplotlib.pyplot as plt"
      ]
    },
    {
      "cell_type": "code",
      "execution_count": null,
      "id": "b8c83f18",
      "metadata": {
        "colab": {
          "base_uri": "https://localhost:8080/"
        },
        "id": "b8c83f18",
        "outputId": "2a3fa073-35a8-4e44-868c-fb9d4ab6cccc"
      },
      "outputs": [
        {
          "output_type": "stream",
          "name": "stdout",
          "text": [
            "['fingerprint', 'pregnancy', 'test', 'android', 'apps', 'beautiful', 'cute', 'health', 'igers', 'iphoneonly', 'iphonesia', 'iphone', 'finally', 'a', 'transparant', 'silicon', 'case', 'thanks', 'to', 'my', 'uncle', 'yay', 'sony', 'xperia', 's', 'sonyexperias', 'we', 'love', 'this', 'would', 'you', 'go', 'talk', 'makememories', 'unplug', 'relax', 'iphone', 'smartphone', 'wifi', 'connect', 'i', 'am', 'wired', 'i', 'know', 'i', 'am', 'george', 'i', 'wa']\n"
          ]
        }
      ],
      "source": [
        "# Write the code for plotting the cleaned tweets\n",
        "all_words = []\n",
        "for t in data['cleaned_tweets_w/o_SW']:\n",
        "    all_words.extend(t.split())\n",
        "\n",
        "print(all_words[:50])"
      ]
    },
    {
      "cell_type": "code",
      "execution_count": null,
      "id": "c3317753",
      "metadata": {
        "colab": {
          "base_uri": "https://localhost:8080/"
        },
        "id": "c3317753",
        "outputId": "2559cdea-bd99-4460-9f83-d77ab1764595"
      },
      "outputs": [
        {
          "output_type": "execute_result",
          "data": {
            "text/plain": [
              "15981"
            ]
          },
          "metadata": {},
          "execution_count": 46
        }
      ],
      "source": [
        "len(set(all_words)) # this is the number of unique words in the list in the cleaned tweets without stop words removal"
      ]
    },
    {
      "cell_type": "code",
      "execution_count": null,
      "id": "e170ffd8",
      "metadata": {
        "colab": {
          "base_uri": "https://localhost:8080/",
          "height": 481
        },
        "id": "e170ffd8",
        "outputId": "1feac332-82ac-47f2-dc01-98d9bf2c4555"
      },
      "outputs": [
        {
          "output_type": "display_data",
          "data": {
            "text/plain": [
              "<Figure size 1200x500 with 1 Axes>"
            ],
            "image/png": "[encoded data removed]"
          },
          "metadata": {}
        }
      ],
      "source": [
        "# Frequency Distribution\n",
        "freq_dist = nltk.FreqDist(all_words)\n",
        "\n",
        "plt.figure(figsize=(12,5))\n",
        "plt.title('Top 25 most common words')\n",
        "plt.xticks(fontsize=15)\n",
        "\n",
        "freq_dist.plot(25, cumulative=False)\n",
        "\n",
        "plt.show()\n"
      ]
    },
    {
      "cell_type": "code",
      "execution_count": null,
      "id": "fcfa79f5",
      "metadata": {
        "id": "fcfa79f5"
      },
      "outputs": [],
      "source": []
    },
    {
      "cell_type": "code",
      "execution_count": null,
      "id": "fc68a02c",
      "metadata": {
        "id": "fc68a02c"
      },
      "outputs": [],
      "source": []
    },
    {
      "cell_type": "markdown",
      "id": "f961f7f9",
      "metadata": {
        "id": "f961f7f9"
      },
      "source": [
        "## DV After applying Stop words"
      ]
    },
    {
      "cell_type": "code",
      "execution_count": null,
      "id": "271f2007",
      "metadata": {
        "colab": {
          "base_uri": "https://localhost:8080/"
        },
        "id": "271f2007",
        "outputId": "cd6aa2be-79d1-4cf4-a16e-178064a794cd"
      },
      "outputs": [
        {
          "output_type": "execute_result",
          "data": {
            "text/plain": [
              "set"
            ]
          },
          "metadata": {},
          "execution_count": 48
        }
      ],
      "source": [
        "type(combined_stopwords)"
      ]
    },
    {
      "cell_type": "code",
      "execution_count": null,
      "id": "ddf4f2e4",
      "metadata": {
        "id": "ddf4f2e4"
      },
      "outputs": [],
      "source": [
        "def tweet_cleaner_with_stopwords(text):\n",
        "    new_text = re.sub(r\"'s\\b\", \" is\", text)\n",
        "    new_text = re.sub(\"#\", \"\", new_text)\n",
        "    new_text = re.sub(\"@[A-Za-z0-9]+\", \"\", new_text)\n",
        "    new_text = re.sub(r\"http\\S+\", \"\", new_text)\n",
        "    new_text = contractions.fix(new_text)\n",
        "    new_text = re.sub(r\"[^a-zA-Z]\", \" \", new_text)\n",
        "    new_text = new_text.lower().strip()\n",
        "\n",
        "    new_text = [token for token in new_text.split() if token not in combined_stopwords]\n",
        "\n",
        "    new_text = [token for token in new_text if len(token)>2]\n",
        "\n",
        "    cleaned_text = ''\n",
        "    for token in new_text:\n",
        "        cleaned_text = cleaned_text + lemmatizer.lemmatize(token) + ' '\n",
        "\n",
        "    return cleaned_text"
      ]
    },
    {
      "cell_type": "code",
      "execution_count": null,
      "id": "447a63d8",
      "metadata": {
        "colab": {
          "base_uri": "https://localhost:8080/"
        },
        "id": "447a63d8",
        "outputId": "d5230198-5a9f-4fa8-f417-8f37b1e60b8b"
      },
      "outputs": [
        {
          "output_type": "stream",
          "name": "stdout",
          "text": [
            "['fingerprint pregnancy test android apps beautiful cute health igers iphoneonly iphonesia iphone ', 'finally transparant silicon case thanks uncle yay sony xperia sonyexperias ', 'love talk makememories unplug relax iphone smartphone wifi connect ', 'wired know george way iphone cute daventry home ', 'amazing service apple talk question unless pay stupid support ', 'iphone software update fucked phone big time stupid iphones ', 'happy instapic instadaily sony xperia xperiaz ', 'new type charger cable bay amazon etsy new year rob cross toby young evemun mcmafia taylor spectre newyear starting recipe technology samsunggalaxys iphonex pic twitter com pjiwq wtc ', 'bout shopping listening music iphone justme music likeforlike followforfollow ', 'photo fun selfie pool water sony camera picoftheday sun instagood boy cute outdoor ']\n"
          ]
        }
      ],
      "source": [
        "cleaned_tweets = list(data['tweet'].apply(tweet_cleaner_with_stopwords))\n",
        "print(cleaned_tweets[:10])"
      ]
    },
    {
      "cell_type": "code",
      "execution_count": null,
      "id": "08f114df",
      "metadata": {
        "colab": {
          "base_uri": "https://localhost:8080/"
        },
        "id": "08f114df",
        "outputId": "34be824f-8efd-4590-f848-e7d243e963b7"
      },
      "outputs": [
        {
          "output_type": "execute_result",
          "data": {
            "text/plain": [
              "Index(['label', 'tweet', 'cleaned_tweets_w/o_SW'], dtype='object')"
            ]
          },
          "metadata": {},
          "execution_count": 51
        }
      ],
      "source": [
        "data.columns"
      ]
    },
    {
      "cell_type": "code",
      "execution_count": null,
      "id": "15ba023d",
      "metadata": {
        "colab": {
          "base_uri": "https://localhost:8080/",
          "height": 449
        },
        "id": "15ba023d",
        "outputId": "8019995e-9b85-4d8e-f7de-593dddcf2dde"
      },
      "outputs": [
        {
          "output_type": "execute_result",
          "data": {
            "text/plain": [
              "   label  \\\n",
              "0      0   \n",
              "1      0   \n",
              "2      0   \n",
              "3      0   \n",
              "4      1   \n",
              "\n",
              "                                                                                                                                 tweet  \\\n",
              "0     #fingerprint #Pregnancy Test https://goo.gl/h1MfQV #android #apps #beautiful #cute #health #igers #iphoneonly #iphonesia #iphone   \n",
              "1  Finally a transparant silicon case ^^ Thanks to my uncle :) #yay #Sony #Xperia #S #sonyexperias… http://instagram.com/p/YGEt5JC6JM/   \n",
              "2          We love this! Would you go? #talk #makememories #unplug #relax #iphone #smartphone #wifi #connect... http://fb.me/6N3LsUpCu   \n",
              "3                     I'm wired I know I'm George I was made that way ;) #iphone #cute #daventry #home http://instagr.am/p/Li_5_ujS4k/   \n",
              "4         What amazing service! Apple won't even talk to me about a question I have unless I pay them $19.95 for their stupid support!   \n",
              "\n",
              "                                                                                                     cleaned_tweets_w/o_SW  \\\n",
              "0                         fingerprint pregnancy test android apps beautiful cute health igers iphoneonly iphonesia iphone    \n",
              "1                                    finally a transparant silicon case thanks to my uncle yay sony xperia s sonyexperias    \n",
              "2                                 we love this would you go talk makememories unplug relax iphone smartphone wifi connect    \n",
              "3                                              i am wired i know i am george i wa made that way iphone cute daventry home    \n",
              "4  what amazing service apple will not even talk to me about a question i have unless i pay them for their stupid support    \n",
              "\n",
              "                                                                             cleaned_tweets_with_SW  \n",
              "0  fingerprint pregnancy test android apps beautiful cute health igers iphoneonly iphonesia iphone   \n",
              "1                       finally transparant silicon case thanks uncle yay sony xperia sonyexperias   \n",
              "2                               love talk makememories unplug relax iphone smartphone wifi connect   \n",
              "3                                                  wired know george way iphone cute daventry home   \n",
              "4                                    amazing service apple talk question unless pay stupid support   "
            ],
            "text/html": [
              "\n",
              "  <div id=\"df-72e4051b-93f5-45b6-be02-f24dff28fb99\" class=\"colab-df-container\">\n",
              "    <div>\n",
              "<style scoped>\n",
              "    .dataframe tbody tr th:only-of-type {\n",
              "        vertical-align: middle;\n",
              "    }\n",
              "\n",
              "    .dataframe tbody tr th {\n",
              "        vertical-align: top;\n",
              "    }\n",
              "\n",
              "    .dataframe thead th {\n",
              "        text-align: right;\n",
              "    }\n",
              "</style>\n",
              "<table border=\"1\" class=\"dataframe\">\n",
              "  <thead>\n",
              "    <tr style=\"text-align: right;\">\n",
              "      <th></th>\n",
              "      <th>label</th>\n",
              "      <th>tweet</th>\n",
              "      <th>cleaned_tweets_w/o_SW</th>\n",
              "      <th>cleaned_tweets_with_SW</th>\n",
              "    </tr>\n",
              "  </thead>\n",
              "  <tbody>\n",
              "    <tr>\n",
              "      <th>0</th>\n",
              "      <td>0</td>\n",
              "      <td>#fingerprint #Pregnancy Test https://goo.gl/h1MfQV #android #apps #beautiful #cute #health #igers #iphoneonly #iphonesia #iphone</td>\n",
              "      <td>fingerprint pregnancy test android apps beautiful cute health igers iphoneonly iphonesia iphone</td>\n",
              "      <td>fingerprint pregnancy test android apps beautiful cute health igers iphoneonly iphonesia iphone</td>\n",
              "    </tr>\n",
              "    <tr>\n",
              "      <th>1</th>\n",
              "      <td>0</td>\n",
              "      <td>Finally a transparant silicon case ^^ Thanks to my uncle :) #yay #Sony #Xperia #S #sonyexperias… http://instagram.com/p/YGEt5JC6JM/</td>\n",
              "      <td>finally a transparant silicon case thanks to my uncle yay sony xperia s sonyexperias</td>\n",
              "      <td>finally transparant silicon case thanks uncle yay sony xperia sonyexperias</td>\n",
              "    </tr>\n",
              "    <tr>\n",
              "      <th>2</th>\n",
              "      <td>0</td>\n",
              "      <td>We love this! Would you go? #talk #makememories #unplug #relax #iphone #smartphone #wifi #connect... http://fb.me/6N3LsUpCu</td>\n",
              "      <td>we love this would you go talk makememories unplug relax iphone smartphone wifi connect</td>\n",
              "      <td>love talk makememories unplug relax iphone smartphone wifi connect</td>\n",
              "    </tr>\n",
              "    <tr>\n",
              "      <th>3</th>\n",
              "      <td>0</td>\n",
              "      <td>I'm wired I know I'm George I was made that way ;) #iphone #cute #daventry #home http://instagr.am/p/Li_5_ujS4k/</td>\n",
              "      <td>i am wired i know i am george i wa made that way iphone cute daventry home</td>\n",
              "      <td>wired know george way iphone cute daventry home</td>\n",
              "    </tr>\n",
              "    <tr>\n",
              "      <th>4</th>\n",
              "      <td>1</td>\n",
              "      <td>What amazing service! Apple won't even talk to me about a question I have unless I pay them $19.95 for their stupid support!</td>\n",
              "      <td>what amazing service apple will not even talk to me about a question i have unless i pay them for their stupid support</td>\n",
              "      <td>amazing service apple talk question unless pay stupid support</td>\n",
              "    </tr>\n",
              "  </tbody>\n",
              "</table>\n",
              "</div>\n",
              "    <div class=\"colab-df-buttons\">\n",
              "\n",
              "  <div class=\"colab-df-container\">\n",
              "    <button class=\"colab-df-convert\" onclick=\"convertToInteractive('df-72e4051b-93f5-45b6-be02-f24dff28fb99')\"\n",
              "            title=\"Convert this dataframe to an interactive table.\"\n",
              "            style=\"display:none;\">\n",
              "\n",
              "  <svg xmlns=\"http://www.w3.org/2000/svg\" height=\"24px\" viewBox=\"0 -960 960 960\">\n",
              "    <path d=\"M120-120v-720h720v720H120Zm60-500h600v-160H180v160Zm220 220h160v-160H400v160Zm0 220h160v-160H400v160ZM180-400h160v-160H180v160Zm440 0h160v-160H620v160ZM180-180h160v-160H180v160Zm440 0h160v-160H620v160Z\"/>\n",
              "  </svg>\n",
              "    </button>\n",
              "\n",
              "  <style>\n",
              "    .colab-df-container {\n",
              "      display:flex;\n",
              "      gap: 12px;\n",
              "    }\n",
              "\n",
              "    .colab-df-convert {\n",
              "      background-color: #E8F0FE;\n",
              "      border: none;\n",
              "      border-radius: 50%;\n",
              "      cursor: pointer;\n",
              "      display: none;\n",
              "      fill: #1967D2;\n",
              "      height: 32px;\n",
              "      padding: 0 0 0 0;\n",
              "      width: 32px;\n",
              "    }\n",
              "\n",
              "    .colab-df-convert:hover {\n",
              "      background-color: #E2EBFA;\n",
              "      box-shadow: 0px 1px 2px rgba(60, 64, 67, 0.3), 0px 1px 3px 1px rgba(60, 64, 67, 0.15);\n",
              "      fill: #174EA6;\n",
              "    }\n",
              "\n",
              "    .colab-df-buttons div {\n",
              "      margin-bottom: 4px;\n",
              "    }\n",
              "\n",
              "    [theme=dark] .colab-df-convert {\n",
              "      background-color: #3B4455;\n",
              "      fill: #D2E3FC;\n",
              "    }\n",
              "\n",
              "    [theme=dark] .colab-df-convert:hover {\n",
              "      background-color: #434B5C;\n",
              "      box-shadow: 0px 1px 3px 1px rgba(0, 0, 0, 0.15);\n",
              "      filter: drop-shadow(0px 1px 2px rgba(0, 0, 0, 0.3));\n",
              "      fill: #FFFFFF;\n",
              "    }\n",
              "  </style>\n",
              "\n",
              "    <script>\n",
              "      const buttonEl =\n",
              "        document.querySelector('#df-72e4051b-93f5-45b6-be02-f24dff28fb99 button.colab-df-convert');\n",
              "      buttonEl.style.display =\n",
              "        google.colab.kernel.accessAllowed ? 'block' : 'none';\n",
              "\n",
              "      async function convertToInteractive(key) {\n",
              "        const element = document.querySelector('#df-72e4051b-93f5-45b6-be02-f24dff28fb99');\n",
              "        const dataTable =\n",
              "          await google.colab.kernel.invokeFunction('convertToInteractive',\n",
              "                                                    [key], {});\n",
              "        if (!dataTable) return;\n",
              "\n",
              "        const docLinkHtml = 'Like what you see? Visit the ' +\n",
              "          '<a target=\"_blank\" href=https://colab.research.google.com/notebooks/data_table.ipynb>data table notebook</a>'\n",
              "          + ' to learn more about interactive tables.';\n",
              "        element.innerHTML = '';\n",
              "        dataTable['output_type'] = 'display_data';\n",
              "        await google.colab.output.renderOutput(dataTable, element);\n",
              "        const docLink = document.createElement('div');\n",
              "        docLink.innerHTML = docLinkHtml;\n",
              "        element.appendChild(docLink);\n",
              "      }\n",
              "    </script>\n",
              "  </div>\n",
              "\n",
              "\n",
              "<div id=\"df-a9696e46-3a62-4bee-aacf-0667a3ac3917\">\n",
              "  <button class=\"colab-df-quickchart\" onclick=\"quickchart('df-a9696e46-3a62-4bee-aacf-0667a3ac3917')\"\n",
              "            title=\"Suggest charts\"\n",
              "            style=\"display:none;\">\n",
              "\n",
              "<svg xmlns=\"http://www.w3.org/2000/svg\" height=\"24px\"viewBox=\"0 0 24 24\"\n",
              "     width=\"24px\">\n",
              "    <g>\n",
              "        <path d=\"M19 3H5c-1.1 0-2 .9-2 2v14c0 1.1.9 2 2 2h14c1.1 0 2-.9 2-2V5c0-1.1-.9-2-2-2zM9 17H7v-7h2v7zm4 0h-2V7h2v10zm4 0h-2v-4h2v4z\"/>\n",
              "    </g>\n",
              "</svg>\n",
              "  </button>\n",
              "\n",
              "<style>\n",
              "  .colab-df-quickchart {\n",
              "      --bg-color: #E8F0FE;\n",
              "      --fill-color: #1967D2;\n",
              "      --hover-bg-color: #E2EBFA;\n",
              "      --hover-fill-color: #174EA6;\n",
              "      --disabled-fill-color: #AAA;\n",
              "      --disabled-bg-color: #DDD;\n",
              "  }\n",
              "\n",
              "  [theme=dark] .colab-df-quickchart {\n",
              "      --bg-color: #3B4455;\n",
              "      --fill-color: #D2E3FC;\n",
              "      --hover-bg-color: #434B5C;\n",
              "      --hover-fill-color: #FFFFFF;\n",
              "      --disabled-bg-color: #3B4455;\n",
              "      --disabled-fill-color: #666;\n",
              "  }\n",
              "\n",
              "  .colab-df-quickchart {\n",
              "    background-color: var(--bg-color);\n",
              "    border: none;\n",
              "    border-radius: 50%;\n",
              "    cursor: pointer;\n",
              "    display: none;\n",
              "    fill: var(--fill-color);\n",
              "    height: 32px;\n",
              "    padding: 0;\n",
              "    width: 32px;\n",
              "  }\n",
              "\n",
              "  .colab-df-quickchart:hover {\n",
              "    background-color: var(--hover-bg-color);\n",
              "    box-shadow: 0 1px 2px rgba(60, 64, 67, 0.3), 0 1px 3px 1px rgba(60, 64, 67, 0.15);\n",
              "    fill: var(--button-hover-fill-color);\n",
              "  }\n",
              "\n",
              "  .colab-df-quickchart-complete:disabled,\n",
              "  .colab-df-quickchart-complete:disabled:hover {\n",
              "    background-color: var(--disabled-bg-color);\n",
              "    fill: var(--disabled-fill-color);\n",
              "    box-shadow: none;\n",
              "  }\n",
              "\n",
              "  .colab-df-spinner {\n",
              "    border: 2px solid var(--fill-color);\n",
              "    border-color: transparent;\n",
              "    border-bottom-color: var(--fill-color);\n",
              "    animation:\n",
              "      spin 1s steps(1) infinite;\n",
              "  }\n",
              "\n",
              "  @keyframes spin {\n",
              "    0% {\n",
              "      border-color: transparent;\n",
              "      border-bottom-color: var(--fill-color);\n",
              "      border-left-color: var(--fill-color);\n",
              "    }\n",
              "    20% {\n",
              "      border-color: transparent;\n",
              "      border-left-color: var(--fill-color);\n",
              "      border-top-color: var(--fill-color);\n",
              "    }\n",
              "    30% {\n",
              "      border-color: transparent;\n",
              "      border-left-color: var(--fill-color);\n",
              "      border-top-color: var(--fill-color);\n",
              "      border-right-color: var(--fill-color);\n",
              "    }\n",
              "    40% {\n",
              "      border-color: transparent;\n",
              "      border-right-color: var(--fill-color);\n",
              "      border-top-color: var(--fill-color);\n",
              "    }\n",
              "    60% {\n",
              "      border-color: transparent;\n",
              "      border-right-color: var(--fill-color);\n",
              "    }\n",
              "    80% {\n",
              "      border-color: transparent;\n",
              "      border-right-color: var(--fill-color);\n",
              "      border-bottom-color: var(--fill-color);\n",
              "    }\n",
              "    90% {\n",
              "      border-color: transparent;\n",
              "      border-bottom-color: var(--fill-color);\n",
              "    }\n",
              "  }\n",
              "</style>\n",
              "\n",
              "  <script>\n",
              "    async function quickchart(key) {\n",
              "      const quickchartButtonEl =\n",
              "        document.querySelector('#' + key + ' button');\n",
              "      quickchartButtonEl.disabled = true;  // To prevent multiple clicks.\n",
              "      quickchartButtonEl.classList.add('colab-df-spinner');\n",
              "      try {\n",
              "        const charts = await google.colab.kernel.invokeFunction(\n",
              "            'suggestCharts', [key], {});\n",
              "      } catch (error) {\n",
              "        console.error('Error during call to suggestCharts:', error);\n",
              "      }\n",
              "      quickchartButtonEl.classList.remove('colab-df-spinner');\n",
              "      quickchartButtonEl.classList.add('colab-df-quickchart-complete');\n",
              "    }\n",
              "    (() => {\n",
              "      let quickchartButtonEl =\n",
              "        document.querySelector('#df-a9696e46-3a62-4bee-aacf-0667a3ac3917 button');\n",
              "      quickchartButtonEl.style.display =\n",
              "        google.colab.kernel.accessAllowed ? 'block' : 'none';\n",
              "    })();\n",
              "  </script>\n",
              "</div>\n",
              "    </div>\n",
              "  </div>\n"
            ],
            "application/vnd.google.colaboratory.intrinsic+json": {
              "type": "dataframe",
              "variable_name": "data",
              "summary": "{\n  \"name\": \"data\",\n  \"rows\": 7920,\n  \"fields\": [\n    {\n      \"column\": \"label\",\n      \"properties\": {\n        \"dtype\": \"number\",\n        \"std\": 0,\n        \"min\": 0,\n        \"max\": 1,\n        \"num_unique_values\": 2,\n        \"samples\": [\n          1,\n          0\n        ],\n        \"semantic_type\": \"\",\n        \"description\": \"\"\n      }\n    },\n    {\n      \"column\": \"tweet\",\n      \"properties\": {\n        \"dtype\": \"string\",\n        \"num_unique_values\": 7918,\n        \"samples\": [\n          \"My face as dad gave me cards worth \\u00a320, 000.00 #gay #shopping #boy #macbook #apple #blonde #pickofthe http://instagr.am/p/Uo5Ue7H7A8/\",\n          \"@skullcandy your product is brutal, 1 headphone always stops working. Get it together #Sony ftw\"\n        ],\n        \"semantic_type\": \"\",\n        \"description\": \"\"\n      }\n    },\n    {\n      \"column\": \"cleaned_tweets_w/o_SW\",\n      \"properties\": {\n        \"dtype\": \"string\",\n        \"num_unique_values\": 7712,\n        \"samples\": [\n          \"samsung galaxy edge new super ebace geneva genevalake phone photo by b st n ge rge \",\n          \"the key to my heart teamminibar clubdrunkviners iphone lgbt guy lol comedy artpop heart \"\n        ],\n        \"semantic_type\": \"\",\n        \"description\": \"\"\n      }\n    },\n    {\n      \"column\": \"cleaned_tweets_with_SW\",\n      \"properties\": {\n        \"dtype\": \"string\",\n        \"num_unique_values\": 7585,\n        \"samples\": [\n          \"iphone slowly braking screen cracked charge \",\n          \"make smartphones webos palm died android sstinkybad \"\n        ],\n        \"semantic_type\": \"\",\n        \"description\": \"\"\n      }\n    }\n  ]\n}"
            }
          },
          "metadata": {},
          "execution_count": 52
        }
      ],
      "source": [
        "data['cleaned_tweets_with_SW'] = cleaned_tweets\n",
        "data.head()"
      ]
    },
    {
      "cell_type": "code",
      "execution_count": null,
      "id": "4a9cd5ff",
      "metadata": {
        "colab": {
          "base_uri": "https://localhost:8080/",
          "height": 552
        },
        "id": "4a9cd5ff",
        "outputId": "9353ba0f-be23-468a-fb63-dba897fd2886"
      },
      "outputs": [
        {
          "output_type": "stream",
          "name": "stdout",
          "text": [
            "['fingerprint', 'pregnancy', 'test', 'android', 'apps', 'beautiful', 'cute', 'health', 'igers', 'iphoneonly', 'iphonesia', 'iphone', 'finally', 'transparant', 'silicon', 'case', 'thanks', 'uncle', 'yay', 'sony', 'xperia', 'sonyexperias', 'love', 'talk', 'makememories', 'unplug', 'relax', 'iphone', 'smartphone', 'wifi', 'connect', 'wired', 'know', 'george', 'way', 'iphone', 'cute', 'daventry', 'home', 'amazing', 'service', 'apple', 'talk', 'question', 'unless', 'pay', 'stupid', 'support', 'iphone', 'software']\n"
          ]
        },
        {
          "output_type": "display_data",
          "data": {
            "text/plain": [
              "<Figure size 1200x500 with 1 Axes>"
            ],
            "image/png": "[encoded data removed]"
          },
          "metadata": {}
        }
      ],
      "source": [
        "all_words = []\n",
        "for t in data['cleaned_tweets_with_SW']:\n",
        "    all_words.extend(t.split())\n",
        "\n",
        "print(all_words[:50])\n",
        "\n",
        "# Frequency Distribution\n",
        "freq_dist = nltk.FreqDist(all_words)\n",
        "\n",
        "plt.figure(figsize=(12,5))\n",
        "plt.title('Top 25 most common words')\n",
        "plt.xticks(fontsize=15)\n",
        "\n",
        "freq_dist.plot(25, cumulative=False)\n",
        "\n",
        "plt.show()"
      ]
    },
    {
      "cell_type": "code",
      "execution_count": null,
      "id": "3c403194",
      "metadata": {
        "id": "3c403194"
      },
      "outputs": [],
      "source": [
        "domain_stopwords = ['phone', 'mobile', 'twitter', 'rt', 'com', 'follow']\n",
        "final_stopwords = domain_stopwords + list(combined_stopwords)"
      ]
    },
    {
      "cell_type": "code",
      "execution_count": null,
      "id": "5cdc409a",
      "metadata": {
        "colab": {
          "base_uri": "https://localhost:8080/",
          "height": 449
        },
        "id": "5cdc409a",
        "outputId": "cc7a5dbe-e209-40eb-e2c5-846c2b945941"
      },
      "outputs": [
        {
          "output_type": "execute_result",
          "data": {
            "text/plain": [
              "   label  \\\n",
              "0      0   \n",
              "1      0   \n",
              "2      0   \n",
              "3      0   \n",
              "4      1   \n",
              "\n",
              "                                                                                                                                 tweet  \\\n",
              "0     #fingerprint #Pregnancy Test https://goo.gl/h1MfQV #android #apps #beautiful #cute #health #igers #iphoneonly #iphonesia #iphone   \n",
              "1  Finally a transparant silicon case ^^ Thanks to my uncle :) #yay #Sony #Xperia #S #sonyexperias… http://instagram.com/p/YGEt5JC6JM/   \n",
              "2          We love this! Would you go? #talk #makememories #unplug #relax #iphone #smartphone #wifi #connect... http://fb.me/6N3LsUpCu   \n",
              "3                     I'm wired I know I'm George I was made that way ;) #iphone #cute #daventry #home http://instagr.am/p/Li_5_ujS4k/   \n",
              "4         What amazing service! Apple won't even talk to me about a question I have unless I pay them $19.95 for their stupid support!   \n",
              "\n",
              "                                                                                                     cleaned_tweets_w/o_SW  \\\n",
              "0                         fingerprint pregnancy test android apps beautiful cute health igers iphoneonly iphonesia iphone    \n",
              "1                                    finally a transparant silicon case thanks to my uncle yay sony xperia s sonyexperias    \n",
              "2                                 we love this would you go talk makememories unplug relax iphone smartphone wifi connect    \n",
              "3                                              i am wired i know i am george i wa made that way iphone cute daventry home    \n",
              "4  what amazing service apple will not even talk to me about a question i have unless i pay them for their stupid support    \n",
              "\n",
              "                                                                             cleaned_tweets_with_SW  \n",
              "0  fingerprint pregnancy test android apps beautiful cute health igers iphoneonly iphonesia iphone   \n",
              "1                       finally transparant silicon case thanks uncle yay sony xperia sonyexperias   \n",
              "2                               love talk makememories unplug relax iphone smartphone wifi connect   \n",
              "3                                                  wired know george way iphone cute daventry home   \n",
              "4                                    amazing service apple talk question unless pay stupid support   "
            ],
            "text/html": [
              "\n",
              "  <div id=\"df-ec692519-f03c-415e-b018-ddfaeab79239\" class=\"colab-df-container\">\n",
              "    <div>\n",
              "<style scoped>\n",
              "    .dataframe tbody tr th:only-of-type {\n",
              "        vertical-align: middle;\n",
              "    }\n",
              "\n",
              "    .dataframe tbody tr th {\n",
              "        vertical-align: top;\n",
              "    }\n",
              "\n",
              "    .dataframe thead th {\n",
              "        text-align: right;\n",
              "    }\n",
              "</style>\n",
              "<table border=\"1\" class=\"dataframe\">\n",
              "  <thead>\n",
              "    <tr style=\"text-align: right;\">\n",
              "      <th></th>\n",
              "      <th>label</th>\n",
              "      <th>tweet</th>\n",
              "      <th>cleaned_tweets_w/o_SW</th>\n",
              "      <th>cleaned_tweets_with_SW</th>\n",
              "    </tr>\n",
              "  </thead>\n",
              "  <tbody>\n",
              "    <tr>\n",
              "      <th>0</th>\n",
              "      <td>0</td>\n",
              "      <td>#fingerprint #Pregnancy Test https://goo.gl/h1MfQV #android #apps #beautiful #cute #health #igers #iphoneonly #iphonesia #iphone</td>\n",
              "      <td>fingerprint pregnancy test android apps beautiful cute health igers iphoneonly iphonesia iphone</td>\n",
              "      <td>fingerprint pregnancy test android apps beautiful cute health igers iphoneonly iphonesia iphone</td>\n",
              "    </tr>\n",
              "    <tr>\n",
              "      <th>1</th>\n",
              "      <td>0</td>\n",
              "      <td>Finally a transparant silicon case ^^ Thanks to my uncle :) #yay #Sony #Xperia #S #sonyexperias… http://instagram.com/p/YGEt5JC6JM/</td>\n",
              "      <td>finally a transparant silicon case thanks to my uncle yay sony xperia s sonyexperias</td>\n",
              "      <td>finally transparant silicon case thanks uncle yay sony xperia sonyexperias</td>\n",
              "    </tr>\n",
              "    <tr>\n",
              "      <th>2</th>\n",
              "      <td>0</td>\n",
              "      <td>We love this! Would you go? #talk #makememories #unplug #relax #iphone #smartphone #wifi #connect... http://fb.me/6N3LsUpCu</td>\n",
              "      <td>we love this would you go talk makememories unplug relax iphone smartphone wifi connect</td>\n",
              "      <td>love talk makememories unplug relax iphone smartphone wifi connect</td>\n",
              "    </tr>\n",
              "    <tr>\n",
              "      <th>3</th>\n",
              "      <td>0</td>\n",
              "      <td>I'm wired I know I'm George I was made that way ;) #iphone #cute #daventry #home http://instagr.am/p/Li_5_ujS4k/</td>\n",
              "      <td>i am wired i know i am george i wa made that way iphone cute daventry home</td>\n",
              "      <td>wired know george way iphone cute daventry home</td>\n",
              "    </tr>\n",
              "    <tr>\n",
              "      <th>4</th>\n",
              "      <td>1</td>\n",
              "      <td>What amazing service! Apple won't even talk to me about a question I have unless I pay them $19.95 for their stupid support!</td>\n",
              "      <td>what amazing service apple will not even talk to me about a question i have unless i pay them for their stupid support</td>\n",
              "      <td>amazing service apple talk question unless pay stupid support</td>\n",
              "    </tr>\n",
              "  </tbody>\n",
              "</table>\n",
              "</div>\n",
              "    <div class=\"colab-df-buttons\">\n",
              "\n",
              "  <div class=\"colab-df-container\">\n",
              "    <button class=\"colab-df-convert\" onclick=\"convertToInteractive('df-ec692519-f03c-415e-b018-ddfaeab79239')\"\n",
              "            title=\"Convert this dataframe to an interactive table.\"\n",
              "            style=\"display:none;\">\n",
              "\n",
              "  <svg xmlns=\"http://www.w3.org/2000/svg\" height=\"24px\" viewBox=\"0 -960 960 960\">\n",
              "    <path d=\"M120-120v-720h720v720H120Zm60-500h600v-160H180v160Zm220 220h160v-160H400v160Zm0 220h160v-160H400v160ZM180-400h160v-160H180v160Zm440 0h160v-160H620v160ZM180-180h160v-160H180v160Zm440 0h160v-160H620v160Z\"/>\n",
              "  </svg>\n",
              "    </button>\n",
              "\n",
              "  <style>\n",
              "    .colab-df-container {\n",
              "      display:flex;\n",
              "      gap: 12px;\n",
              "    }\n",
              "\n",
              "    .colab-df-convert {\n",
              "      background-color: #E8F0FE;\n",
              "      border: none;\n",
              "      border-radius: 50%;\n",
              "      cursor: pointer;\n",
              "      display: none;\n",
              "      fill: #1967D2;\n",
              "      height: 32px;\n",
              "      padding: 0 0 0 0;\n",
              "      width: 32px;\n",
              "    }\n",
              "\n",
              "    .colab-df-convert:hover {\n",
              "      background-color: #E2EBFA;\n",
              "      box-shadow: 0px 1px 2px rgba(60, 64, 67, 0.3), 0px 1px 3px 1px rgba(60, 64, 67, 0.15);\n",
              "      fill: #174EA6;\n",
              "    }\n",
              "\n",
              "    .colab-df-buttons div {\n",
              "      margin-bottom: 4px;\n",
              "    }\n",
              "\n",
              "    [theme=dark] .colab-df-convert {\n",
              "      background-color: #3B4455;\n",
              "      fill: #D2E3FC;\n",
              "    }\n",
              "\n",
              "    [theme=dark] .colab-df-convert:hover {\n",
              "      background-color: #434B5C;\n",
              "      box-shadow: 0px 1px 3px 1px rgba(0, 0, 0, 0.15);\n",
              "      filter: drop-shadow(0px 1px 2px rgba(0, 0, 0, 0.3));\n",
              "      fill: #FFFFFF;\n",
              "    }\n",
              "  </style>\n",
              "\n",
              "    <script>\n",
              "      const buttonEl =\n",
              "        document.querySelector('#df-ec692519-f03c-415e-b018-ddfaeab79239 button.colab-df-convert');\n",
              "      buttonEl.style.display =\n",
              "        google.colab.kernel.accessAllowed ? 'block' : 'none';\n",
              "\n",
              "      async function convertToInteractive(key) {\n",
              "        const element = document.querySelector('#df-ec692519-f03c-415e-b018-ddfaeab79239');\n",
              "        const dataTable =\n",
              "          await google.colab.kernel.invokeFunction('convertToInteractive',\n",
              "                                                    [key], {});\n",
              "        if (!dataTable) return;\n",
              "\n",
              "        const docLinkHtml = 'Like what you see? Visit the ' +\n",
              "          '<a target=\"_blank\" href=https://colab.research.google.com/notebooks/data_table.ipynb>data table notebook</a>'\n",
              "          + ' to learn more about interactive tables.';\n",
              "        element.innerHTML = '';\n",
              "        dataTable['output_type'] = 'display_data';\n",
              "        await google.colab.output.renderOutput(dataTable, element);\n",
              "        const docLink = document.createElement('div');\n",
              "        docLink.innerHTML = docLinkHtml;\n",
              "        element.appendChild(docLink);\n",
              "      }\n",
              "    </script>\n",
              "  </div>\n",
              "\n",
              "\n",
              "<div id=\"df-5bb0f0f1-2bc6-4a5c-aaf5-2fbc9d3406f6\">\n",
              "  <button class=\"colab-df-quickchart\" onclick=\"quickchart('df-5bb0f0f1-2bc6-4a5c-aaf5-2fbc9d3406f6')\"\n",
              "            title=\"Suggest charts\"\n",
              "            style=\"display:none;\">\n",
              "\n",
              "<svg xmlns=\"http://www.w3.org/2000/svg\" height=\"24px\"viewBox=\"0 0 24 24\"\n",
              "     width=\"24px\">\n",
              "    <g>\n",
              "        <path d=\"M19 3H5c-1.1 0-2 .9-2 2v14c0 1.1.9 2 2 2h14c1.1 0 2-.9 2-2V5c0-1.1-.9-2-2-2zM9 17H7v-7h2v7zm4 0h-2V7h2v10zm4 0h-2v-4h2v4z\"/>\n",
              "    </g>\n",
              "</svg>\n",
              "  </button>\n",
              "\n",
              "<style>\n",
              "  .colab-df-quickchart {\n",
              "      --bg-color: #E8F0FE;\n",
              "      --fill-color: #1967D2;\n",
              "      --hover-bg-color: #E2EBFA;\n",
              "      --hover-fill-color: #174EA6;\n",
              "      --disabled-fill-color: #AAA;\n",
              "      --disabled-bg-color: #DDD;\n",
              "  }\n",
              "\n",
              "  [theme=dark] .colab-df-quickchart {\n",
              "      --bg-color: #3B4455;\n",
              "      --fill-color: #D2E3FC;\n",
              "      --hover-bg-color: #434B5C;\n",
              "      --hover-fill-color: #FFFFFF;\n",
              "      --disabled-bg-color: #3B4455;\n",
              "      --disabled-fill-color: #666;\n",
              "  }\n",
              "\n",
              "  .colab-df-quickchart {\n",
              "    background-color: var(--bg-color);\n",
              "    border: none;\n",
              "    border-radius: 50%;\n",
              "    cursor: pointer;\n",
              "    display: none;\n",
              "    fill: var(--fill-color);\n",
              "    height: 32px;\n",
              "    padding: 0;\n",
              "    width: 32px;\n",
              "  }\n",
              "\n",
              "  .colab-df-quickchart:hover {\n",
              "    background-color: var(--hover-bg-color);\n",
              "    box-shadow: 0 1px 2px rgba(60, 64, 67, 0.3), 0 1px 3px 1px rgba(60, 64, 67, 0.15);\n",
              "    fill: var(--button-hover-fill-color);\n",
              "  }\n",
              "\n",
              "  .colab-df-quickchart-complete:disabled,\n",
              "  .colab-df-quickchart-complete:disabled:hover {\n",
              "    background-color: var(--disabled-bg-color);\n",
              "    fill: var(--disabled-fill-color);\n",
              "    box-shadow: none;\n",
              "  }\n",
              "\n",
              "  .colab-df-spinner {\n",
              "    border: 2px solid var(--fill-color);\n",
              "    border-color: transparent;\n",
              "    border-bottom-color: var(--fill-color);\n",
              "    animation:\n",
              "      spin 1s steps(1) infinite;\n",
              "  }\n",
              "\n",
              "  @keyframes spin {\n",
              "    0% {\n",
              "      border-color: transparent;\n",
              "      border-bottom-color: var(--fill-color);\n",
              "      border-left-color: var(--fill-color);\n",
              "    }\n",
              "    20% {\n",
              "      border-color: transparent;\n",
              "      border-left-color: var(--fill-color);\n",
              "      border-top-color: var(--fill-color);\n",
              "    }\n",
              "    30% {\n",
              "      border-color: transparent;\n",
              "      border-left-color: var(--fill-color);\n",
              "      border-top-color: var(--fill-color);\n",
              "      border-right-color: var(--fill-color);\n",
              "    }\n",
              "    40% {\n",
              "      border-color: transparent;\n",
              "      border-right-color: var(--fill-color);\n",
              "      border-top-color: var(--fill-color);\n",
              "    }\n",
              "    60% {\n",
              "      border-color: transparent;\n",
              "      border-right-color: var(--fill-color);\n",
              "    }\n",
              "    80% {\n",
              "      border-color: transparent;\n",
              "      border-right-color: var(--fill-color);\n",
              "      border-bottom-color: var(--fill-color);\n",
              "    }\n",
              "    90% {\n",
              "      border-color: transparent;\n",
              "      border-bottom-color: var(--fill-color);\n",
              "    }\n",
              "  }\n",
              "</style>\n",
              "\n",
              "  <script>\n",
              "    async function quickchart(key) {\n",
              "      const quickchartButtonEl =\n",
              "        document.querySelector('#' + key + ' button');\n",
              "      quickchartButtonEl.disabled = true;  // To prevent multiple clicks.\n",
              "      quickchartButtonEl.classList.add('colab-df-spinner');\n",
              "      try {\n",
              "        const charts = await google.colab.kernel.invokeFunction(\n",
              "            'suggestCharts', [key], {});\n",
              "      } catch (error) {\n",
              "        console.error('Error during call to suggestCharts:', error);\n",
              "      }\n",
              "      quickchartButtonEl.classList.remove('colab-df-spinner');\n",
              "      quickchartButtonEl.classList.add('colab-df-quickchart-complete');\n",
              "    }\n",
              "    (() => {\n",
              "      let quickchartButtonEl =\n",
              "        document.querySelector('#df-5bb0f0f1-2bc6-4a5c-aaf5-2fbc9d3406f6 button');\n",
              "      quickchartButtonEl.style.display =\n",
              "        google.colab.kernel.accessAllowed ? 'block' : 'none';\n",
              "    })();\n",
              "  </script>\n",
              "</div>\n",
              "    </div>\n",
              "  </div>\n"
            ],
            "application/vnd.google.colaboratory.intrinsic+json": {
              "type": "dataframe",
              "variable_name": "data",
              "summary": "{\n  \"name\": \"data\",\n  \"rows\": 7920,\n  \"fields\": [\n    {\n      \"column\": \"label\",\n      \"properties\": {\n        \"dtype\": \"number\",\n        \"std\": 0,\n        \"min\": 0,\n        \"max\": 1,\n        \"num_unique_values\": 2,\n        \"samples\": [\n          1,\n          0\n        ],\n        \"semantic_type\": \"\",\n        \"description\": \"\"\n      }\n    },\n    {\n      \"column\": \"tweet\",\n      \"properties\": {\n        \"dtype\": \"string\",\n        \"num_unique_values\": 7918,\n        \"samples\": [\n          \"My face as dad gave me cards worth \\u00a320, 000.00 #gay #shopping #boy #macbook #apple #blonde #pickofthe http://instagr.am/p/Uo5Ue7H7A8/\",\n          \"@skullcandy your product is brutal, 1 headphone always stops working. Get it together #Sony ftw\"\n        ],\n        \"semantic_type\": \"\",\n        \"description\": \"\"\n      }\n    },\n    {\n      \"column\": \"cleaned_tweets_w/o_SW\",\n      \"properties\": {\n        \"dtype\": \"string\",\n        \"num_unique_values\": 7712,\n        \"samples\": [\n          \"samsung galaxy edge new super ebace geneva genevalake phone photo by b st n ge rge \",\n          \"the key to my heart teamminibar clubdrunkviners iphone lgbt guy lol comedy artpop heart \"\n        ],\n        \"semantic_type\": \"\",\n        \"description\": \"\"\n      }\n    },\n    {\n      \"column\": \"cleaned_tweets_with_SW\",\n      \"properties\": {\n        \"dtype\": \"string\",\n        \"num_unique_values\": 7585,\n        \"samples\": [\n          \"iphone slowly braking screen cracked charge \",\n          \"make smartphones webos palm died android sstinkybad \"\n        ],\n        \"semantic_type\": \"\",\n        \"description\": \"\"\n      }\n    }\n  ]\n}"
            }
          },
          "metadata": {},
          "execution_count": 55
        }
      ],
      "source": [
        "data.head()"
      ]
    },
    {
      "cell_type": "code",
      "execution_count": null,
      "id": "c84a7724",
      "metadata": {
        "id": "c84a7724"
      },
      "outputs": [],
      "source": []
    },
    {
      "cell_type": "markdown",
      "id": "9e67d67d",
      "metadata": {
        "id": "9e67d67d"
      },
      "source": [
        "# 4. Bag of Words Model (Feature Extraction)\n",
        "\n",
        "- Countvectorizer\n",
        "- TF-IDF Vectorizer"
      ]
    },
    {
      "cell_type": "code",
      "execution_count": null,
      "id": "648429e5",
      "metadata": {
        "colab": {
          "base_uri": "https://localhost:8080/"
        },
        "id": "648429e5",
        "outputId": "27898344-3079-4df9-edae-979492aed773"
      },
      "outputs": [
        {
          "output_type": "execute_result",
          "data": {
            "text/plain": [
              "(7920, 4)"
            ]
          },
          "metadata": {},
          "execution_count": 56
        }
      ],
      "source": [
        "data.shape"
      ]
    },
    {
      "cell_type": "code",
      "execution_count": null,
      "id": "5ca6d51a",
      "metadata": {
        "id": "5ca6d51a"
      },
      "outputs": [],
      "source": [
        "from sklearn.feature_extraction.text import CountVectorizer\n",
        "\n",
        "CV = CountVectorizer()\n",
        "CV_features = CV.fit_transform(data['cleaned_tweets_w/o_SW'])\n"
      ]
    },
    {
      "cell_type": "code",
      "execution_count": null,
      "id": "00eed834",
      "metadata": {
        "colab": {
          "base_uri": "https://localhost:8080/"
        },
        "id": "00eed834",
        "outputId": "8cc25381-daa6-48eb-a5e1-e597e4d65015"
      },
      "outputs": [
        {
          "output_type": "execute_result",
          "data": {
            "text/plain": [
              "(7920, 15955)"
            ]
          },
          "metadata": {},
          "execution_count": 58
        }
      ],
      "source": [
        "CV_features.shape"
      ]
    },
    {
      "cell_type": "code",
      "execution_count": null,
      "id": "6dda76be",
      "metadata": {
        "colab": {
          "base_uri": "https://localhost:8080/"
        },
        "id": "6dda76be",
        "outputId": "95a50870-5e20-4913-8d37-82d80d7bcde9"
      },
      "outputs": [
        {
          "output_type": "execute_result",
          "data": {
            "text/plain": [
              "<1x15955 sparse matrix of type '<class 'numpy.int64'>'\n",
              "\twith 12 stored elements in Compressed Sparse Row format>"
            ]
          },
          "metadata": {},
          "execution_count": 59
        }
      ],
      "source": [
        "CV_features[0]"
      ]
    },
    {
      "cell_type": "code",
      "execution_count": null,
      "id": "d1c52ba6",
      "metadata": {
        "id": "d1c52ba6"
      },
      "outputs": [],
      "source": [
        "# df = data.copy()\n",
        "# df.columns = ['label', 'cleaned_tweets_incl_SW', 'cleaned_tweets_SW_removed', 'cleaned_tweets_SW_removed_len_gt2']\n",
        "# df.to_pickle('cleaned_tweets.pkl')\n",
        "# df.to_csv('cleaned_tweets', index=False)"
      ]
    },
    {
      "cell_type": "code",
      "execution_count": null,
      "id": "8d779cdb",
      "metadata": {
        "colab": {
          "base_uri": "https://localhost:8080/",
          "height": 186
        },
        "id": "8d779cdb",
        "outputId": "15eea60d-a250-447f-9a16-2dd606ce3889"
      },
      "outputs": [
        {
          "output_type": "execute_result",
          "data": {
            "text/plain": [
              "scipy.sparse._csr.csr_matrix"
            ],
            "text/html": [
              "<div style=\"max-width:800px; border: 1px solid var(--colab-border-color);\"><style>\n",
              "      pre.function-repr-contents {\n",
              "        overflow-x: auto;\n",
              "        padding: 8px 12px;\n",
              "        max-height: 500px;\n",
              "      }\n",
              "\n",
              "      pre.function-repr-contents.function-repr-contents-collapsed {\n",
              "        cursor: pointer;\n",
              "        max-height: 100px;\n",
              "      }\n",
              "    </style>\n",
              "    <pre style=\"white-space: initial; background:\n",
              "         var(--colab-secondary-surface-color); padding: 8px 12px;\n",
              "         border-bottom: 1px solid var(--colab-border-color);\"><b>scipy.sparse._csr.csr_matrix</b><br/>def __init__(arg1, shape=None, dtype=None, copy=False)</pre><pre class=\"function-repr-contents function-repr-contents-collapsed\" style=\"\"><a class=\"filepath\" style=\"display:none\" href=\"#\">/usr/local/lib/python3.10/dist-packages/scipy/sparse/_csr.py</a>Compressed Sparse Row matrix\n",
              "\n",
              "This can be instantiated in several ways:\n",
              "    csr_array(D)\n",
              "        with a dense matrix or rank-2 ndarray D\n",
              "\n",
              "    csr_array(S)\n",
              "        with another sparse matrix S (equivalent to S.tocsr())\n",
              "\n",
              "    csr_array((M, N), [dtype])\n",
              "        to construct an empty matrix with shape (M, N)\n",
              "        dtype is optional, defaulting to dtype=&#x27;d&#x27;.\n",
              "\n",
              "    csr_array((data, (row_ind, col_ind)), [shape=(M, N)])\n",
              "        where ``data``, ``row_ind`` and ``col_ind`` satisfy the\n",
              "        relationship ``a[row_ind[k], col_ind[k]] = data[k]``.\n",
              "\n",
              "    csr_array((data, indices, indptr), [shape=(M, N)])\n",
              "        is the standard CSR representation where the column indices for\n",
              "        row i are stored in ``indices[indptr[i]:indptr[i+1]]`` and their\n",
              "        corresponding values are stored in ``data[indptr[i]:indptr[i+1]]``.\n",
              "        If the shape parameter is not supplied, the matrix dimensions\n",
              "        are inferred from the index arrays.\n",
              "\n",
              "Attributes\n",
              "----------\n",
              "dtype : dtype\n",
              "    Data type of the matrix\n",
              "shape : 2-tuple\n",
              "    Shape of the matrix\n",
              "ndim : int\n",
              "    Number of dimensions (this is always 2)\n",
              "nnz\n",
              "    Number of stored values, including explicit zeros\n",
              "data\n",
              "    CSR format data array of the matrix\n",
              "indices\n",
              "    CSR format index array of the matrix\n",
              "indptr\n",
              "    CSR format index pointer array of the matrix\n",
              "has_sorted_indices\n",
              "    Whether indices are sorted\n",
              "\n",
              "Notes\n",
              "-----\n",
              "\n",
              "Sparse matrices can be used in arithmetic operations: they support\n",
              "addition, subtraction, multiplication, division, and matrix power.\n",
              "\n",
              "Advantages of the CSR format\n",
              "  - efficient arithmetic operations CSR + CSR, CSR * CSR, etc.\n",
              "  - efficient row slicing\n",
              "  - fast matrix vector products\n",
              "\n",
              "Disadvantages of the CSR format\n",
              "  - slow column slicing operations (consider CSC)\n",
              "  - changes to the sparsity structure are expensive (consider LIL or DOK)\n",
              "\n",
              "Canonical Format\n",
              "    - Within each row, indices are sorted by column.\n",
              "    - There are no duplicate entries.\n",
              "\n",
              "Examples\n",
              "--------\n",
              "\n",
              "&gt;&gt;&gt; import numpy as np\n",
              "&gt;&gt;&gt; from scipy.sparse import csr_array\n",
              "&gt;&gt;&gt; csr_array((3, 4), dtype=np.int8).toarray()\n",
              "array([[0, 0, 0, 0],\n",
              "       [0, 0, 0, 0],\n",
              "       [0, 0, 0, 0]], dtype=int8)\n",
              "\n",
              "&gt;&gt;&gt; row = np.array([0, 0, 1, 2, 2, 2])\n",
              "&gt;&gt;&gt; col = np.array([0, 2, 2, 0, 1, 2])\n",
              "&gt;&gt;&gt; data = np.array([1, 2, 3, 4, 5, 6])\n",
              "&gt;&gt;&gt; csr_array((data, (row, col)), shape=(3, 3)).toarray()\n",
              "array([[1, 0, 2],\n",
              "       [0, 0, 3],\n",
              "       [4, 5, 6]])\n",
              "\n",
              "&gt;&gt;&gt; indptr = np.array([0, 2, 3, 6])\n",
              "&gt;&gt;&gt; indices = np.array([0, 2, 2, 0, 1, 2])\n",
              "&gt;&gt;&gt; data = np.array([1, 2, 3, 4, 5, 6])\n",
              "&gt;&gt;&gt; csr_array((data, indices, indptr), shape=(3, 3)).toarray()\n",
              "array([[1, 0, 2],\n",
              "       [0, 0, 3],\n",
              "       [4, 5, 6]])\n",
              "\n",
              "Duplicate entries are summed together:\n",
              "\n",
              "&gt;&gt;&gt; row = np.array([0, 1, 2, 0])\n",
              "&gt;&gt;&gt; col = np.array([0, 1, 1, 0])\n",
              "&gt;&gt;&gt; data = np.array([1, 2, 4, 8])\n",
              "&gt;&gt;&gt; csr_array((data, (row, col)), shape=(3, 3)).toarray()\n",
              "array([[9, 0, 0],\n",
              "       [0, 2, 0],\n",
              "       [0, 4, 0]])\n",
              "\n",
              "As an example of how to construct a CSR matrix incrementally,\n",
              "the following snippet builds a term-document matrix from texts:\n",
              "\n",
              "&gt;&gt;&gt; docs = [[&quot;hello&quot;, &quot;world&quot;, &quot;hello&quot;], [&quot;goodbye&quot;, &quot;cruel&quot;, &quot;world&quot;]]\n",
              "&gt;&gt;&gt; indptr = [0]\n",
              "&gt;&gt;&gt; indices = []\n",
              "&gt;&gt;&gt; data = []\n",
              "&gt;&gt;&gt; vocabulary = {}\n",
              "&gt;&gt;&gt; for d in docs:\n",
              "...     for term in d:\n",
              "...         index = vocabulary.setdefault(term, len(vocabulary))\n",
              "...         indices.append(index)\n",
              "...         data.append(1)\n",
              "...     indptr.append(len(indices))\n",
              "...\n",
              "&gt;&gt;&gt; csr_array((data, indices, indptr), dtype=int).toarray()\n",
              "array([[2, 1, 0, 0],\n",
              "       [0, 1, 1, 1]])</pre>\n",
              "      <script>\n",
              "      if (google.colab.kernel.accessAllowed && google.colab.files && google.colab.files.view) {\n",
              "        for (const element of document.querySelectorAll('.filepath')) {\n",
              "          element.style.display = 'block'\n",
              "          element.onclick = (event) => {\n",
              "            event.preventDefault();\n",
              "            event.stopPropagation();\n",
              "            google.colab.files.view(element.textContent, 370);\n",
              "          };\n",
              "        }\n",
              "      }\n",
              "      for (const element of document.querySelectorAll('.function-repr-contents')) {\n",
              "        element.onclick = (event) => {\n",
              "          event.preventDefault();\n",
              "          event.stopPropagation();\n",
              "          element.classList.toggle('function-repr-contents-collapsed');\n",
              "        };\n",
              "      }\n",
              "      </script>\n",
              "      </div>"
            ]
          },
          "metadata": {},
          "execution_count": 61
        }
      ],
      "source": [
        "type(CV_features[0])  # each row is a compressed spare row"
      ]
    },
    {
      "cell_type": "code",
      "execution_count": null,
      "id": "96fd0554",
      "metadata": {
        "colab": {
          "base_uri": "https://localhost:8080/"
        },
        "id": "96fd0554",
        "outputId": "16d28716-1f6c-4d4b-b004-58685e8f96b7"
      },
      "outputs": [
        {
          "output_type": "execute_result",
          "data": {
            "text/plain": [
              "matrix([[0, 0, 0, ..., 0, 0, 0]])"
            ]
          },
          "metadata": {},
          "execution_count": 62
        }
      ],
      "source": [
        "CV_features[0].todense()  # decompressing the CSR data"
      ]
    },
    {
      "cell_type": "code",
      "execution_count": null,
      "id": "740fd79c",
      "metadata": {
        "colab": {
          "base_uri": "https://localhost:8080/",
          "height": 443
        },
        "id": "740fd79c",
        "outputId": "a0e1a74a-e3ef-4601-cdc4-020a0bb3b1b3"
      },
      "outputs": [
        {
          "output_type": "execute_result",
          "data": {
            "text/plain": [
              "      0      1      2      3      4      5      6      7      8      9      \\\n",
              "0         0      0      0      0      0      0      0      0      0      0   \n",
              "1         0      0      0      0      0      0      0      0      0      0   \n",
              "2         0      0      0      0      0      0      0      0      0      0   \n",
              "3         0      0      0      0      0      0      0      0      0      0   \n",
              "4         0      0      0      0      0      0      0      0      0      0   \n",
              "...     ...    ...    ...    ...    ...    ...    ...    ...    ...    ...   \n",
              "7915      0      0      0      0      0      0      0      0      0      0   \n",
              "7916      0      0      0      0      0      0      0      0      0      0   \n",
              "7917      0      0      0      0      0      0      0      0      0      0   \n",
              "7918      0      0      0      0      0      0      0      0      0      0   \n",
              "7919      0      0      0      0      0      0      0      0      0      0   \n",
              "\n",
              "      ...  15945  15946  15947  15948  15949  15950  15951  15952  15953  \\\n",
              "0     ...      0      0      0      0      0      0      0      0      0   \n",
              "1     ...      0      0      0      0      0      0      0      0      0   \n",
              "2     ...      0      0      0      0      0      0      0      0      0   \n",
              "3     ...      0      0      0      0      0      0      0      0      0   \n",
              "4     ...      0      0      0      0      0      0      0      0      0   \n",
              "...   ...    ...    ...    ...    ...    ...    ...    ...    ...    ...   \n",
              "7915  ...      0      0      0      0      0      0      0      0      0   \n",
              "7916  ...      0      0      0      0      0      0      0      0      0   \n",
              "7917  ...      0      0      0      0      0      0      0      0      0   \n",
              "7918  ...      0      0      0      0      0      0      0      0      0   \n",
              "7919  ...      0      0      0      0      0      0      0      0      0   \n",
              "\n",
              "      15954  \n",
              "0         0  \n",
              "1         0  \n",
              "2         0  \n",
              "3         0  \n",
              "4         0  \n",
              "...     ...  \n",
              "7915      0  \n",
              "7916      0  \n",
              "7917      0  \n",
              "7918      0  \n",
              "7919      0  \n",
              "\n",
              "[7920 rows x 15955 columns]"
            ],
            "text/html": [
              "\n",
              "  <div id=\"df-b17dcb3f-ca75-4387-a136-b9f18772e887\" class=\"colab-df-container\">\n",
              "    <div>\n",
              "<style scoped>\n",
              "    .dataframe tbody tr th:only-of-type {\n",
              "        vertical-align: middle;\n",
              "    }\n",
              "\n",
              "    .dataframe tbody tr th {\n",
              "        vertical-align: top;\n",
              "    }\n",
              "\n",
              "    .dataframe thead th {\n",
              "        text-align: right;\n",
              "    }\n",
              "</style>\n",
              "<table border=\"1\" class=\"dataframe\">\n",
              "  <thead>\n",
              "    <tr style=\"text-align: right;\">\n",
              "      <th></th>\n",
              "      <th>0</th>\n",
              "      <th>1</th>\n",
              "      <th>2</th>\n",
              "      <th>3</th>\n",
              "      <th>4</th>\n",
              "      <th>5</th>\n",
              "      <th>6</th>\n",
              "      <th>7</th>\n",
              "      <th>8</th>\n",
              "      <th>9</th>\n",
              "      <th>...</th>\n",
              "      <th>15945</th>\n",
              "      <th>15946</th>\n",
              "      <th>15947</th>\n",
              "      <th>15948</th>\n",
              "      <th>15949</th>\n",
              "      <th>15950</th>\n",
              "      <th>15951</th>\n",
              "      <th>15952</th>\n",
              "      <th>15953</th>\n",
              "      <th>15954</th>\n",
              "    </tr>\n",
              "  </thead>\n",
              "  <tbody>\n",
              "    <tr>\n",
              "      <th>0</th>\n",
              "      <td>0</td>\n",
              "      <td>0</td>\n",
              "      <td>0</td>\n",
              "      <td>0</td>\n",
              "      <td>0</td>\n",
              "      <td>0</td>\n",
              "      <td>0</td>\n",
              "      <td>0</td>\n",
              "      <td>0</td>\n",
              "      <td>0</td>\n",
              "      <td>...</td>\n",
              "      <td>0</td>\n",
              "      <td>0</td>\n",
              "      <td>0</td>\n",
              "      <td>0</td>\n",
              "      <td>0</td>\n",
              "      <td>0</td>\n",
              "      <td>0</td>\n",
              "      <td>0</td>\n",
              "      <td>0</td>\n",
              "      <td>0</td>\n",
              "    </tr>\n",
              "    <tr>\n",
              "      <th>1</th>\n",
              "      <td>0</td>\n",
              "      <td>0</td>\n",
              "      <td>0</td>\n",
              "      <td>0</td>\n",
              "      <td>0</td>\n",
              "      <td>0</td>\n",
              "      <td>0</td>\n",
              "      <td>0</td>\n",
              "      <td>0</td>\n",
              "      <td>0</td>\n",
              "      <td>...</td>\n",
              "      <td>0</td>\n",
              "      <td>0</td>\n",
              "      <td>0</td>\n",
              "      <td>0</td>\n",
              "      <td>0</td>\n",
              "      <td>0</td>\n",
              "      <td>0</td>\n",
              "      <td>0</td>\n",
              "      <td>0</td>\n",
              "      <td>0</td>\n",
              "    </tr>\n",
              "    <tr>\n",
              "      <th>2</th>\n",
              "      <td>0</td>\n",
              "      <td>0</td>\n",
              "      <td>0</td>\n",
              "      <td>0</td>\n",
              "      <td>0</td>\n",
              "      <td>0</td>\n",
              "      <td>0</td>\n",
              "      <td>0</td>\n",
              "      <td>0</td>\n",
              "      <td>0</td>\n",
              "      <td>...</td>\n",
              "      <td>0</td>\n",
              "      <td>0</td>\n",
              "      <td>0</td>\n",
              "      <td>0</td>\n",
              "      <td>0</td>\n",
              "      <td>0</td>\n",
              "      <td>0</td>\n",
              "      <td>0</td>\n",
              "      <td>0</td>\n",
              "      <td>0</td>\n",
              "    </tr>\n",
              "    <tr>\n",
              "      <th>3</th>\n",
              "      <td>0</td>\n",
              "      <td>0</td>\n",
              "      <td>0</td>\n",
              "      <td>0</td>\n",
              "      <td>0</td>\n",
              "      <td>0</td>\n",
              "      <td>0</td>\n",
              "      <td>0</td>\n",
              "      <td>0</td>\n",
              "      <td>0</td>\n",
              "      <td>...</td>\n",
              "      <td>0</td>\n",
              "      <td>0</td>\n",
              "      <td>0</td>\n",
              "      <td>0</td>\n",
              "      <td>0</td>\n",
              "      <td>0</td>\n",
              "      <td>0</td>\n",
              "      <td>0</td>\n",
              "      <td>0</td>\n",
              "      <td>0</td>\n",
              "    </tr>\n",
              "    <tr>\n",
              "      <th>4</th>\n",
              "      <td>0</td>\n",
              "      <td>0</td>\n",
              "      <td>0</td>\n",
              "      <td>0</td>\n",
              "      <td>0</td>\n",
              "      <td>0</td>\n",
              "      <td>0</td>\n",
              "      <td>0</td>\n",
              "      <td>0</td>\n",
              "      <td>0</td>\n",
              "      <td>...</td>\n",
              "      <td>0</td>\n",
              "      <td>0</td>\n",
              "      <td>0</td>\n",
              "      <td>0</td>\n",
              "      <td>0</td>\n",
              "      <td>0</td>\n",
              "      <td>0</td>\n",
              "      <td>0</td>\n",
              "      <td>0</td>\n",
              "      <td>0</td>\n",
              "    </tr>\n",
              "    <tr>\n",
              "      <th>...</th>\n",
              "      <td>...</td>\n",
              "      <td>...</td>\n",
              "      <td>...</td>\n",
              "      <td>...</td>\n",
              "      <td>...</td>\n",
              "      <td>...</td>\n",
              "      <td>...</td>\n",
              "      <td>...</td>\n",
              "      <td>...</td>\n",
              "      <td>...</td>\n",
              "      <td>...</td>\n",
              "      <td>...</td>\n",
              "      <td>...</td>\n",
              "      <td>...</td>\n",
              "      <td>...</td>\n",
              "      <td>...</td>\n",
              "      <td>...</td>\n",
              "      <td>...</td>\n",
              "      <td>...</td>\n",
              "      <td>...</td>\n",
              "      <td>...</td>\n",
              "    </tr>\n",
              "    <tr>\n",
              "      <th>7915</th>\n",
              "      <td>0</td>\n",
              "      <td>0</td>\n",
              "      <td>0</td>\n",
              "      <td>0</td>\n",
              "      <td>0</td>\n",
              "      <td>0</td>\n",
              "      <td>0</td>\n",
              "      <td>0</td>\n",
              "      <td>0</td>\n",
              "      <td>0</td>\n",
              "      <td>...</td>\n",
              "      <td>0</td>\n",
              "      <td>0</td>\n",
              "      <td>0</td>\n",
              "      <td>0</td>\n",
              "      <td>0</td>\n",
              "      <td>0</td>\n",
              "      <td>0</td>\n",
              "      <td>0</td>\n",
              "      <td>0</td>\n",
              "      <td>0</td>\n",
              "    </tr>\n",
              "    <tr>\n",
              "      <th>7916</th>\n",
              "      <td>0</td>\n",
              "      <td>0</td>\n",
              "      <td>0</td>\n",
              "      <td>0</td>\n",
              "      <td>0</td>\n",
              "      <td>0</td>\n",
              "      <td>0</td>\n",
              "      <td>0</td>\n",
              "      <td>0</td>\n",
              "      <td>0</td>\n",
              "      <td>...</td>\n",
              "      <td>0</td>\n",
              "      <td>0</td>\n",
              "      <td>0</td>\n",
              "      <td>0</td>\n",
              "      <td>0</td>\n",
              "      <td>0</td>\n",
              "      <td>0</td>\n",
              "      <td>0</td>\n",
              "      <td>0</td>\n",
              "      <td>0</td>\n",
              "    </tr>\n",
              "    <tr>\n",
              "      <th>7917</th>\n",
              "      <td>0</td>\n",
              "      <td>0</td>\n",
              "      <td>0</td>\n",
              "      <td>0</td>\n",
              "      <td>0</td>\n",
              "      <td>0</td>\n",
              "      <td>0</td>\n",
              "      <td>0</td>\n",
              "      <td>0</td>\n",
              "      <td>0</td>\n",
              "      <td>...</td>\n",
              "      <td>0</td>\n",
              "      <td>0</td>\n",
              "      <td>0</td>\n",
              "      <td>0</td>\n",
              "      <td>0</td>\n",
              "      <td>0</td>\n",
              "      <td>0</td>\n",
              "      <td>0</td>\n",
              "      <td>0</td>\n",
              "      <td>0</td>\n",
              "    </tr>\n",
              "    <tr>\n",
              "      <th>7918</th>\n",
              "      <td>0</td>\n",
              "      <td>0</td>\n",
              "      <td>0</td>\n",
              "      <td>0</td>\n",
              "      <td>0</td>\n",
              "      <td>0</td>\n",
              "      <td>0</td>\n",
              "      <td>0</td>\n",
              "      <td>0</td>\n",
              "      <td>0</td>\n",
              "      <td>...</td>\n",
              "      <td>0</td>\n",
              "      <td>0</td>\n",
              "      <td>0</td>\n",
              "      <td>0</td>\n",
              "      <td>0</td>\n",
              "      <td>0</td>\n",
              "      <td>0</td>\n",
              "      <td>0</td>\n",
              "      <td>0</td>\n",
              "      <td>0</td>\n",
              "    </tr>\n",
              "    <tr>\n",
              "      <th>7919</th>\n",
              "      <td>0</td>\n",
              "      <td>0</td>\n",
              "      <td>0</td>\n",
              "      <td>0</td>\n",
              "      <td>0</td>\n",
              "      <td>0</td>\n",
              "      <td>0</td>\n",
              "      <td>0</td>\n",
              "      <td>0</td>\n",
              "      <td>0</td>\n",
              "      <td>...</td>\n",
              "      <td>0</td>\n",
              "      <td>0</td>\n",
              "      <td>0</td>\n",
              "      <td>0</td>\n",
              "      <td>0</td>\n",
              "      <td>0</td>\n",
              "      <td>0</td>\n",
              "      <td>0</td>\n",
              "      <td>0</td>\n",
              "      <td>0</td>\n",
              "    </tr>\n",
              "  </tbody>\n",
              "</table>\n",
              "<p>7920 rows × 15955 columns</p>\n",
              "</div>\n",
              "    <div class=\"colab-df-buttons\">\n",
              "\n",
              "  <div class=\"colab-df-container\">\n",
              "    <button class=\"colab-df-convert\" onclick=\"convertToInteractive('df-b17dcb3f-ca75-4387-a136-b9f18772e887')\"\n",
              "            title=\"Convert this dataframe to an interactive table.\"\n",
              "            style=\"display:none;\">\n",
              "\n",
              "  <svg xmlns=\"http://www.w3.org/2000/svg\" height=\"24px\" viewBox=\"0 -960 960 960\">\n",
              "    <path d=\"M120-120v-720h720v720H120Zm60-500h600v-160H180v160Zm220 220h160v-160H400v160Zm0 220h160v-160H400v160ZM180-400h160v-160H180v160Zm440 0h160v-160H620v160ZM180-180h160v-160H180v160Zm440 0h160v-160H620v160Z\"/>\n",
              "  </svg>\n",
              "    </button>\n",
              "\n",
              "  <style>\n",
              "    .colab-df-container {\n",
              "      display:flex;\n",
              "      gap: 12px;\n",
              "    }\n",
              "\n",
              "    .colab-df-convert {\n",
              "      background-color: #E8F0FE;\n",
              "      border: none;\n",
              "      border-radius: 50%;\n",
              "      cursor: pointer;\n",
              "      display: none;\n",
              "      fill: #1967D2;\n",
              "      height: 32px;\n",
              "      padding: 0 0 0 0;\n",
              "      width: 32px;\n",
              "    }\n",
              "\n",
              "    .colab-df-convert:hover {\n",
              "      background-color: #E2EBFA;\n",
              "      box-shadow: 0px 1px 2px rgba(60, 64, 67, 0.3), 0px 1px 3px 1px rgba(60, 64, 67, 0.15);\n",
              "      fill: #174EA6;\n",
              "    }\n",
              "\n",
              "    .colab-df-buttons div {\n",
              "      margin-bottom: 4px;\n",
              "    }\n",
              "\n",
              "    [theme=dark] .colab-df-convert {\n",
              "      background-color: #3B4455;\n",
              "      fill: #D2E3FC;\n",
              "    }\n",
              "\n",
              "    [theme=dark] .colab-df-convert:hover {\n",
              "      background-color: #434B5C;\n",
              "      box-shadow: 0px 1px 3px 1px rgba(0, 0, 0, 0.15);\n",
              "      filter: drop-shadow(0px 1px 2px rgba(0, 0, 0, 0.3));\n",
              "      fill: #FFFFFF;\n",
              "    }\n",
              "  </style>\n",
              "\n",
              "    <script>\n",
              "      const buttonEl =\n",
              "        document.querySelector('#df-b17dcb3f-ca75-4387-a136-b9f18772e887 button.colab-df-convert');\n",
              "      buttonEl.style.display =\n",
              "        google.colab.kernel.accessAllowed ? 'block' : 'none';\n",
              "\n",
              "      async function convertToInteractive(key) {\n",
              "        const element = document.querySelector('#df-b17dcb3f-ca75-4387-a136-b9f18772e887');\n",
              "        const dataTable =\n",
              "          await google.colab.kernel.invokeFunction('convertToInteractive',\n",
              "                                                    [key], {});\n",
              "        if (!dataTable) return;\n",
              "\n",
              "        const docLinkHtml = 'Like what you see? Visit the ' +\n",
              "          '<a target=\"_blank\" href=https://colab.research.google.com/notebooks/data_table.ipynb>data table notebook</a>'\n",
              "          + ' to learn more about interactive tables.';\n",
              "        element.innerHTML = '';\n",
              "        dataTable['output_type'] = 'display_data';\n",
              "        await google.colab.output.renderOutput(dataTable, element);\n",
              "        const docLink = document.createElement('div');\n",
              "        docLink.innerHTML = docLinkHtml;\n",
              "        element.appendChild(docLink);\n",
              "      }\n",
              "    </script>\n",
              "  </div>\n",
              "\n",
              "\n",
              "<div id=\"df-c0f29b03-405b-4a8e-9831-45335da9dd44\">\n",
              "  <button class=\"colab-df-quickchart\" onclick=\"quickchart('df-c0f29b03-405b-4a8e-9831-45335da9dd44')\"\n",
              "            title=\"Suggest charts\"\n",
              "            style=\"display:none;\">\n",
              "\n",
              "<svg xmlns=\"http://www.w3.org/2000/svg\" height=\"24px\"viewBox=\"0 0 24 24\"\n",
              "     width=\"24px\">\n",
              "    <g>\n",
              "        <path d=\"M19 3H5c-1.1 0-2 .9-2 2v14c0 1.1.9 2 2 2h14c1.1 0 2-.9 2-2V5c0-1.1-.9-2-2-2zM9 17H7v-7h2v7zm4 0h-2V7h2v10zm4 0h-2v-4h2v4z\"/>\n",
              "    </g>\n",
              "</svg>\n",
              "  </button>\n",
              "\n",
              "<style>\n",
              "  .colab-df-quickchart {\n",
              "      --bg-color: #E8F0FE;\n",
              "      --fill-color: #1967D2;\n",
              "      --hover-bg-color: #E2EBFA;\n",
              "      --hover-fill-color: #174EA6;\n",
              "      --disabled-fill-color: #AAA;\n",
              "      --disabled-bg-color: #DDD;\n",
              "  }\n",
              "\n",
              "  [theme=dark] .colab-df-quickchart {\n",
              "      --bg-color: #3B4455;\n",
              "      --fill-color: #D2E3FC;\n",
              "      --hover-bg-color: #434B5C;\n",
              "      --hover-fill-color: #FFFFFF;\n",
              "      --disabled-bg-color: #3B4455;\n",
              "      --disabled-fill-color: #666;\n",
              "  }\n",
              "\n",
              "  .colab-df-quickchart {\n",
              "    background-color: var(--bg-color);\n",
              "    border: none;\n",
              "    border-radius: 50%;\n",
              "    cursor: pointer;\n",
              "    display: none;\n",
              "    fill: var(--fill-color);\n",
              "    height: 32px;\n",
              "    padding: 0;\n",
              "    width: 32px;\n",
              "  }\n",
              "\n",
              "  .colab-df-quickchart:hover {\n",
              "    background-color: var(--hover-bg-color);\n",
              "    box-shadow: 0 1px 2px rgba(60, 64, 67, 0.3), 0 1px 3px 1px rgba(60, 64, 67, 0.15);\n",
              "    fill: var(--button-hover-fill-color);\n",
              "  }\n",
              "\n",
              "  .colab-df-quickchart-complete:disabled,\n",
              "  .colab-df-quickchart-complete:disabled:hover {\n",
              "    background-color: var(--disabled-bg-color);\n",
              "    fill: var(--disabled-fill-color);\n",
              "    box-shadow: none;\n",
              "  }\n",
              "\n",
              "  .colab-df-spinner {\n",
              "    border: 2px solid var(--fill-color);\n",
              "    border-color: transparent;\n",
              "    border-bottom-color: var(--fill-color);\n",
              "    animation:\n",
              "      spin 1s steps(1) infinite;\n",
              "  }\n",
              "\n",
              "  @keyframes spin {\n",
              "    0% {\n",
              "      border-color: transparent;\n",
              "      border-bottom-color: var(--fill-color);\n",
              "      border-left-color: var(--fill-color);\n",
              "    }\n",
              "    20% {\n",
              "      border-color: transparent;\n",
              "      border-left-color: var(--fill-color);\n",
              "      border-top-color: var(--fill-color);\n",
              "    }\n",
              "    30% {\n",
              "      border-color: transparent;\n",
              "      border-left-color: var(--fill-color);\n",
              "      border-top-color: var(--fill-color);\n",
              "      border-right-color: var(--fill-color);\n",
              "    }\n",
              "    40% {\n",
              "      border-color: transparent;\n",
              "      border-right-color: var(--fill-color);\n",
              "      border-top-color: var(--fill-color);\n",
              "    }\n",
              "    60% {\n",
              "      border-color: transparent;\n",
              "      border-right-color: var(--fill-color);\n",
              "    }\n",
              "    80% {\n",
              "      border-color: transparent;\n",
              "      border-right-color: var(--fill-color);\n",
              "      border-bottom-color: var(--fill-color);\n",
              "    }\n",
              "    90% {\n",
              "      border-color: transparent;\n",
              "      border-bottom-color: var(--fill-color);\n",
              "    }\n",
              "  }\n",
              "</style>\n",
              "\n",
              "  <script>\n",
              "    async function quickchart(key) {\n",
              "      const quickchartButtonEl =\n",
              "        document.querySelector('#' + key + ' button');\n",
              "      quickchartButtonEl.disabled = true;  // To prevent multiple clicks.\n",
              "      quickchartButtonEl.classList.add('colab-df-spinner');\n",
              "      try {\n",
              "        const charts = await google.colab.kernel.invokeFunction(\n",
              "            'suggestCharts', [key], {});\n",
              "      } catch (error) {\n",
              "        console.error('Error during call to suggestCharts:', error);\n",
              "      }\n",
              "      quickchartButtonEl.classList.remove('colab-df-spinner');\n",
              "      quickchartButtonEl.classList.add('colab-df-quickchart-complete');\n",
              "    }\n",
              "    (() => {\n",
              "      let quickchartButtonEl =\n",
              "        document.querySelector('#df-c0f29b03-405b-4a8e-9831-45335da9dd44 button');\n",
              "      quickchartButtonEl.style.display =\n",
              "        google.colab.kernel.accessAllowed ? 'block' : 'none';\n",
              "    })();\n",
              "  </script>\n",
              "</div>\n",
              "    </div>\n",
              "  </div>\n"
            ],
            "application/vnd.google.colaboratory.intrinsic+json": {
              "type": "dataframe",
              "variable_name": "df"
            }
          },
          "metadata": {},
          "execution_count": 63
        }
      ],
      "source": [
        "import pandas as pd\n",
        "df = pd.DataFrame(CV_features.todense() )\n",
        "df\n",
        "# Document-Term-Matrix X = [N x p ]\n",
        "# N = no. of documentns\n",
        "# p = no. of unique words in the vocab!!# this is your D"
      ]
    },
    {
      "cell_type": "code",
      "execution_count": null,
      "id": "def61af3",
      "metadata": {
        "colab": {
          "base_uri": "https://localhost:8080/"
        },
        "id": "def61af3",
        "outputId": "9c232f75-7c5e-4f6f-ed15-a0bcff40209c"
      },
      "outputs": [
        {
          "output_type": "execute_result",
          "data": {
            "text/plain": [
              "126.3636"
            ]
          },
          "metadata": {},
          "execution_count": 64
        }
      ],
      "source": [
        "df.size/1e6  # these many elements/numbers are presnt in the df"
      ]
    },
    {
      "cell_type": "code",
      "execution_count": null,
      "id": "76f78d34",
      "metadata": {
        "colab": {
          "base_uri": "https://localhost:8080/"
        },
        "id": "76f78d34",
        "outputId": "63e91ab5-749a-4d09-d3be-42b855fdd2d3"
      },
      "outputs": [
        {
          "output_type": "execute_result",
          "data": {
            "text/plain": [
              "114973"
            ]
          },
          "metadata": {},
          "execution_count": 65
        }
      ],
      "source": [
        "import numpy as np\n",
        "np.count_nonzero(df)"
      ]
    },
    {
      "cell_type": "code",
      "execution_count": null,
      "id": "c2d68b8c",
      "metadata": {
        "colab": {
          "base_uri": "https://localhost:8080/"
        },
        "id": "c2d68b8c",
        "outputId": "43917261-73cf-44a6-fad6-1e21d296f7a6"
      },
      "outputs": [
        {
          "output_type": "execute_result",
          "data": {
            "text/plain": [
              "0.09098585352110893"
            ]
          },
          "metadata": {},
          "execution_count": 66
        }
      ],
      "source": [
        "100*np.count_nonzero(df)/df.size # percent of the non-zero elements i nthe df"
      ]
    },
    {
      "cell_type": "code",
      "execution_count": null,
      "id": "2607ec8d",
      "metadata": {
        "colab": {
          "base_uri": "https://localhost:8080/"
        },
        "id": "2607ec8d",
        "outputId": "d9f8b15d-b6d9-49d9-f12f-82ebbb14ea7a"
      },
      "outputs": [
        {
          "output_type": "stream",
          "name": "stdout",
          "text": [
            "['aa' 'aaaahhhhhhh' 'aag' 'aah' 'aalborg' 'aand' 'aapl' 'aarhus' 'aaron'\n",
            " 'aarp' 'aarrrggghhhh' 'aashamsakal' 'aaydojbfkq' 'aayp' 'ab' 'abah'\n",
            " 'abareta' 'abay' 'abb' 'abc' 'abdou' 'abe' 'aber' 'abercrombie' 'abi'\n",
            " 'ability' 'abit' 'able' 'ableton' 'abnqum' 'aboard' 'about' 'aboutalook'\n",
            " 'aboutdamntime' 'abouttime' 'abouttonight' 'above' 'abp' 'abscbn'\n",
            " 'absence' 'absolute' 'absolutely' 'absurd' 'abu' 'abudhabi' 'abuja'\n",
            " 'abujacity' 'abujafct' 'abujapeople' 'abujaphones']\n"
          ]
        }
      ],
      "source": [
        "print(CV.get_feature_names_out()[:50])  # these are the vocab words\n"
      ]
    },
    {
      "cell_type": "code",
      "execution_count": null,
      "id": "403d67e4",
      "metadata": {
        "id": "403d67e4"
      },
      "outputs": [],
      "source": [
        "# CV.get_feature_names_out()[:50]  # these the vocab words"
      ]
    },
    {
      "cell_type": "code",
      "execution_count": null,
      "id": "6d09f6d7",
      "metadata": {
        "id": "6d09f6d7",
        "outputId": "572602ae-e87f-45aa-e06b-945f0d84b8ed",
        "colab": {
          "base_uri": "https://localhost:8080/"
        }
      },
      "outputs": [
        {
          "output_type": "execute_result",
          "data": {
            "text/plain": [
              "15955"
            ]
          },
          "metadata": {},
          "execution_count": 69
        }
      ],
      "source": [
        "len(CV.get_feature_names_out())\n",
        "#len(CV.get_feature_names())"
      ]
    },
    {
      "cell_type": "code",
      "execution_count": null,
      "id": "54d6d866",
      "metadata": {
        "id": "54d6d866",
        "outputId": "028a4aee-7ea7-4a9e-bde3-f007454994c9",
        "colab": {
          "base_uri": "https://localhost:8080/"
        }
      },
      "outputs": [
        {
          "output_type": "execute_result",
          "data": {
            "text/plain": [
              "matrix([[0, 0, 0, ..., 0, 0, 0]])"
            ]
          },
          "metadata": {},
          "execution_count": 70
        }
      ],
      "source": [
        "CV_features[10].todense()  # these are numbers corresponding to the 11th tweet"
      ]
    },
    {
      "cell_type": "code",
      "execution_count": null,
      "id": "0e765ec8",
      "metadata": {
        "id": "0e765ec8",
        "outputId": "dc89b673-98f9-4e18-ede1-222d066515ba",
        "colab": {
          "base_uri": "https://localhost:8080/"
        }
      },
      "outputs": [
        {
          "output_type": "execute_result",
          "data": {
            "text/plain": [
              "[array(['apple', 'color', 'crash', 'do', 'every', 'five', 'fuckin', 'hey',\n",
              "        'inch', 'ipod', 'it', 'make', 'minite', 'new', 'not', 'or',\n",
              "        'thinner', 'when', 'you'], dtype='<U41')]"
            ]
          },
          "metadata": {},
          "execution_count": 71
        }
      ],
      "source": [
        "CV.inverse_transform(np.asarray(CV_features[10].todense()))  # actual words in the 10th tweet"
      ]
    },
    {
      "cell_type": "markdown",
      "id": "e6dd7b9a",
      "metadata": {
        "id": "e6dd7b9a"
      },
      "source": [
        "# 5. Model building"
      ]
    },
    {
      "cell_type": "code",
      "execution_count": null,
      "id": "4c72611d",
      "metadata": {
        "id": "4c72611d"
      },
      "outputs": [],
      "source": [
        "from sklearn.model_selection import train_test_split\n",
        "\n",
        "X_train, X_test, y_train, y_test = train_test_split(CV_features, data['label'], test_size=0.25, stratify=data['label'], random_state=42)"
      ]
    },
    {
      "cell_type": "code",
      "execution_count": null,
      "id": "2a3b3020",
      "metadata": {
        "id": "2a3b3020",
        "outputId": "376179f7-1137-4147-87f3-ac7fa254d0cd",
        "colab": {
          "base_uri": "https://localhost:8080/"
        }
      },
      "outputs": [
        {
          "output_type": "stream",
          "name": "stdout",
          "text": [
            "0.9779461279461279\n",
            "0.8813131313131313\n"
          ]
        }
      ],
      "source": [
        "from sklearn.linear_model import LogisticRegression\n",
        "LR = LogisticRegression(solver='liblinear')\n",
        "LR.fit(X_train, y_train)\n",
        "\n",
        "print(LR.score(X_train, y_train))  # train score)\n",
        "print(LR.score(X_test, y_test))   # test score)"
      ]
    },
    {
      "cell_type": "code",
      "execution_count": null,
      "id": "82c2b527",
      "metadata": {
        "id": "82c2b527",
        "outputId": "64c25632-9e20-4ea8-81a2-574f623b73ba",
        "colab": {
          "base_uri": "https://localhost:8080/"
        }
      },
      "outputs": [
        {
          "output_type": "stream",
          "name": "stdout",
          "text": [
            "0.9038720538720538\n",
            "0.8813131313131313\n"
          ]
        }
      ],
      "source": [
        "## L1-REGULARIZATION\n",
        "LR1 = LogisticRegression(class_weight='balanced', solver='liblinear', penalty='l1', C=0.4)\n",
        "LR1.fit(X_train, y_train)\n",
        "\n",
        "print(LR1.score(X_train, y_train))  # train score)\n",
        "print(LR1.score(X_test, y_test))   # test score)"
      ]
    },
    {
      "cell_type": "code",
      "execution_count": null,
      "id": "7b364a8e",
      "metadata": {
        "id": "7b364a8e"
      },
      "outputs": [],
      "source": [
        "## leT'S Cross-Validate the Logistic Regression Model ?????\n",
        "from sklearn.model_selection import cross_val_score, cross_validate\n",
        "from sklearn.model_selection import StratifiedKFold"
      ]
    },
    {
      "cell_type": "code",
      "execution_count": null,
      "id": "fcaf89c2",
      "metadata": {
        "id": "fcaf89c2"
      },
      "outputs": [],
      "source": [
        "X = CV_features\n",
        "y = data['label']"
      ]
    },
    {
      "cell_type": "code",
      "execution_count": null,
      "id": "7c55927c",
      "metadata": {
        "id": "7c55927c",
        "outputId": "269a84ea-ee4c-4932-b3c3-b6e8e4e087c8",
        "colab": {
          "base_uri": "https://localhost:8080/"
        }
      },
      "outputs": [
        {
          "output_type": "stream",
          "name": "stdout",
          "text": [
            "[0.88320707 0.86931818 0.87752525 0.89709596 0.88699495]\n",
            "88.28 0.93\n"
          ]
        }
      ],
      "source": [
        "## crOSS VALIDATE THE LR1 model\n",
        "\n",
        "LR1 = LogisticRegression(class_weight='balanced', solver='liblinear', penalty='l1', C=0.4)\n",
        "kfold = StratifiedKFold(n_splits=5, shuffle=True, random_state=42)\n",
        "results = cross_val_score(LR1, X, y, cv=kfold, scoring='accuracy')\n",
        "print(results)\n",
        "print(np.round((results.mean())*100, 2), np.round((results.std())*100, 2))"
      ]
    },
    {
      "cell_type": "code",
      "execution_count": null,
      "id": "97d2ef36",
      "metadata": {
        "id": "97d2ef36"
      },
      "outputs": [],
      "source": [
        "# our's model accuracy = 88.23 +/- 0.93 %"
      ]
    },
    {
      "cell_type": "code",
      "execution_count": null,
      "id": "3b5cbe8e",
      "metadata": {
        "id": "3b5cbe8e"
      },
      "outputs": [],
      "source": [
        "kfold = StratifiedKFold(n_splits=5, shuffle=True, random_state=42)\n",
        "results = cross_validate(LR1, X, y, cv=kfold, scoring='accuracy', return_train_score=True)"
      ]
    },
    {
      "cell_type": "code",
      "execution_count": null,
      "id": "f4195164",
      "metadata": {
        "id": "f4195164",
        "outputId": "2d320d8a-86ab-43a8-fc15-564e8905c1a7",
        "colab": {
          "base_uri": "https://localhost:8080/"
        }
      },
      "outputs": [
        {
          "output_type": "execute_result",
          "data": {
            "text/plain": [
              "{'fit_time': array([0.03972983, 0.03838134, 0.03444624, 0.03454351, 0.0342021 ]),\n",
              " 'score_time': array([0.00126028, 0.00127077, 0.00122786, 0.00116897, 0.00122023]),\n",
              " 'test_score': array([0.88320707, 0.86931818, 0.87752525, 0.89709596, 0.88699495]),\n",
              " 'train_score': array([0.90388258, 0.90893308, 0.9040404 , 0.90372475, 0.90451389])}"
            ]
          },
          "metadata": {},
          "execution_count": 80
        }
      ],
      "source": [
        "results"
      ]
    },
    {
      "cell_type": "code",
      "execution_count": null,
      "id": "dbcf5a18",
      "metadata": {
        "id": "dbcf5a18",
        "outputId": "b4bac688-5518-4790-951e-287eda232846",
        "colab": {
          "base_uri": "https://localhost:8080/"
        }
      },
      "outputs": [
        {
          "output_type": "stream",
          "name": "stdout",
          "text": [
            "[0.90388258 0.90893308 0.9040404  0.90372475 0.90451389]\n",
            "90.5 0.2\n"
          ]
        }
      ],
      "source": [
        "print(results['train_score'])\n",
        "print(np.round((results['train_score'].mean())*100, 2), np.round((results['train_score'].std())*100, 2))"
      ]
    },
    {
      "cell_type": "code",
      "execution_count": null,
      "id": "9762fdf9",
      "metadata": {
        "id": "9762fdf9",
        "outputId": "754bad67-b64b-40b7-d887-55abf2242977",
        "colab": {
          "base_uri": "https://localhost:8080/"
        }
      },
      "outputs": [
        {
          "output_type": "stream",
          "name": "stdout",
          "text": [
            "[0.88320707 0.86931818 0.87752525 0.89709596 0.88699495]\n",
            "88.28 0.93\n"
          ]
        }
      ],
      "source": [
        "print(results['test_score'])\n",
        "print(np.round((results['test_score'].mean())*100, 2), np.round((results['test_score'].std())*100, 2))"
      ]
    },
    {
      "cell_type": "markdown",
      "id": "1d1407d8",
      "metadata": {
        "id": "1d1407d8"
      },
      "source": [
        "## Hyper parameter tuning of the LR1 model"
      ]
    },
    {
      "cell_type": "code",
      "execution_count": null,
      "id": "0db78851",
      "metadata": {
        "id": "0db78851",
        "outputId": "36fc41cd-23ee-43f4-a4e0-0ce8a23947c5",
        "colab": {
          "base_uri": "https://localhost:8080/"
        }
      },
      "outputs": [
        {
          "output_type": "stream",
          "name": "stdout",
          "text": [
            "Fitting 5 folds for each of 20 candidates, totalling 100 fits\n"
          ]
        }
      ],
      "source": [
        "## Hyper parameter tuning of the LR1 model\n",
        "from sklearn.model_selection import GridSearchCV\n",
        "\n",
        "LR1 = LogisticRegression(class_weight='balanced', solver='liblinear', penalty='l1')\n",
        "\n",
        "C_values = np.arange(0.00001, 1, 0.05) # 20 values\n",
        "\n",
        "grid = GridSearchCV(estimator=LR1, param_grid={'C': C_values}, cv=kfold, scoring='accuracy', \\\n",
        "                    return_train_score=True, verbose=2, n_jobs=-1)\n",
        "grid_results = grid.fit(X,y)"
      ]
    },
    {
      "cell_type": "code",
      "execution_count": null,
      "id": "443d5137",
      "metadata": {
        "id": "443d5137",
        "outputId": "9d5f23f5-051b-4b10-b4e6-a4596bb417fd",
        "colab": {
          "base_uri": "https://localhost:8080/",
          "height": 116
        }
      },
      "outputs": [
        {
          "output_type": "execute_result",
          "data": {
            "text/plain": [
              "GridSearchCV(cv=StratifiedKFold(n_splits=5, random_state=42, shuffle=True),\n",
              "             estimator=LogisticRegression(class_weight='balanced', penalty='l1',\n",
              "                                          solver='liblinear'),\n",
              "             n_jobs=-1,\n",
              "             param_grid={'C': array([1.0000e-05, 5.0010e-02, 1.0001e-01, 1.5001e-01, 2.0001e-01,\n",
              "       2.5001e-01, 3.0001e-01, 3.5001e-01, 4.0001e-01, 4.5001e-01,\n",
              "       5.0001e-01, 5.5001e-01, 6.0001e-01, 6.5001e-01, 7.0001e-01,\n",
              "       7.5001e-01, 8.0001e-01, 8.5001e-01, 9.0001e-01, 9.5001e-01])},\n",
              "             return_train_score=True, scoring='accuracy', verbose=2)"
            ],
            "text/html": [
              "<style>#sk-container-id-1 {color: black;background-color: white;}#sk-container-id-1 pre{padding: 0;}#sk-container-id-1 div.sk-toggleable {background-color: white;}#sk-container-id-1 label.sk-toggleable__label {cursor: pointer;display: block;width: 100%;margin-bottom: 0;padding: 0.3em;box-sizing: border-box;text-align: center;}#sk-container-id-1 label.sk-toggleable__label-arrow:before {content: \"▸\";float: left;margin-right: 0.25em;color: #696969;}#sk-container-id-1 label.sk-toggleable__label-arrow:hover:before {color: black;}#sk-container-id-1 div.sk-estimator:hover label.sk-toggleable__label-arrow:before {color: black;}#sk-container-id-1 div.sk-toggleable__content {max-height: 0;max-width: 0;overflow: hidden;text-align: left;background-color: #f0f8ff;}#sk-container-id-1 div.sk-toggleable__content pre {margin: 0.2em;color: black;border-radius: 0.25em;background-color: #f0f8ff;}#sk-container-id-1 input.sk-toggleable__control:checked~div.sk-toggleable__content {max-height: 200px;max-width: 100%;overflow: auto;}#sk-container-id-1 input.sk-toggleable__control:checked~label.sk-toggleable__label-arrow:before {content: \"▾\";}#sk-container-id-1 div.sk-estimator input.sk-toggleable__control:checked~label.sk-toggleable__label {background-color: #d4ebff;}#sk-container-id-1 div.sk-label input.sk-toggleable__control:checked~label.sk-toggleable__label {background-color: #d4ebff;}#sk-container-id-1 input.sk-hidden--visually {border: 0;clip: rect(1px 1px 1px 1px);clip: rect(1px, 1px, 1px, 1px);height: 1px;margin: -1px;overflow: hidden;padding: 0;position: absolute;width: 1px;}#sk-container-id-1 div.sk-estimator {font-family: monospace;background-color: #f0f8ff;border: 1px dotted black;border-radius: 0.25em;box-sizing: border-box;margin-bottom: 0.5em;}#sk-container-id-1 div.sk-estimator:hover {background-color: #d4ebff;}#sk-container-id-1 div.sk-parallel-item::after {content: \"\";width: 100%;border-bottom: 1px solid gray;flex-grow: 1;}#sk-container-id-1 div.sk-label:hover label.sk-toggleable__label {background-color: #d4ebff;}#sk-container-id-1 div.sk-serial::before {content: \"\";position: absolute;border-left: 1px solid gray;box-sizing: border-box;top: 0;bottom: 0;left: 50%;z-index: 0;}#sk-container-id-1 div.sk-serial {display: flex;flex-direction: column;align-items: center;background-color: white;padding-right: 0.2em;padding-left: 0.2em;position: relative;}#sk-container-id-1 div.sk-item {position: relative;z-index: 1;}#sk-container-id-1 div.sk-parallel {display: flex;align-items: stretch;justify-content: center;background-color: white;position: relative;}#sk-container-id-1 div.sk-item::before, #sk-container-id-1 div.sk-parallel-item::before {content: \"\";position: absolute;border-left: 1px solid gray;box-sizing: border-box;top: 0;bottom: 0;left: 50%;z-index: -1;}#sk-container-id-1 div.sk-parallel-item {display: flex;flex-direction: column;z-index: 1;position: relative;background-color: white;}#sk-container-id-1 div.sk-parallel-item:first-child::after {align-self: flex-end;width: 50%;}#sk-container-id-1 div.sk-parallel-item:last-child::after {align-self: flex-start;width: 50%;}#sk-container-id-1 div.sk-parallel-item:only-child::after {width: 0;}#sk-container-id-1 div.sk-dashed-wrapped {border: 1px dashed gray;margin: 0 0.4em 0.5em 0.4em;box-sizing: border-box;padding-bottom: 0.4em;background-color: white;}#sk-container-id-1 div.sk-label label {font-family: monospace;font-weight: bold;display: inline-block;line-height: 1.2em;}#sk-container-id-1 div.sk-label-container {text-align: center;}#sk-container-id-1 div.sk-container {/* jupyter's `normalize.less` sets `[hidden] { display: none; }` but bootstrap.min.css set `[hidden] { display: none !important; }` so we also need the `!important` here to be able to override the default hidden behavior on the sphinx rendered scikit-learn.org. See: https://github.com/scikit-learn/scikit-learn/issues/21755 */display: inline-block !important;position: relative;}#sk-container-id-1 div.sk-text-repr-fallback {display: none;}</style><div id=\"sk-container-id-1\" class=\"sk-top-container\"><div class=\"sk-text-repr-fallback\"><pre>GridSearchCV(cv=StratifiedKFold(n_splits=5, random_state=42, shuffle=True),\n",
              "             estimator=LogisticRegression(class_weight=&#x27;balanced&#x27;, penalty=&#x27;l1&#x27;,\n",
              "                                          solver=&#x27;liblinear&#x27;),\n",
              "             n_jobs=-1,\n",
              "             param_grid={&#x27;C&#x27;: array([1.0000e-05, 5.0010e-02, 1.0001e-01, 1.5001e-01, 2.0001e-01,\n",
              "       2.5001e-01, 3.0001e-01, 3.5001e-01, 4.0001e-01, 4.5001e-01,\n",
              "       5.0001e-01, 5.5001e-01, 6.0001e-01, 6.5001e-01, 7.0001e-01,\n",
              "       7.5001e-01, 8.0001e-01, 8.5001e-01, 9.0001e-01, 9.5001e-01])},\n",
              "             return_train_score=True, scoring=&#x27;accuracy&#x27;, verbose=2)</pre><b>In a Jupyter environment, please rerun this cell to show the HTML representation or trust the notebook. <br />On GitHub, the HTML representation is unable to render, please try loading this page with nbviewer.org.</b></div><div class=\"sk-container\" hidden><div class=\"sk-item sk-dashed-wrapped\"><div class=\"sk-label-container\"><div class=\"sk-label sk-toggleable\"><input class=\"sk-toggleable__control sk-hidden--visually\" id=\"sk-estimator-id-1\" type=\"checkbox\" ><label for=\"sk-estimator-id-1\" class=\"sk-toggleable__label sk-toggleable__label-arrow\">GridSearchCV</label><div class=\"sk-toggleable__content\"><pre>GridSearchCV(cv=StratifiedKFold(n_splits=5, random_state=42, shuffle=True),\n",
              "             estimator=LogisticRegression(class_weight=&#x27;balanced&#x27;, penalty=&#x27;l1&#x27;,\n",
              "                                          solver=&#x27;liblinear&#x27;),\n",
              "             n_jobs=-1,\n",
              "             param_grid={&#x27;C&#x27;: array([1.0000e-05, 5.0010e-02, 1.0001e-01, 1.5001e-01, 2.0001e-01,\n",
              "       2.5001e-01, 3.0001e-01, 3.5001e-01, 4.0001e-01, 4.5001e-01,\n",
              "       5.0001e-01, 5.5001e-01, 6.0001e-01, 6.5001e-01, 7.0001e-01,\n",
              "       7.5001e-01, 8.0001e-01, 8.5001e-01, 9.0001e-01, 9.5001e-01])},\n",
              "             return_train_score=True, scoring=&#x27;accuracy&#x27;, verbose=2)</pre></div></div></div><div class=\"sk-parallel\"><div class=\"sk-parallel-item\"><div class=\"sk-item\"><div class=\"sk-label-container\"><div class=\"sk-label sk-toggleable\"><input class=\"sk-toggleable__control sk-hidden--visually\" id=\"sk-estimator-id-2\" type=\"checkbox\" ><label for=\"sk-estimator-id-2\" class=\"sk-toggleable__label sk-toggleable__label-arrow\">estimator: LogisticRegression</label><div class=\"sk-toggleable__content\"><pre>LogisticRegression(class_weight=&#x27;balanced&#x27;, penalty=&#x27;l1&#x27;, solver=&#x27;liblinear&#x27;)</pre></div></div></div><div class=\"sk-serial\"><div class=\"sk-item\"><div class=\"sk-estimator sk-toggleable\"><input class=\"sk-toggleable__control sk-hidden--visually\" id=\"sk-estimator-id-3\" type=\"checkbox\" ><label for=\"sk-estimator-id-3\" class=\"sk-toggleable__label sk-toggleable__label-arrow\">LogisticRegression</label><div class=\"sk-toggleable__content\"><pre>LogisticRegression(class_weight=&#x27;balanced&#x27;, penalty=&#x27;l1&#x27;, solver=&#x27;liblinear&#x27;)</pre></div></div></div></div></div></div></div></div></div></div>"
            ]
          },
          "metadata": {},
          "execution_count": 84
        }
      ],
      "source": [
        "grid_results"
      ]
    },
    {
      "cell_type": "code",
      "execution_count": null,
      "id": "774eaa39",
      "metadata": {
        "id": "774eaa39",
        "outputId": "cda8170e-b7c8-41d7-80b0-cdf875779ba6",
        "colab": {
          "base_uri": "https://localhost:8080/"
        }
      },
      "outputs": [
        {
          "output_type": "execute_result",
          "data": {
            "text/plain": [
              "({'C': 0.95001}, 0.8905303030303029, 19)"
            ]
          },
          "metadata": {},
          "execution_count": 85
        }
      ],
      "source": [
        "grid_results.best_params_, grid_results.best_score_, grid_results.best_index_"
      ]
    },
    {
      "cell_type": "code",
      "execution_count": null,
      "id": "f9061881",
      "metadata": {
        "id": "f9061881",
        "outputId": "d31cc113-91c3-4556-eba3-53180d6b8052",
        "colab": {
          "base_uri": "https://localhost:8080/"
        }
      },
      "outputs": [
        {
          "output_type": "execute_result",
          "data": {
            "text/plain": [
              "dict_keys(['mean_fit_time', 'std_fit_time', 'mean_score_time', 'std_score_time', 'param_C', 'params', 'split0_test_score', 'split1_test_score', 'split2_test_score', 'split3_test_score', 'split4_test_score', 'mean_test_score', 'std_test_score', 'rank_test_score', 'split0_train_score', 'split1_train_score', 'split2_train_score', 'split3_train_score', 'split4_train_score', 'mean_train_score', 'std_train_score'])"
            ]
          },
          "metadata": {},
          "execution_count": 86
        }
      ],
      "source": [
        "grid_results.cv_results_.keys()"
      ]
    },
    {
      "cell_type": "code",
      "execution_count": null,
      "id": "e986baef",
      "metadata": {
        "id": "e986baef",
        "outputId": "567f3c28-009f-4180-9cab-4f771d83ec37",
        "colab": {
          "base_uri": "https://localhost:8080/"
        }
      },
      "outputs": [
        {
          "output_type": "execute_result",
          "data": {
            "text/plain": [
              "89.05303030303028"
            ]
          },
          "metadata": {},
          "execution_count": 87
        }
      ],
      "source": [
        "grid_results.cv_results_['mean_test_score'][grid_results.best_index_]*100"
      ]
    },
    {
      "cell_type": "code",
      "execution_count": null,
      "id": "f6302ce0",
      "metadata": {
        "id": "f6302ce0",
        "outputId": "326d6a10-9c1d-4f9b-a318-8a7beceb16aa",
        "colab": {
          "base_uri": "https://localhost:8080/"
        }
      },
      "outputs": [
        {
          "output_type": "execute_result",
          "data": {
            "text/plain": [
              "93.28282828282829"
            ]
          },
          "metadata": {},
          "execution_count": 88
        }
      ],
      "source": [
        "grid_results.cv_results_['mean_train_score'][grid_results.best_index_]*100\n",
        "\n",
        "# means your \"best-fitted\" model from GridsearchCV is (could be) still OVERFITTED!!!!!!!!!"
      ]
    },
    {
      "cell_type": "code",
      "execution_count": null,
      "id": "8b424b9b",
      "metadata": {
        "id": "8b424b9b",
        "outputId": "517a706c-21df-40b7-9f01-c50d6376b5e6",
        "colab": {
          "base_uri": "https://localhost:8080/"
        }
      },
      "outputs": [
        {
          "output_type": "execute_result",
          "data": {
            "text/plain": [
              "0.6494859166470549"
            ]
          },
          "metadata": {},
          "execution_count": 89
        }
      ],
      "source": [
        "grid_results.cv_results_['std_test_score'][grid_results.best_index_]*100"
      ]
    },
    {
      "cell_type": "code",
      "execution_count": null,
      "id": "ef6fdcfa",
      "metadata": {
        "id": "ef6fdcfa",
        "outputId": "015d288f-5a55-4a29-a87e-33188c4a5f21",
        "colab": {
          "base_uri": "https://localhost:8080/"
        }
      },
      "outputs": [
        {
          "output_type": "execute_result",
          "data": {
            "text/plain": [
              "array([0.74419192, 0.84494949, 0.86338384, 0.87171717, 0.87537879,\n",
              "       0.8790404 , 0.88017677, 0.88143939, 0.88282828, 0.88497475,\n",
              "       0.88560606, 0.88661616, 0.88699495, 0.88876263, 0.88939394,\n",
              "       0.88901515, 0.8895202 , 0.88939394, 0.88989899, 0.8905303 ])"
            ]
          },
          "metadata": {},
          "execution_count": 90
        }
      ],
      "source": [
        "grid_results.cv_results_['mean_test_score']"
      ]
    },
    {
      "cell_type": "code",
      "execution_count": null,
      "id": "b40bc4d2",
      "metadata": {
        "id": "b40bc4d2",
        "outputId": "0822b0ca-cfbd-40fb-b8a6-3ce520e7794d",
        "colab": {
          "base_uri": "https://localhost:8080/"
        }
      },
      "outputs": [
        {
          "output_type": "execute_result",
          "data": {
            "text/plain": [
              "array([0.74419192, 0.85      , 0.86998106, 0.8803346 , 0.88715278,\n",
              "       0.89232955, 0.89649621, 0.9009154 , 0.90501894, 0.90811237,\n",
              "       0.91003788, 0.9134154 , 0.91568813, 0.91856061, 0.92133838,\n",
              "       0.92335859, 0.9260101 , 0.92853535, 0.93055556, 0.93282828])"
            ]
          },
          "metadata": {},
          "execution_count": 91
        }
      ],
      "source": [
        "grid_results.cv_results_['mean_train_score']"
      ]
    },
    {
      "cell_type": "code",
      "execution_count": null,
      "id": "e611e951",
      "metadata": {
        "scrolled": true,
        "id": "e611e951",
        "outputId": "b44b4da9-1662-469a-db5b-44535ddf4d16",
        "colab": {
          "base_uri": "https://localhost:8080/",
          "height": 447
        }
      },
      "outputs": [
        {
          "output_type": "execute_result",
          "data": {
            "text/plain": [
              "[<matplotlib.lines.Line2D at 0x7b079e89ee60>]"
            ]
          },
          "metadata": {},
          "execution_count": 92
        },
        {
          "output_type": "display_data",
          "data": {
            "text/plain": [
              "<Figure size 640x480 with 1 Axes>"
            ],
            "image/png": "[encoded data removed]"
          },
          "metadata": {}
        }
      ],
      "source": [
        "plt.plot(grid_results.cv_results_['mean_train_score'] - grid_results.cv_results_['mean_test_score'])"
      ]
    },
    {
      "cell_type": "code",
      "execution_count": null,
      "id": "c0b0f88b",
      "metadata": {
        "id": "c0b0f88b",
        "outputId": "bfafed0f-3dbd-40f8-f718-1a3591cd19e8",
        "colab": {
          "base_uri": "https://localhost:8080/"
        }
      },
      "outputs": [
        {
          "output_type": "execute_result",
          "data": {
            "text/plain": [
              "{'C': array([1.0000e-05, 5.0010e-02, 1.0001e-01, 1.5001e-01, 2.0001e-01,\n",
              "        2.5001e-01, 3.0001e-01, 3.5001e-01, 4.0001e-01, 4.5001e-01,\n",
              "        5.0001e-01, 5.5001e-01, 6.0001e-01, 6.5001e-01, 7.0001e-01,\n",
              "        7.5001e-01, 8.0001e-01, 8.5001e-01, 9.0001e-01, 9.5001e-01])}"
            ]
          },
          "metadata": {},
          "execution_count": 93
        }
      ],
      "source": [
        "grid_results.param_grid"
      ]
    },
    {
      "cell_type": "code",
      "execution_count": null,
      "id": "d70a0c25",
      "metadata": {
        "id": "d70a0c25",
        "outputId": "8b969059-a282-46ed-d1cd-ba087244eaba",
        "colab": {
          "base_uri": "https://localhost:8080/"
        }
      },
      "outputs": [
        {
          "output_type": "execute_result",
          "data": {
            "text/plain": [
              "0.15001000000000003"
            ]
          },
          "metadata": {},
          "execution_count": 94
        }
      ],
      "source": [
        "grid_results.param_grid['C'][3]"
      ]
    },
    {
      "cell_type": "code",
      "execution_count": null,
      "id": "4b1898b1",
      "metadata": {
        "id": "4b1898b1",
        "outputId": "1b811e13-9631-4fe0-a0eb-16dbaf6010da",
        "colab": {
          "base_uri": "https://localhost:8080/"
        }
      },
      "outputs": [
        {
          "output_type": "execute_result",
          "data": {
            "text/plain": [
              "array([-1.11022302e-16,  5.05050505e-03,  6.59722222e-03,  8.61742424e-03,\n",
              "        1.17739899e-02,  1.32891414e-02,  1.63194444e-02,  1.94760101e-02,\n",
              "        2.21906566e-02,  2.31376263e-02,  2.44318182e-02,  2.67992424e-02,\n",
              "        2.86931818e-02,  2.97979798e-02,  3.19444444e-02,  3.43434343e-02,\n",
              "        3.64898990e-02,  3.91414141e-02,  4.06565657e-02,  4.22979798e-02])"
            ]
          },
          "metadata": {},
          "execution_count": 95
        }
      ],
      "source": [
        "grid_results.cv_results_['mean_train_score'] - grid_results.cv_results_['mean_test_score']"
      ]
    },
    {
      "cell_type": "code",
      "execution_count": null,
      "id": "683ca4f1",
      "metadata": {
        "id": "683ca4f1",
        "outputId": "7c7b12d0-3af6-4d72-b16e-d699bcfd9cb7",
        "colab": {
          "base_uri": "https://localhost:8080/"
        }
      },
      "outputs": [
        {
          "output_type": "stream",
          "name": "stdout",
          "text": [
            "88.28 0.93\n"
          ]
        }
      ],
      "source": [
        "# Create a pipeline & cross-validate\n",
        "from sklearn.pipeline import make_pipeline, Pipeline\n",
        "\n",
        "X = data['cleaned_tweets_w/o_SW']\n",
        "y = data['label']\n",
        "\n",
        "CV = CountVectorizer()\n",
        "LR1 = LogisticRegression(class_weight='balanced', solver='liblinear', penalty='l1', C=0.4)\n",
        "\n",
        "CV_pipe = Pipeline([('CV', CV) , ('LR', LR1)] )\n",
        "\n",
        "results = cross_val_score(CV_pipe, X, y, cv=kfold, scoring='accuracy')\n",
        "print(np.round((results.mean())*100, 2), np.round((results.std())*100, 2))"
      ]
    },
    {
      "cell_type": "code",
      "execution_count": null,
      "id": "ba6c19bb",
      "metadata": {
        "id": "ba6c19bb",
        "outputId": "1610c627-7bb1-4bd2-c8f7-1d54a64365dd",
        "colab": {
          "base_uri": "https://localhost:8080/"
        }
      },
      "outputs": [
        {
          "output_type": "execute_result",
          "data": {
            "text/plain": [
              "{'CV': CountVectorizer(),\n",
              " 'LR': LogisticRegression(C=0.4, class_weight='balanced', penalty='l1',\n",
              "                    solver='liblinear')}"
            ]
          },
          "metadata": {},
          "execution_count": 97
        }
      ],
      "source": [
        "CV_pipe.named_steps"
      ]
    },
    {
      "cell_type": "code",
      "execution_count": null,
      "id": "6820a163",
      "metadata": {
        "id": "6820a163",
        "outputId": "f655add3-a49a-4c7d-b0c6-727c5d6f5ae6",
        "colab": {
          "base_uri": "https://localhost:8080/",
          "height": 124
        }
      },
      "outputs": [
        {
          "output_type": "execute_result",
          "data": {
            "text/plain": [
              "Pipeline(steps=[('CV', CountVectorizer()),\n",
              "                ('LR',\n",
              "                 LogisticRegression(C=0.4, class_weight='balanced',\n",
              "                                    penalty='l1', solver='liblinear'))])"
            ],
            "text/html": [
              "<style>#sk-container-id-2 {color: black;background-color: white;}#sk-container-id-2 pre{padding: 0;}#sk-container-id-2 div.sk-toggleable {background-color: white;}#sk-container-id-2 label.sk-toggleable__label {cursor: pointer;display: block;width: 100%;margin-bottom: 0;padding: 0.3em;box-sizing: border-box;text-align: center;}#sk-container-id-2 label.sk-toggleable__label-arrow:before {content: \"▸\";float: left;margin-right: 0.25em;color: #696969;}#sk-container-id-2 label.sk-toggleable__label-arrow:hover:before {color: black;}#sk-container-id-2 div.sk-estimator:hover label.sk-toggleable__label-arrow:before {color: black;}#sk-container-id-2 div.sk-toggleable__content {max-height: 0;max-width: 0;overflow: hidden;text-align: left;background-color: #f0f8ff;}#sk-container-id-2 div.sk-toggleable__content pre {margin: 0.2em;color: black;border-radius: 0.25em;background-color: #f0f8ff;}#sk-container-id-2 input.sk-toggleable__control:checked~div.sk-toggleable__content {max-height: 200px;max-width: 100%;overflow: auto;}#sk-container-id-2 input.sk-toggleable__control:checked~label.sk-toggleable__label-arrow:before {content: \"▾\";}#sk-container-id-2 div.sk-estimator input.sk-toggleable__control:checked~label.sk-toggleable__label {background-color: #d4ebff;}#sk-container-id-2 div.sk-label input.sk-toggleable__control:checked~label.sk-toggleable__label {background-color: #d4ebff;}#sk-container-id-2 input.sk-hidden--visually {border: 0;clip: rect(1px 1px 1px 1px);clip: rect(1px, 1px, 1px, 1px);height: 1px;margin: -1px;overflow: hidden;padding: 0;position: absolute;width: 1px;}#sk-container-id-2 div.sk-estimator {font-family: monospace;background-color: #f0f8ff;border: 1px dotted black;border-radius: 0.25em;box-sizing: border-box;margin-bottom: 0.5em;}#sk-container-id-2 div.sk-estimator:hover {background-color: #d4ebff;}#sk-container-id-2 div.sk-parallel-item::after {content: \"\";width: 100%;border-bottom: 1px solid gray;flex-grow: 1;}#sk-container-id-2 div.sk-label:hover label.sk-toggleable__label {background-color: #d4ebff;}#sk-container-id-2 div.sk-serial::before {content: \"\";position: absolute;border-left: 1px solid gray;box-sizing: border-box;top: 0;bottom: 0;left: 50%;z-index: 0;}#sk-container-id-2 div.sk-serial {display: flex;flex-direction: column;align-items: center;background-color: white;padding-right: 0.2em;padding-left: 0.2em;position: relative;}#sk-container-id-2 div.sk-item {position: relative;z-index: 1;}#sk-container-id-2 div.sk-parallel {display: flex;align-items: stretch;justify-content: center;background-color: white;position: relative;}#sk-container-id-2 div.sk-item::before, #sk-container-id-2 div.sk-parallel-item::before {content: \"\";position: absolute;border-left: 1px solid gray;box-sizing: border-box;top: 0;bottom: 0;left: 50%;z-index: -1;}#sk-container-id-2 div.sk-parallel-item {display: flex;flex-direction: column;z-index: 1;position: relative;background-color: white;}#sk-container-id-2 div.sk-parallel-item:first-child::after {align-self: flex-end;width: 50%;}#sk-container-id-2 div.sk-parallel-item:last-child::after {align-self: flex-start;width: 50%;}#sk-container-id-2 div.sk-parallel-item:only-child::after {width: 0;}#sk-container-id-2 div.sk-dashed-wrapped {border: 1px dashed gray;margin: 0 0.4em 0.5em 0.4em;box-sizing: border-box;padding-bottom: 0.4em;background-color: white;}#sk-container-id-2 div.sk-label label {font-family: monospace;font-weight: bold;display: inline-block;line-height: 1.2em;}#sk-container-id-2 div.sk-label-container {text-align: center;}#sk-container-id-2 div.sk-container {/* jupyter's `normalize.less` sets `[hidden] { display: none; }` but bootstrap.min.css set `[hidden] { display: none !important; }` so we also need the `!important` here to be able to override the default hidden behavior on the sphinx rendered scikit-learn.org. See: https://github.com/scikit-learn/scikit-learn/issues/21755 */display: inline-block !important;position: relative;}#sk-container-id-2 div.sk-text-repr-fallback {display: none;}</style><div id=\"sk-container-id-2\" class=\"sk-top-container\"><div class=\"sk-text-repr-fallback\"><pre>Pipeline(steps=[(&#x27;CV&#x27;, CountVectorizer()),\n",
              "                (&#x27;LR&#x27;,\n",
              "                 LogisticRegression(C=0.4, class_weight=&#x27;balanced&#x27;,\n",
              "                                    penalty=&#x27;l1&#x27;, solver=&#x27;liblinear&#x27;))])</pre><b>In a Jupyter environment, please rerun this cell to show the HTML representation or trust the notebook. <br />On GitHub, the HTML representation is unable to render, please try loading this page with nbviewer.org.</b></div><div class=\"sk-container\" hidden><div class=\"sk-item sk-dashed-wrapped\"><div class=\"sk-label-container\"><div class=\"sk-label sk-toggleable\"><input class=\"sk-toggleable__control sk-hidden--visually\" id=\"sk-estimator-id-4\" type=\"checkbox\" ><label for=\"sk-estimator-id-4\" class=\"sk-toggleable__label sk-toggleable__label-arrow\">Pipeline</label><div class=\"sk-toggleable__content\"><pre>Pipeline(steps=[(&#x27;CV&#x27;, CountVectorizer()),\n",
              "                (&#x27;LR&#x27;,\n",
              "                 LogisticRegression(C=0.4, class_weight=&#x27;balanced&#x27;,\n",
              "                                    penalty=&#x27;l1&#x27;, solver=&#x27;liblinear&#x27;))])</pre></div></div></div><div class=\"sk-serial\"><div class=\"sk-item\"><div class=\"sk-estimator sk-toggleable\"><input class=\"sk-toggleable__control sk-hidden--visually\" id=\"sk-estimator-id-5\" type=\"checkbox\" ><label for=\"sk-estimator-id-5\" class=\"sk-toggleable__label sk-toggleable__label-arrow\">CountVectorizer</label><div class=\"sk-toggleable__content\"><pre>CountVectorizer()</pre></div></div></div><div class=\"sk-item\"><div class=\"sk-estimator sk-toggleable\"><input class=\"sk-toggleable__control sk-hidden--visually\" id=\"sk-estimator-id-6\" type=\"checkbox\" ><label for=\"sk-estimator-id-6\" class=\"sk-toggleable__label sk-toggleable__label-arrow\">LogisticRegression</label><div class=\"sk-toggleable__content\"><pre>LogisticRegression(C=0.4, class_weight=&#x27;balanced&#x27;, penalty=&#x27;l1&#x27;,\n",
              "                   solver=&#x27;liblinear&#x27;)</pre></div></div></div></div></div></div></div>"
            ]
          },
          "metadata": {},
          "execution_count": 98
        }
      ],
      "source": [
        "CV_pipe.fit(X,y)"
      ]
    },
    {
      "cell_type": "code",
      "execution_count": null,
      "id": "17a39f4e",
      "metadata": {
        "id": "17a39f4e",
        "outputId": "a8e37581-51b0-4783-9060-e7f33be59f0f",
        "colab": {
          "base_uri": "https://localhost:8080/"
        }
      },
      "outputs": [
        {
          "output_type": "execute_result",
          "data": {
            "text/plain": [
              "15955"
            ]
          },
          "metadata": {},
          "execution_count": 99
        }
      ],
      "source": [
        "len(CV_pipe['CV'].vocabulary_)  # CV with stopwords applied already & word_len > 2"
      ]
    },
    {
      "cell_type": "code",
      "execution_count": null,
      "id": "b498e1e8",
      "metadata": {
        "id": "b498e1e8"
      },
      "outputs": [],
      "source": [
        "# print(CV_pipe['CV'].vocabulary_)"
      ]
    },
    {
      "cell_type": "markdown",
      "id": "3cb2eae1",
      "metadata": {
        "id": "3cb2eae1"
      },
      "source": [
        "# 6. LR Model without vs with stop_words ??"
      ]
    },
    {
      "cell_type": "code",
      "execution_count": null,
      "id": "12a440e2",
      "metadata": {
        "id": "12a440e2",
        "outputId": "e4c4943e-dc82-42f6-e442-bf40f5a4757d",
        "colab": {
          "base_uri": "https://localhost:8080/"
        }
      },
      "outputs": [
        {
          "output_type": "stream",
          "name": "stdout",
          "text": [
            "86.87 1.07\n"
          ]
        },
        {
          "output_type": "execute_result",
          "data": {
            "text/plain": [
              "15673"
            ]
          },
          "metadata": {},
          "execution_count": 101
        }
      ],
      "source": [
        "# Create a pipeline & cross-validate\n",
        "from sklearn.pipeline import make_pipeline, Pipeline\n",
        "\n",
        "X = data['cleaned_tweets_w/o_SW']\n",
        "y = data['label']\n",
        "#applied the stopwords by using the argument in count vectorizer\n",
        "CV = CountVectorizer(stop_words=final_stopwords)\n",
        "LR1 = LogisticRegression(class_weight='balanced', solver='liblinear', penalty='l1', C=0.4)\n",
        "\n",
        "CV_pipe = Pipeline([('CV', CV) , ('LR', LR1)] )\n",
        "\n",
        "results = cross_val_score(CV_pipe, X, y, cv=kfold, scoring='accuracy')\n",
        "print(np.round((results.mean())*100, 2), np.round((results.std())*100, 2))\n",
        "\n",
        "CV_pipe.fit(X,y)\n",
        "len(CV_pipe['CV'].vocabulary_)"
      ]
    },
    {
      "cell_type": "code",
      "execution_count": null,
      "id": "783a68f8",
      "metadata": {
        "id": "783a68f8"
      },
      "outputs": [],
      "source": []
    },
    {
      "cell_type": "code",
      "execution_count": null,
      "id": "7f3c229f",
      "metadata": {
        "id": "7f3c229f",
        "outputId": "460c1110-9e20-4c77-daa0-e91ab94b08a9",
        "colab": {
          "base_uri": "https://localhost:8080/"
        }
      },
      "outputs": [
        {
          "output_type": "stream",
          "name": "stdout",
          "text": [
            "86.77 1.03\n"
          ]
        },
        {
          "output_type": "execute_result",
          "data": {
            "text/plain": [
              "1086"
            ]
          },
          "metadata": {},
          "execution_count": 102
        }
      ],
      "source": [
        "# Create a pipeline & cross-validate\n",
        "from sklearn.pipeline import make_pipeline, Pipeline\n",
        "\n",
        "X = data['cleaned_tweets_w/o_SW']\n",
        "y = data['label']\n",
        "\n",
        "CV = CountVectorizer(stop_words=final_stopwords, min_df=10, max_features=None)\n",
        "LR1 = LogisticRegression(class_weight='balanced', solver='liblinear', penalty='l1', C=0.4)\n",
        "\n",
        "CV_pipe = Pipeline([('CV', CV) , ('LR', LR1)] )\n",
        "\n",
        "results = cross_val_score(CV_pipe, X, y, cv=kfold, scoring='accuracy')\n",
        "print(np.round((results.mean())*100, 2), np.round((results.std())*100, 2))\n",
        "\n",
        "CV_pipe.fit(X,y)\n",
        "len(CV_pipe['CV'].vocabulary_)"
      ]
    },
    {
      "cell_type": "code",
      "execution_count": null,
      "id": "a3de4b3b",
      "metadata": {
        "id": "a3de4b3b"
      },
      "outputs": [],
      "source": []
    },
    {
      "cell_type": "code",
      "execution_count": null,
      "id": "d2100b72",
      "metadata": {
        "id": "d2100b72",
        "outputId": "684c0c16-d3ec-437a-d514-76566e8a594d",
        "colab": {
          "base_uri": "https://localhost:8080/"
        }
      },
      "outputs": [
        {
          "output_type": "stream",
          "name": "stdout",
          "text": [
            "85.23 1.28\n"
          ]
        },
        {
          "output_type": "execute_result",
          "data": {
            "text/plain": [
              "300"
            ]
          },
          "metadata": {},
          "execution_count": 103
        }
      ],
      "source": [
        "# Create a pipeline & cross-validate\n",
        "from sklearn.pipeline import make_pipeline, Pipeline\n",
        "\n",
        "X = data['cleaned_tweets_w/o_SW']\n",
        "y = data['label']\n",
        "\n",
        "CV = CountVectorizer(stop_words=final_stopwords, min_df=10, max_features=300)\n",
        "LR1 = LogisticRegression(class_weight='balanced', solver='liblinear', penalty='l1', C=0.4)\n",
        "\n",
        "CV_pipe = Pipeline([('CV', CV) , ('LR', LR1)] )\n",
        "\n",
        "results = cross_val_score(CV_pipe, X, y, cv=kfold, scoring='accuracy')\n",
        "print(np.round((results.mean())*100, 2), np.round((results.std())*100, 2))\n",
        "\n",
        "CV_pipe.fit(X,y)\n",
        "len(CV_pipe['CV'].vocabulary_)"
      ]
    },
    {
      "cell_type": "code",
      "execution_count": null,
      "id": "ea6ec811",
      "metadata": {
        "id": "ea6ec811"
      },
      "outputs": [],
      "source": []
    },
    {
      "cell_type": "markdown",
      "id": "83a79b75",
      "metadata": {
        "id": "83a79b75"
      },
      "source": [
        "# 7. TF-IDF Vector BoW Model + Logistic Regression"
      ]
    },
    {
      "cell_type": "code",
      "execution_count": null,
      "id": "f152b1bc",
      "metadata": {
        "id": "f152b1bc"
      },
      "outputs": [],
      "source": [
        "doc1 = 'I love cooking'\n",
        "doc2 = 'Today I cooked pasta today'"
      ]
    },
    {
      "cell_type": "code",
      "execution_count": null,
      "id": "09630f86",
      "metadata": {
        "id": "09630f86"
      },
      "outputs": [],
      "source": []
    },
    {
      "cell_type": "code",
      "execution_count": null,
      "id": "9656e8e8",
      "metadata": {
        "id": "9656e8e8"
      },
      "outputs": [],
      "source": [
        "# TF_score = how many times a word (from the vocab) is appearing in a given doc / total no. of words in that doc\n",
        "# TF(today | doc2) = 2/5\n",
        "# TF_score will be high for \"very frequent\" words in a given doc\n",
        "\n",
        "# IDF_score = log( (1+Total no. of documents) / (1+No. of documents contianing that \"term\") )\n",
        "# IDF_score penalizes those those words which are EQUALLY frequent in almost all the documents\n",
        "\n",
        "# TF_IDF score = TF_score*IDF_score"
      ]
    },
    {
      "cell_type": "code",
      "execution_count": null,
      "id": "e026f9e6",
      "metadata": {
        "id": "e026f9e6",
        "outputId": "7efd63ea-273f-48a7-fc8a-1c0423a23588",
        "colab": {
          "base_uri": "https://localhost:8080/"
        }
      },
      "outputs": [
        {
          "output_type": "stream",
          "name": "stdout",
          "text": [
            "86.82 0.14\n",
            "85.24 0.84\n"
          ]
        },
        {
          "output_type": "execute_result",
          "data": {
            "text/plain": [
              "1000"
            ]
          },
          "metadata": {},
          "execution_count": 106
        }
      ],
      "source": [
        "from sklearn.feature_extraction.text import TfidfVectorizer\n",
        "X = data['cleaned_tweets_w/o_SW']\n",
        "y = data['label']\n",
        "\n",
        "# we want to include only those words in the vocab which have min df of 5,\n",
        "# means select only those words which occur ATLEAST in 5 documents!!\n",
        "# AND SELECT the TOP 1000 FEATURES ONLY to build the model\n",
        "TFIDF = TfidfVectorizer(stop_words=final_stopwords,  min_df=5, max_features=1000)\n",
        "\n",
        "LR1 = LogisticRegression(class_weight='balanced', solver='liblinear', penalty='l1', C=0.4)\n",
        "CV_pipe = Pipeline([('TFIDF', TFIDF) , ('LR', LR1)] )\n",
        "results = cross_validate(CV_pipe, X, y, cv=kfold, scoring='accuracy', return_train_score=True)\n",
        "\n",
        "# print(results['train_score'])\n",
        "print(np.round((results['train_score'].mean())*100, 2), np.round((results['train_score'].std())*100, 2))\n",
        "\n",
        "# print(results['test_score'])\n",
        "print(np.round((results['test_score'].mean())*100, 2), np.round((results['test_score'].std())*100, 2))\n",
        "\n",
        "TFIDF.fit_transform(X)\n",
        "len(TFIDF.vocabulary_)  # no. of features AFTER applying the stopwords"
      ]
    },
    {
      "cell_type": "code",
      "execution_count": null,
      "id": "83a4cdff",
      "metadata": {
        "id": "83a4cdff"
      },
      "outputs": [],
      "source": []
    },
    {
      "cell_type": "markdown",
      "id": "398eb47b",
      "metadata": {
        "id": "398eb47b"
      },
      "source": [
        "# 8. Dimesionality Reduction"
      ]
    },
    {
      "cell_type": "code",
      "execution_count": null,
      "id": "597c7c15",
      "metadata": {
        "id": "597c7c15"
      },
      "outputs": [],
      "source": [
        "# [7920 x 15955] >>> [7920 x 1000]"
      ]
    },
    {
      "cell_type": "code",
      "execution_count": null,
      "id": "bca8ddcd",
      "metadata": {
        "id": "bca8ddcd",
        "outputId": "e21c5ce8-8d29-4d27-a359-9328f98aff54",
        "colab": {
          "base_uri": "https://localhost:8080/"
        }
      },
      "outputs": [
        {
          "output_type": "stream",
          "name": "stdout",
          "text": [
            "87.42 0.25\n",
            "86.57 0.83\n"
          ]
        },
        {
          "output_type": "execute_result",
          "data": {
            "text/plain": [
              "15955"
            ]
          },
          "metadata": {},
          "execution_count": 108
        }
      ],
      "source": [
        "from sklearn.decomposition import TruncatedSVD\n",
        "\n",
        "X = data['cleaned_tweets_w/o_SW']\n",
        "y = data['label']\n",
        "\n",
        "TFIDF = TfidfVectorizer()  # will originally have 15955 features\n",
        "SVD = TruncatedSVD(n_components=1000)  # reduce it to 1000 PCs\n",
        "\n",
        "LR1 = LogisticRegression(class_weight='balanced', solver='liblinear', penalty='l1', C=0.4)\n",
        "CV_pipe = Pipeline([('TFIDF', TFIDF), ('SVD', SVD), ('LR', LR1)] )\n",
        "results = cross_validate(CV_pipe, X, y, cv=kfold, scoring='accuracy', return_train_score=True)\n",
        "\n",
        "# print(results['train_score'])\n",
        "print(np.round((results['train_score'].mean())*100, 2), np.round((results['train_score'].std())*100, 2))\n",
        "\n",
        "# print(results['test_score'])\n",
        "print(np.round((results['test_score'].mean())*100, 2), np.round((results['test_score'].std())*100, 2))\n",
        "\n",
        "TFIDF.fit_transform(X)\n",
        "len(TFIDF.vocabulary_)"
      ]
    },
    {
      "cell_type": "code",
      "execution_count": null,
      "id": "9f6725d9",
      "metadata": {
        "id": "9f6725d9"
      },
      "outputs": [],
      "source": []
    },
    {
      "cell_type": "code",
      "execution_count": null,
      "id": "007da074",
      "metadata": {
        "id": "007da074",
        "outputId": "a6216a0f-1460-45ab-bb9d-a96d03664528",
        "colab": {
          "base_uri": "https://localhost:8080/"
        }
      },
      "outputs": [
        {
          "output_type": "execute_result",
          "data": {
            "text/plain": [
              "{'TFIDF': TfidfVectorizer(),\n",
              " 'SVD': TruncatedSVD(n_components=1000),\n",
              " 'LR': LogisticRegression(C=0.4, class_weight='balanced', penalty='l1',\n",
              "                    solver='liblinear')}"
            ]
          },
          "metadata": {},
          "execution_count": 109
        }
      ],
      "source": [
        "CV_pipe.named_steps"
      ]
    },
    {
      "cell_type": "code",
      "execution_count": null,
      "id": "3eb3c8fb",
      "metadata": {
        "id": "3eb3c8fb"
      },
      "outputs": [],
      "source": []
    },
    {
      "cell_type": "code",
      "execution_count": null,
      "id": "7b7d5b22",
      "metadata": {
        "id": "7b7d5b22"
      },
      "outputs": [],
      "source": []
    },
    {
      "cell_type": "code",
      "execution_count": null,
      "id": "bf2c3221",
      "metadata": {
        "id": "bf2c3221"
      },
      "outputs": [],
      "source": []
    },
    {
      "cell_type": "markdown",
      "id": "251e95fc",
      "metadata": {
        "id": "251e95fc"
      },
      "source": [
        "# 9. N-Gram Models"
      ]
    },
    {
      "cell_type": "code",
      "execution_count": null,
      "id": "0f043d71",
      "metadata": {
        "id": "0f043d71",
        "outputId": "aca198c1-87e8-46cd-f887-65f8d3c7c887",
        "colab": {
          "base_uri": "https://localhost:8080/"
        }
      },
      "outputs": [
        {
          "output_type": "stream",
          "name": "stdout",
          "text": [
            "88.89 0.21\n",
            "86.84 0.68\n"
          ]
        },
        {
          "output_type": "execute_result",
          "data": {
            "text/plain": [
              "3322"
            ]
          },
          "metadata": {},
          "execution_count": 110
        }
      ],
      "source": [
        "# Unigrams + Bigrams\n",
        "X = data['cleaned_tweets_w/o_SW']\n",
        "y = data['label']\n",
        "\n",
        "# we want to include only those words in the vocab which have min df of 5,\n",
        "# means select only those words which occur ATLEAST in 5 documents!!\n",
        "# AND SELECT the TOP 1000 FEATURES ONLY to build the model\n",
        "CV = CountVectorizer(stop_words=final_stopwords,  ngram_range=(1, 2), min_df=5)\n",
        "\n",
        "LR1 = LogisticRegression(class_weight='balanced', solver='liblinear', penalty='l1', C=0.4)\n",
        "CV_pipe = Pipeline([('CV', CV) , ('LR', LR1)] )\n",
        "results = cross_validate(CV_pipe, X, y, cv=kfold, scoring='accuracy', return_train_score=True)\n",
        "\n",
        "# print(results['train_score'])\n",
        "print(np.round((results['train_score'].mean())*100, 2), np.round((results['train_score'].std())*100, 2))\n",
        "\n",
        "# print(results['test_score'])\n",
        "print(np.round((results['test_score'].mean())*100, 2), np.round((results['test_score'].std())*100, 2))\n",
        "\n",
        "CV.fit_transform(X)\n",
        "len(CV.vocabulary_)  # no. of features AFTER applying the stopwords"
      ]
    },
    {
      "cell_type": "code",
      "execution_count": null,
      "id": "3a547e56",
      "metadata": {
        "id": "3a547e56"
      },
      "outputs": [],
      "source": [
        "# CV.vocabulary_"
      ]
    },
    {
      "cell_type": "code",
      "execution_count": null,
      "id": "47c796bc",
      "metadata": {
        "id": "47c796bc",
        "outputId": "52c788c4-0d27-4579-9325-befe8138b856",
        "colab": {
          "base_uri": "https://localhost:8080/"
        }
      },
      "outputs": [
        {
          "output_type": "execute_result",
          "data": {
            "text/plain": [
              "{'CV': CountVectorizer(min_df=5, ngram_range=(1, 2),\n",
              "                 stop_words=['phone', 'mobile', 'twitter', 'rt', 'com', 'follow',\n",
              "                             'eleven', 'theirs', 'show', 'him', 'may', 'hadn',\n",
              "                             'upon', 'however', 'being', 'otherwise',\n",
              "                             'whereupon', 'not', 'ie', 'among', 'six', 'eg',\n",
              "                             'herein', 'every', 'cry', 'having', 'most', 'done',\n",
              "                             'just', 'else', ...]),\n",
              " 'LR': LogisticRegression(C=0.4, class_weight='balanced', penalty='l1',\n",
              "                    solver='liblinear')}"
            ]
          },
          "metadata": {},
          "execution_count": 112
        }
      ],
      "source": [
        "CV_pipe.named_steps"
      ]
    },
    {
      "cell_type": "code",
      "execution_count": null,
      "id": "d2686aec",
      "metadata": {
        "id": "d2686aec",
        "outputId": "c9d26f43-ac24-48c2-cf2d-e0f144960740",
        "colab": {
          "base_uri": "https://localhost:8080/",
          "height": 35
        }
      },
      "outputs": [
        {
          "output_type": "execute_result",
          "data": {
            "text/plain": [
              "'1.3.2'"
            ],
            "application/vnd.google.colaboratory.intrinsic+json": {
              "type": "string"
            }
          },
          "metadata": {},
          "execution_count": 113
        }
      ],
      "source": [
        "import joblib\n",
        "joblib.__version__"
      ]
    },
    {
      "cell_type": "code",
      "execution_count": null,
      "id": "7b502abf",
      "metadata": {
        "id": "7b502abf"
      },
      "outputs": [],
      "source": [
        "# pip install --upgrade joblib==1.1.0"
      ]
    },
    {
      "cell_type": "code",
      "execution_count": null,
      "id": "d8e5bd58",
      "metadata": {
        "id": "d8e5bd58",
        "colab": {
          "base_uri": "https://localhost:8080/"
        },
        "outputId": "cfb94acc-41b3-480d-e45c-ce076369911d"
      },
      "outputs": [
        {
          "output_type": "stream",
          "name": "stdout",
          "text": [
            "Collecting mglearn\n",
            "  Downloading mglearn-0.2.0-py2.py3-none-any.whl (581 kB)\n",
            "\u001b[2K     \u001b[90m━━━━━━━━━━━━━━━━━━━━━━━━━━━━━━━━━━━━━━━━\u001b[0m \u001b[32m581.4/581.4 kB\u001b[0m \u001b[31m1.3 MB/s\u001b[0m eta \u001b[36m0:00:00\u001b[0m\n",
            "\u001b[?25hRequirement already satisfied: numpy in /usr/local/lib/python3.10/dist-packages (from mglearn) (1.25.2)\n",
            "Requirement already satisfied: matplotlib in /usr/local/lib/python3.10/dist-packages (from mglearn) (3.7.1)\n",
            "Requirement already satisfied: scikit-learn in /usr/local/lib/python3.10/dist-packages (from mglearn) (1.2.2)\n",
            "Requirement already satisfied: pandas in /usr/local/lib/python3.10/dist-packages (from mglearn) (1.5.3)\n",
            "Requirement already satisfied: pillow in /usr/local/lib/python3.10/dist-packages (from mglearn) (9.4.0)\n",
            "Requirement already satisfied: cycler in /usr/local/lib/python3.10/dist-packages (from mglearn) (0.12.1)\n",
            "Requirement already satisfied: imageio in /usr/local/lib/python3.10/dist-packages (from mglearn) (2.31.6)\n",
            "Requirement already satisfied: joblib in /usr/local/lib/python3.10/dist-packages (from mglearn) (1.3.2)\n",
            "Requirement already satisfied: contourpy>=1.0.1 in /usr/local/lib/python3.10/dist-packages (from matplotlib->mglearn) (1.2.0)\n",
            "Requirement already satisfied: fonttools>=4.22.0 in /usr/local/lib/python3.10/dist-packages (from matplotlib->mglearn) (4.50.0)\n",
            "Requirement already satisfied: kiwisolver>=1.0.1 in /usr/local/lib/python3.10/dist-packages (from matplotlib->mglearn) (1.4.5)\n",
            "Requirement already satisfied: packaging>=20.0 in /usr/local/lib/python3.10/dist-packages (from matplotlib->mglearn) (24.0)\n",
            "Requirement already satisfied: pyparsing>=2.3.1 in /usr/local/lib/python3.10/dist-packages (from matplotlib->mglearn) (3.1.2)\n",
            "Requirement already satisfied: python-dateutil>=2.7 in /usr/local/lib/python3.10/dist-packages (from matplotlib->mglearn) (2.8.2)\n",
            "Requirement already satisfied: pytz>=2020.1 in /usr/local/lib/python3.10/dist-packages (from pandas->mglearn) (2023.4)\n",
            "Requirement already satisfied: scipy>=1.3.2 in /usr/local/lib/python3.10/dist-packages (from scikit-learn->mglearn) (1.11.4)\n",
            "Requirement already satisfied: threadpoolctl>=2.0.0 in /usr/local/lib/python3.10/dist-packages (from scikit-learn->mglearn) (3.3.0)\n",
            "Requirement already satisfied: six>=1.5 in /usr/local/lib/python3.10/dist-packages (from python-dateutil>=2.7->matplotlib->mglearn) (1.16.0)\n",
            "Installing collected packages: mglearn\n",
            "Successfully installed mglearn-0.2.0\n"
          ]
        }
      ],
      "source": [
        "!pip install mglearn\n",
        "import mglearn"
      ]
    },
    {
      "cell_type": "code",
      "execution_count": null,
      "id": "1a9791e2",
      "metadata": {
        "id": "1a9791e2",
        "outputId": "aac87df0-d56e-4c8d-83fb-de6bb69f0ea8",
        "colab": {
          "base_uri": "https://localhost:8080/"
        }
      },
      "outputs": [
        {
          "output_type": "stream",
          "name": "stdout",
          "text": [
            "88.88 0.2\n",
            "86.84 0.68\n"
          ]
        },
        {
          "output_type": "execute_result",
          "data": {
            "text/plain": [
              "3871"
            ]
          },
          "metadata": {},
          "execution_count": 116
        }
      ],
      "source": [
        "# Unigrams + Bigrams + Trigrams\n",
        "X = data['cleaned_tweets_w/o_SW']\n",
        "y = data['label']\n",
        "\n",
        "# we want to include only those words in the vocab which have min df of 5,\n",
        "# means select only those words which occur ATLEAST in 5 documents!!\n",
        "# AND SELECT the TOP 1000 FEATURES ONLY to build the model\n",
        "CV = CountVectorizer(stop_words=final_stopwords,  ngram_range=(1, 3), min_df=5)\n",
        "\n",
        "LR1 = LogisticRegression(class_weight='balanced', solver='liblinear', penalty='l1', C=0.4)\n",
        "CV_pipe = Pipeline([('CV', CV) , ('LR', LR1)] )\n",
        "results = cross_validate(CV_pipe, X, y, cv=kfold, scoring='accuracy', return_train_score=True)\n",
        "\n",
        "# print(results['train_score'])\n",
        "print(np.round((results['train_score'].mean())*100, 2), np.round((results['train_score'].std())*100, 2))\n",
        "\n",
        "# print(results['test_score'])\n",
        "print(np.round((results['test_score'].mean())*100, 2), np.round((results['test_score'].std())*100, 2))\n",
        "\n",
        "CV.fit_transform(X)\n",
        "len(CV.vocabulary_)  # no. of features AFTER applying the stopwords"
      ]
    },
    {
      "cell_type": "code",
      "execution_count": null,
      "id": "bfd0d534",
      "metadata": {
        "id": "bfd0d534",
        "colab": {
          "base_uri": "https://localhost:8080/"
        },
        "outputId": "bde433cb-30ec-43e2-cdd8-ef2b168f1af1"
      },
      "outputs": [
        {
          "output_type": "execute_result",
          "data": {
            "text/plain": [
              "{'fingerprint': 1033,\n",
              " 'test': 3454,\n",
              " 'android': 76,\n",
              " 'apps': 210,\n",
              " 'beautiful': 296,\n",
              " 'cute': 721,\n",
              " 'health': 1438,\n",
              " 'igers': 1540,\n",
              " 'iphoneonly': 1848,\n",
              " 'iphonesia': 1858,\n",
              " 'iphone': 1697,\n",
              " 'android apps': 78,\n",
              " 'apps beautiful': 211,\n",
              " 'beautiful cute': 299,\n",
              " 'igers iphoneonly': 1545,\n",
              " 'iphoneonly iphonesia': 1854,\n",
              " 'iphonesia iphone': 1862,\n",
              " 'android apps beautiful': 79,\n",
              " 'apps beautiful cute': 212,\n",
              " 'finally': 1023,\n",
              " 'case': 497,\n",
              " 'thanks': 3482,\n",
              " 'yay': 3829,\n",
              " 'sony': 3182,\n",
              " 'xperia': 3822,\n",
              " 'sony xperia': 3208,\n",
              " 'love': 2103,\n",
              " 'talk': 3413,\n",
              " 'relax': 2830,\n",
              " 'smartphone': 3138,\n",
              " 'wifi': 3759,\n",
              " 'connect': 646,\n",
              " 'iphone smartphone': 1818,\n",
              " 'wired': 3774,\n",
              " 'know': 1955,\n",
              " 'wa': 3708,\n",
              " 'way': 3735,\n",
              " 'home': 1479,\n",
              " 'iphone cute': 1727,\n",
              " 'amazing': 62,\n",
              " 'service': 3030,\n",
              " 'apple': 117,\n",
              " 'question': 2772,\n",
              " 'pay': 2533,\n",
              " 'stupid': 3332,\n",
              " 'support': 3370,\n",
              " 'service apple': 3031,\n",
              " 'software': 3170,\n",
              " 'update': 3633,\n",
              " 'fucked': 1154,\n",
              " 'big': 341,\n",
              " 'time': 3506,\n",
              " 'iphones': 1857,\n",
              " 'software update': 3171,\n",
              " 'big time': 342,\n",
              " 'happy': 1395,\n",
              " 'instapic': 1651,\n",
              " 'instadaily': 1593,\n",
              " 'xperiaz': 3824,\n",
              " 'new': 2345,\n",
              " 'type': 3606,\n",
              " 'charger': 538,\n",
              " 'cable': 459,\n",
              " 'uk': 3611,\n",
              " 'amazon': 68,\n",
              " 'year': 3836,\n",
              " 'cross': 708,\n",
              " 'young': 3849,\n",
              " 'newyear': 2419,\n",
              " 'starting': 3286,\n",
              " 'recipe': 2806,\n",
              " 'technology': 3447,\n",
              " 'samsunggalaxys': 2973,\n",
              " 'iphonex': 1867,\n",
              " 'pic': 2615,\n",
              " 'charger cable': 540,\n",
              " 'new year': 2398,\n",
              " 'iphonex pic': 1871,\n",
              " 'bout': 400,\n",
              " 'shopping': 3065,\n",
              " 'listening': 2057,\n",
              " 'music': 2302,\n",
              " 'likeforlike': 2048,\n",
              " 'followforfollow': 1071,\n",
              " 'music iphone': 2305,\n",
              " 'photo': 2558,\n",
              " 'fun': 1164,\n",
              " 'selfie': 3015,\n",
              " 'pool': 2677,\n",
              " 'water': 3732,\n",
              " 'camera': 471,\n",
              " 'picoftheday': 2621,\n",
              " 'sun': 3353,\n",
              " 'instagood': 1602,\n",
              " 'boy': 406,\n",
              " 'sony camera': 3183,\n",
              " 'hey': 1456,\n",
              " 'make': 2155,\n",
              " 'ipod': 1873,\n",
              " 'color': 614,\n",
              " 'inch': 1571,\n",
              " 'crash': 694,\n",
              " 'fuckin': 1156,\n",
              " 'hey apple': 1457,\n",
              " 'apple make': 175,\n",
              " 'new ipod': 2377,\n",
              " 'ha': 1372,\n",
              " 'doe': 835,\n",
              " 'need': 2338,\n",
              " 'really': 2798,\n",
              " 'dropped': 872,\n",
              " 'ball': 278,\n",
              " 'design': 800,\n",
              " 'giving': 1285,\n",
              " 'simply': 3093,\n",
              " 'new android': 2346,\n",
              " 'crazy': 697,\n",
              " 'purchase': 2759,\n",
              " 'lol': 2078,\n",
              " 'work': 3790,\n",
              " 'hard': 1405,\n",
              " 'play': 2656,\n",
              " 'ipad': 1675,\n",
              " 'work hard': 3792,\n",
              " 'ipad apple': 1678,\n",
              " 'battery': 286,\n",
              " 'charge': 536,\n",
              " 'dead': 771,\n",
              " 'downtown': 859,\n",
              " 'saturday': 2981,\n",
              " 'rx': 2909,\n",
              " 'summer': 3351,\n",
              " 'urban': 3647,\n",
              " 'like': 2031,\n",
              " 'share': 3044,\n",
              " 'want': 3717,\n",
              " 'like share': 2043,\n",
              " 'share want': 3045,\n",
              " 'case iphone': 501,\n",
              " 'iphone iphone': 1769,\n",
              " 'iphone pic': 1802,\n",
              " 'like share want': 2044,\n",
              " 'case iphone iphone': 503,\n",
              " 'iphone iphone pic': 1774,\n",
              " 'instagram': 1614,\n",
              " 'photooftheday': 2597,\n",
              " 'tweegram': 3589,\n",
              " 'iphone instagood': 1756,\n",
              " 'instagood instagram': 1605,\n",
              " 'instagram photooftheday': 1624,\n",
              " 'photooftheday tweegram': 2605,\n",
              " 'iphonesia iphone instagood': 1863,\n",
              " 'iphone instagood instagram': 1757,\n",
              " 'instagood instagram photooftheday': 1606,\n",
              " 'instagram photooftheday tweegram': 1625,\n",
              " 'reason': 2802,\n",
              " 'suck': 3346,\n",
              " 'truth': 3577,\n",
              " 'agree': 46,\n",
              " 'fact': 960,\n",
              " 'reason iphone': 2803,\n",
              " 'iphone suck': 1830,\n",
              " 'suck apple': 3347,\n",
              " 'store': 3309,\n",
              " 'screen': 2996,\n",
              " 'monday': 2266,\n",
              " 'fucking': 1157,\n",
              " 'apple store': 190,\n",
              " 'fucking apple': 1158,\n",
              " 'art': 231,\n",
              " 'easter': 894,\n",
              " 'dear': 775,\n",
              " 'friend': 1135,\n",
              " 'face': 956,\n",
              " 'bunny': 440,\n",
              " 'email': 914,\n",
              " 'excuse': 943,\n",
              " 'pie': 2632,\n",
              " 'wife': 3757,\n",
              " 'apple pie': 182,\n",
              " 'day': 759,\n",
              " 'button': 445,\n",
              " 'broke': 426,\n",
              " 'hit': 1470,\n",
              " 'button broke': 446,\n",
              " 'completely': 636,\n",
              " 'black': 359,\n",
              " 'getting': 1261,\n",
              " 'text': 3455,\n",
              " 'check': 553,\n",
              " 'iphone screen': 1815,\n",
              " 'wallpaper': 3715,\n",
              " 'wall': 3714,\n",
              " 'galaxy': 1200,\n",
              " 'samsung': 2931,\n",
              " 'app': 107,\n",
              " 'time new': 3510,\n",
              " 'galaxy samsung': 1212,\n",
              " 'patent': 2530,\n",
              " 'million': 2225,\n",
              " 'thanks apple': 3483,\n",
              " 'apple apple': 120,\n",
              " 'messed': 2207,\n",
              " 'touch': 3548,\n",
              " 'frozen': 1145,\n",
              " 'logo': 2077,\n",
              " 'start': 3282,\n",
              " 'lose': 2096,\n",
              " 'kill': 1945,\n",
              " 'hateapple': 1422,\n",
              " 'ipod touch': 1876,\n",
              " 'flower': 1051,\n",
              " 'green': 1355,\n",
              " 'diamond': 812,\n",
              " 'love new': 2108,\n",
              " 'new case': 2356,\n",
              " 'new iphone': 2371,\n",
              " 'iphone case': 1718,\n",
              " 'new iphone iphone': 2374,\n",
              " 'watch': 3729,\n",
              " 'youtube': 3851,\n",
              " 'subscribe': 3342,\n",
              " 'daily': 738,\n",
              " 'vlog': 3693,\n",
              " 'twitch': 3599,\n",
              " 'gaming': 1231,\n",
              " 'xbox': 3815,\n",
              " 'game': 1217,\n",
              " 'io': 1660,\n",
              " 'youtube subscribe': 3852,\n",
              " 'subscribe daily': 3343,\n",
              " 'twitch gaming': 3602,\n",
              " 'gaming fun': 1232,\n",
              " 'fun xbox': 1177,\n",
              " 'xbox sony': 3816,\n",
              " 'sony game': 3185,\n",
              " 'io android': 1661,\n",
              " 'youtube subscribe daily': 3853,\n",
              " 'twitch gaming fun': 3603,\n",
              " 'gaming fun xbox': 1233,\n",
              " 'fun xbox sony': 1178,\n",
              " 'xbox sony game': 3817,\n",
              " 'thank': 3475,\n",
              " 'live': 2061,\n",
              " 'laugh': 1977,\n",
              " 'life': 2007,\n",
              " 'food': 1086,\n",
              " 'instago': 1599,\n",
              " 'instahub': 1632,\n",
              " 'thank samsung': 3479,\n",
              " 'samsung live': 2954,\n",
              " 'live laugh': 2064,\n",
              " 'laugh life': 1978,\n",
              " 'instago instahub': 1600,\n",
              " 'samsung live laugh': 2955,\n",
              " 'live laugh life': 2065,\n",
              " 'ch': 529,\n",
              " 'friendship': 1144,\n",
              " 'dog': 841,\n",
              " 'family': 971,\n",
              " 'goal': 1292,\n",
              " 'bestfriends': 326,\n",
              " 'pitbull': 2644,\n",
              " 'country': 679,\n",
              " 'america': 73,\n",
              " 'wild': 3763,\n",
              " 'mimmo': 2226,\n",
              " 'al': 52,\n",
              " 'taken': 3408,\n",
              " 'sunset': 3359,\n",
              " 'sky': 3116,\n",
              " 'instapic mimmo': 1653,\n",
              " 'mimmo al': 2227,\n",
              " 'taken sony': 3410,\n",
              " 'sony rx': 3196,\n",
              " 'sky beautiful': 3117,\n",
              " 'beautiful fun': 303,\n",
              " 'fun pic': 1173,\n",
              " 'instapic mimmo al': 1654,\n",
              " 'taken sony rx': 3411,\n",
              " 'sky beautiful fun': 3118,\n",
              " 'sister': 3106,\n",
              " 'bought': 396,\n",
              " 'early': 886,\n",
              " 'gift': 1263,\n",
              " 'bought new': 397,\n",
              " 'happy samsung': 1401,\n",
              " 'received': 2805,\n",
              " 'note': 2444,\n",
              " 'samsung note': 2957,\n",
              " 'market': 2176,\n",
              " 'delete': 789,\n",
              " 'song': 3175,\n",
              " 'itunes': 1885,\n",
              " 'apple itunes': 166,\n",
              " 'everybody': 937,\n",
              " 'freaking': 1114,\n",
              " 'window': 3766,\n",
              " 'bad': 276,\n",
              " 'cheap': 552,\n",
              " 'tech': 3436,\n",
              " 'tech apple': 3437,\n",
              " 'bull': 437,\n",
              " 'instasize': 1655,\n",
              " 'smile': 3148,\n",
              " 'potd': 2692,\n",
              " 'let': 1998,\n",
              " 'candid': 479,\n",
              " 'sunday': 3354,\n",
              " 'eye': 955,\n",
              " 'ootd': 2485,\n",
              " 'fashion': 981,\n",
              " 'blackandwhite': 362,\n",
              " 'mylife': 2313,\n",
              " 'film': 1019,\n",
              " 'set': 3034,\n",
              " 'building': 436,\n",
              " 'video': 3679,\n",
              " 'producer': 2723,\n",
              " 'videoproduction': 3684,\n",
              " 'commercial': 627,\n",
              " 'actor': 25,\n",
              " 'actress': 26,\n",
              " 'losangeles': 2095,\n",
              " 'movie': 2295,\n",
              " 'acting': 23,\n",
              " 'startup': 3287,\n",
              " 'photooftheday beautiful': 2598,\n",
              " 'iphone apple': 1705,\n",
              " 'cupcake': 711,\n",
              " 'pink': 2638,\n",
              " 'sweet': 3385,\n",
              " 'cherry': 557,\n",
              " 'sexy': 3038,\n",
              " 'lady': 1964,\n",
              " 'iphon': 1696,\n",
              " 'live iphone': 2063,\n",
              " 'iphone iphonesia': 1781,\n",
              " 'iphonesia instagood': 1859,\n",
              " 'instagood photooftheday': 1612,\n",
              " 'iphonesia instagood photooftheday': 1860,\n",
              " 'week': 3743,\n",
              " 'end': 919,\n",
              " 'plus': 2667,\n",
              " 'moment': 2263,\n",
              " 'italy': 1881,\n",
              " 'iphone plus': 1805,\n",
              " 'plus apple': 2668,\n",
              " 'iphone iphone plus': 1775,\n",
              " 'iphone plus apple': 1806,\n",
              " 'photography': 2581,\n",
              " 'nature': 2325,\n",
              " 'landscape': 1967,\n",
              " 'view': 3685,\n",
              " 'tree': 3565,\n",
              " 'travel': 3559,\n",
              " 'google': 1316,\n",
              " 'cut': 720,\n",
              " 'program': 2732,\n",
              " 'google apple': 1317,\n",
              " 'look': 2085,\n",
              " 'got': 1324,\n",
              " 'christmas': 570,\n",
              " 'girl': 1275,\n",
              " 'look got': 2088,\n",
              " 'instacool': 1592,\n",
              " 'photooftheday iphone': 2603,\n",
              " 'iphone instago': 1755,\n",
              " 'free': 1115,\n",
              " 'iphone ipad': 1764,\n",
              " 'ipad ipod': 1688,\n",
              " 'iphone ipad ipod': 1768,\n",
              " 'talking': 3414,\n",
              " 'appstore': 219,\n",
              " 'iphone app': 1704,\n",
              " 'joy': 1911,\n",
              " 'peace': 2541,\n",
              " 'reflect': 2821,\n",
              " 'remember': 2833,\n",
              " 'cloud': 594,\n",
              " 'cloudhub': 597,\n",
              " 'skyhub': 3121,\n",
              " 'gr': 1338,\n",
              " 'joy peace': 1912,\n",
              " 'peace reflect': 2542,\n",
              " 'reflect remember': 2822,\n",
              " 'remember sky': 2834,\n",
              " 'sky cloud': 3119,\n",
              " 'cloud cloudhub': 595,\n",
              " 'cloudhub skyhub': 598,\n",
              " 'skyhub tree': 3122,\n",
              " 'tree gr': 3566,\n",
              " 'gr iphone': 1339,\n",
              " 'joy peace reflect': 1913,\n",
              " 'peace reflect remember': 2543,\n",
              " 'reflect remember sky': 2823,\n",
              " 'remember sky cloud': 2835,\n",
              " 'sky cloud cloudhub': 3120,\n",
              " 'cloud cloudhub skyhub': 596,\n",
              " 'cloudhub skyhub tree': 599,\n",
              " 'skyhub tree gr': 3123,\n",
              " 'tree gr iphone': 3567,\n",
              " 'baby': 267,\n",
              " 'pet': 2551,\n",
              " 'baby boy': 269,\n",
              " 'pet iphone': 2552,\n",
              " 'letter': 1999,\n",
              " 'news': 2407,\n",
              " 'fail': 962,\n",
              " 'funny': 1180,\n",
              " 'news photography': 2416,\n",
              " 'photography fashion': 2583,\n",
              " 'fashion health': 984,\n",
              " 'health fail': 1439,\n",
              " 'fail tech': 964,\n",
              " 'tech ipad': 3440,\n",
              " 'ipad iphone': 1684,\n",
              " 'iphone funny': 1738,\n",
              " 'news photography fashion': 2417,\n",
              " 'photography fashion health': 2584,\n",
              " 'fashion health fail': 985,\n",
              " 'health fail tech': 1440,\n",
              " 'fail tech ipad': 965,\n",
              " 'tech ipad iphone': 3441,\n",
              " 'ipad iphone funny': 1686,\n",
              " 'hated': 1423,\n",
              " 'ye': 3831,\n",
              " 'tablet': 3400,\n",
              " 'use': 3651,\n",
              " 'fan': 976,\n",
              " 'think': 3494,\n",
              " 'quite': 2773,\n",
              " 'product': 2726,\n",
              " 'friday': 1132,\n",
              " 'called': 466,\n",
              " 'blackfriday': 365,\n",
              " 'shop': 3062,\n",
              " 'holiday': 1478,\n",
              " 'newyork': 2422,\n",
              " 'business': 441,\n",
              " 'money': 2267,\n",
              " 'birthday': 348,\n",
              " 'tv': 3587,\n",
              " 'computer': 641,\n",
              " 'school': 2990,\n",
              " 'black friday': 360,\n",
              " 'family friend': 973,\n",
              " 'seriously': 3028,\n",
              " 'profit': 2731,\n",
              " 'going': 1296,\n",
              " 'pocket': 2672,\n",
              " 'supported': 3373,\n",
              " 'po': 2671,\n",
              " 'month': 2273,\n",
              " 'good': 1303,\n",
              " 'job': 1906,\n",
              " 'apple charger': 127,\n",
              " 'good job': 1307,\n",
              " 'job apple': 1907,\n",
              " 'actually': 28,\n",
              " 'killing': 1947,\n",
              " 'paying': 2535,\n",
              " 'replacement': 2841,\n",
              " 'droid': 870,\n",
              " 'apple suck': 191,\n",
              " 'wait': 3709,\n",
              " 'double': 849,\n",
              " 'saw': 2985,\n",
              " 'cool': 658,\n",
              " 'picture': 2627,\n",
              " 'camera iphone': 472,\n",
              " 'iphone cool': 1725,\n",
              " 'complete': 635,\n",
              " 'run': 2906,\n",
              " 'beach': 291,\n",
              " 'sport': 3268,\n",
              " 'sport health': 3269,\n",
              " 'bit': 357,\n",
              " 'hashtag': 1413,\n",
              " 'gain': 1191,\n",
              " 'follower': 1068,\n",
              " 'rts': 2897,\n",
              " 'sougofollow': 3241,\n",
              " 'ff': 1005,\n",
              " 'si': 3083,\n",
              " 'gain follower': 1194,\n",
              " 'follower rts': 1069,\n",
              " 'rts gain': 2898,\n",
              " 'gain iphone': 1196,\n",
              " 'iphone sougofollow': 1822,\n",
              " 'sougofollow ff': 3242,\n",
              " 'gain follower rts': 1195,\n",
              " 'follower rts gain': 1070,\n",
              " 'rts gain iphone': 2900,\n",
              " 'gain iphone sougofollow': 1197,\n",
              " 'iphone sougofollow ff': 1823,\n",
              " 'iphoneography': 1845,\n",
              " 'streetphotography': 3323,\n",
              " 'iphonephotography': 1855,\n",
              " 'mobilephotography': 2247,\n",
              " 'bright': 422,\n",
              " 'iphoneonly iphoneography': 1853,\n",
              " 'apple color': 129,\n",
              " 'user': 3656,\n",
              " 'dating': 748,\n",
              " 'iphone user': 1833,\n",
              " 'le': 1982,\n",
              " 'random': 2786,\n",
              " 'instamood': 1642,\n",
              " 'photo love': 2561,\n",
              " 'pink iphone': 2639,\n",
              " 'shine': 3048,\n",
              " 'wine': 3769,\n",
              " 'copenhagen': 665,\n",
              " 'creative': 703,\n",
              " 'composer': 638,\n",
              " 'denmark': 797,\n",
              " 'hot': 1496,\n",
              " 'iconic': 1525,\n",
              " 'keepthefaith': 1932,\n",
              " 'mariajensen': 2173,\n",
              " 'original': 2491,\n",
              " 'pop': 2679,\n",
              " 'red': 2811,\n",
              " 'rock': 2883,\n",
              " 'soul': 3243,\n",
              " 'singer': 3095,\n",
              " 'songwriter': 3179,\n",
              " 'universal': 3622,\n",
              " 'amazing beautiful': 63,\n",
              " 'beautiful copenhagen': 297,\n",
              " 'copenhagen creative': 666,\n",
              " 'creative composer': 704,\n",
              " 'composer denmark': 639,\n",
              " 'denmark fun': 798,\n",
              " 'fun hot': 1170,\n",
              " 'hot iconic': 1497,\n",
              " 'iconic keepthefaith': 1526,\n",
              " 'keepthefaith mariajensen': 1933,\n",
              " 'mariajensen music': 2174,\n",
              " 'music original': 2309,\n",
              " 'original pop': 2492,\n",
              " 'pop producer': 2680,\n",
              " 'producer red': 2724,\n",
              " 'red rock': 2812,\n",
              " 'rock soul': 2884,\n",
              " 'soul singer': 3244,\n",
              " 'singer songwriter': 3096,\n",
              " 'songwriter song': 3180,\n",
              " 'song universal': 3177,\n",
              " 'universal sony': 3623,\n",
              " 'amazing beautiful copenhagen': 64,\n",
              " 'beautiful copenhagen creative': 298,\n",
              " 'copenhagen creative composer': 667,\n",
              " 'creative composer denmark': 705,\n",
              " 'composer denmark fun': 640,\n",
              " 'denmark fun hot': 799,\n",
              " 'fun hot iconic': 1171,\n",
              " 'hot iconic keepthefaith': 1498,\n",
              " 'iconic keepthefaith mariajensen': 1527,\n",
              " 'keepthefaith mariajensen music': 1934,\n",
              " 'mariajensen music original': 2175,\n",
              " 'music original pop': 2310,\n",
              " 'original pop producer': 2493,\n",
              " 'pop producer red': 2681,\n",
              " 'producer red rock': 2725,\n",
              " 'red rock soul': 2813,\n",
              " 'rock soul singer': 2885,\n",
              " 'soul singer songwriter': 3245,\n",
              " 'singer songwriter song': 3097,\n",
              " 'songwriter song universal': 3181,\n",
              " 'song universal sony': 3178,\n",
              " 'wedding': 3740,\n",
              " 'dvd': 881,\n",
              " 'thought': 3497,\n",
              " 'lost': 2099,\n",
              " 'samsung galaxy': 2940,\n",
              " 'ipadmini': 1691,\n",
              " 'instamoment': 1640,\n",
              " 'apple ipadmini': 156,\n",
              " 'new baby': 2351,\n",
              " 'feeling': 1002,\n",
              " 'broken': 427,\n",
              " 'replaced': 2840,\n",
              " 'happiness': 1394,\n",
              " 'ce': 521,\n",
              " 'light': 2029,\n",
              " 'indonesia': 1579,\n",
              " 'sonya': 3210,\n",
              " 'photooftheday instagood': 2599,\n",
              " 'sony sonya': 3199,\n",
              " 'gold': 1300,\n",
              " 'iphone gold': 1746,\n",
              " 'reset': 2845,\n",
              " 'sorry': 3238,\n",
              " 'white': 3755,\n",
              " 'tea': 3427,\n",
              " 'chilling': 562,\n",
              " 'samsung smile': 2964,\n",
              " 'clear': 584,\n",
              " 'cover': 685,\n",
              " 'samsunggalaxy': 2971,\n",
              " 'mouse': 2294,\n",
              " 'came': 468,\n",
              " 'magic': 2151,\n",
              " 'come': 620,\n",
              " 'followsunday': 1077,\n",
              " 'followback': 1063,\n",
              " 'teamfollowback': 3431,\n",
              " 'retweet': 2854,\n",
              " 'ya': 3827,\n",
              " 'thing': 3492,\n",
              " 'followsunday followback': 1078,\n",
              " 'followback teamfollowback': 1066,\n",
              " 'teamfollowback retweet': 3432,\n",
              " 'retweet iphone': 2859,\n",
              " 'iphone ya': 1839,\n",
              " 'ya thing': 3828,\n",
              " 'followsunday followback teamfollowback': 1079,\n",
              " 'followback teamfollowback retweet': 1067,\n",
              " 'teamfollowback retweet iphone': 3433,\n",
              " 'retweet iphone ya': 2860,\n",
              " 'iphone ya thing': 1840,\n",
              " 'problem': 2721,\n",
              " 'issue': 1878,\n",
              " 'able': 0,\n",
              " 'shoot': 3056,\n",
              " 'nature pic': 2331,\n",
              " 'pic photo': 2617,\n",
              " 'price': 2709,\n",
              " 'device': 811,\n",
              " 'new apple': 2347,\n",
              " 'apple device': 133,\n",
              " 'win': 3764,\n",
              " 'memory': 2195,\n",
              " 'brother': 428,\n",
              " 'oh': 2472,\n",
              " 'comment': 626,\n",
              " 'lip': 2055,\n",
              " 'enjoying': 923,\n",
              " 'playstation': 2661,\n",
              " 'gamer': 1228,\n",
              " 'iphone instagram': 1758,\n",
              " 'wrong': 3809,\n",
              " 'right': 2874,\n",
              " 'today': 3521,\n",
              " 'item': 1883,\n",
              " 'earphone': 889,\n",
              " 'earpods': 891,\n",
              " 'lifestyle': 2028,\n",
              " 'fuckyou': 1161,\n",
              " 'bug': 435,\n",
              " 'buck': 433,\n",
              " 'little': 2060,\n",
              " 'quality': 2770,\n",
              " 'fuckyou apple': 1162,\n",
              " 'girlfriend': 1281,\n",
              " 'bf': 338,\n",
              " 'card': 493,\n",
              " 'present': 2702,\n",
              " 'mom': 2261,\n",
              " 'macbookpro': 2145,\n",
              " 'macbook': 2138,\n",
              " 'sweden': 3384,\n",
              " 'birthday present': 352,\n",
              " 'apple macbookpro': 174,\n",
              " 'quote': 2774,\n",
              " 'wisdom': 3776,\n",
              " 'word': 3787,\n",
              " 'tweetgram': 3595,\n",
              " 'photo quote': 2569,\n",
              " 'quote day': 2775,\n",
              " 'day quote': 767,\n",
              " 'quote wisdom': 2778,\n",
              " 'wisdom word': 3777,\n",
              " 'word smile': 3788,\n",
              " 'smile tweetgram': 3154,\n",
              " 'tweetgram cute': 3596,\n",
              " 'cute iphone': 728,\n",
              " 'iphone fashion': 1734,\n",
              " 'quote day quote': 2776,\n",
              " 'day quote wisdom': 768,\n",
              " 'quote wisdom word': 2779,\n",
              " 'wisdom word smile': 3778,\n",
              " 'word smile tweetgram': 3789,\n",
              " 'smile tweetgram cute': 3155,\n",
              " 'tweetgram cute iphone': 3597,\n",
              " 'cute iphone fashion': 729,\n",
              " 'customer': 715,\n",
              " 'great': 1351,\n",
              " 'repair': 2838,\n",
              " 'hour': 1500,\n",
              " 'customer service': 718,\n",
              " 'recovery': 2809,\n",
              " 'mode': 2252,\n",
              " 'iphone update': 1832,\n",
              " 'recovery mode': 2810,\n",
              " 'yousuck': 3850,\n",
              " 'usa': 3648,\n",
              " 'company': 629,\n",
              " 'loser': 2097,\n",
              " 'working': 3798,\n",
              " 'server': 3029,\n",
              " 'dumb': 879,\n",
              " 'model': 2253,\n",
              " 'handmade': 1389,\n",
              " 'iphone sony': 1821,\n",
              " 'cd': 520,\n",
              " 'iphoneonly iphone': 1852,\n",
              " 'feature': 997,\n",
              " 'know iphone': 1957,\n",
              " 'box': 402,\n",
              " 'yey': 3843,\n",
              " 'blessed': 368,\n",
              " 'feliz': 1003,\n",
              " 'coffee': 605,\n",
              " 'effect': 905,\n",
              " 'created': 701,\n",
              " 'spring': 3272,\n",
              " 'galaxynote': 1215,\n",
              " 'awsome': 264,\n",
              " 'best': 320,\n",
              " 'note samsung': 2446,\n",
              " 'special': 3259,\n",
              " 'valentine': 3663,\n",
              " 'nowplaying': 2450,\n",
              " 'daughter': 756,\n",
              " 'poem': 2673,\n",
              " 'special app': 3260,\n",
              " 'app valentine': 115,\n",
              " 'daughter poem': 757,\n",
              " 'valentine iphone': 3666,\n",
              " 'special app valentine': 3261,\n",
              " 'pa': 2502,\n",
              " 'car': 491,\n",
              " 'sign': 3086,\n",
              " 'photo day': 2559,\n",
              " 'lunch': 2128,\n",
              " 'park': 2519,\n",
              " 'carrot': 495,\n",
              " 'banana': 279,\n",
              " 'lovely': 2114,\n",
              " 'autumn': 257,\n",
              " 'leaf': 1983,\n",
              " 'spend': 3263,\n",
              " 'faith': 968,\n",
              " 'book': 386,\n",
              " 'love iphone': 2105,\n",
              " 'iphone photography': 1800,\n",
              " 'say': 2986,\n",
              " 'fuck': 1150,\n",
              " 'took': 3541,\n",
              " 'download': 853,\n",
              " 'hate': 1415,\n",
              " 'apple want': 197,\n",
              " 'new update': 2395,\n",
              " 'took hour': 3542,\n",
              " 'hate apple': 1416,\n",
              " 'apple io': 151,\n",
              " 'taken instagram': 3409,\n",
              " 'added': 32,\n",
              " 'york': 3847,\n",
              " 'ny': 2455,\n",
              " 'education': 904,\n",
              " 'new york': 2399,\n",
              " 'iphone fun': 1737,\n",
              " 'missed': 2241,\n",
              " 'min': 2228,\n",
              " 'jump': 1918,\n",
              " 'rid': 2871,\n",
              " 'absolutely': 1,\n",
              " 'tmobile': 3520,\n",
              " 'ha come': 1373,\n",
              " 'iphone samsung': 1813,\n",
              " 'frank': 1112,\n",
              " 'ocean': 2462,\n",
              " 'new news': 2385,\n",
              " 'funny lol': 1182,\n",
              " 'iphone funny lol': 1739,\n",
              " 'annoying': 100,\n",
              " 'level': 2001,\n",
              " 'buy': 447,\n",
              " 'version': 3677,\n",
              " 'important': 1568,\n",
              " 'mood': 2275,\n",
              " 'bos': 392,\n",
              " 'blog': 371,\n",
              " 'style': 3336,\n",
              " 'bestoftheday': 330,\n",
              " 'pretty': 2704,\n",
              " 'babe': 266,\n",
              " 'wednesday': 3741,\n",
              " 'blog life': 373,\n",
              " 'send': 3023,\n",
              " 'turn': 3585,\n",
              " 'imessage': 1565,\n",
              " 'sleep': 3125,\n",
              " 'popular': 2682,\n",
              " 'tweet': 3594,\n",
              " 'rabbit': 2780,\n",
              " 'hop': 1492,\n",
              " 'bounce': 399,\n",
              " 'charlie': 547,\n",
              " 'shotoniphone': 3074,\n",
              " 'photographer': 2579,\n",
              " 'chuck': 575,\n",
              " 'shotoniphone apple': 3075,\n",
              " 'apple iphone': 157,\n",
              " 'photography photographer': 2592,\n",
              " 'apple iphone plus': 163,\n",
              " 'happy valentine': 1402,\n",
              " 'valentine day': 3664,\n",
              " 'day iphone': 763,\n",
              " 'new iphone case': 2373,\n",
              " 'happy valentine day': 1403,\n",
              " 'vegan': 3673,\n",
              " 'silly': 3088,\n",
              " 'syncing': 3397,\n",
              " 'hear': 1442,\n",
              " 'second': 3006,\n",
              " 'fml': 1057,\n",
              " 'candy': 481,\n",
              " 'nice': 2425,\n",
              " 'hand': 1388,\n",
              " 'gb': 1240,\n",
              " 'iphonex iphone': 1869,\n",
              " 'apple pic': 181,\n",
              " 'bar': 283,\n",
              " 'key': 1935,\n",
              " 'long': 2082,\n",
              " 'cold': 606,\n",
              " 'boot': 390,\n",
              " 'siri': 3103,\n",
              " 'nephew': 2341,\n",
              " 'shot': 3073,\n",
              " 'iphone igers': 1752,\n",
              " 'instagram instagood': 1619,\n",
              " 'instagood instadaily': 1603,\n",
              " 'literally': 2059,\n",
              " 'contact': 652,\n",
              " 'lost contact': 2100,\n",
              " 'wonder': 3784,\n",
              " 'available': 258,\n",
              " 'laptop': 1969,\n",
              " 'vaio': 3662,\n",
              " 'inlove': 1584,\n",
              " 'laptop sony': 1972,\n",
              " 'sony vaio': 3205,\n",
              " 'blackberry': 363,\n",
              " 'fruit': 1146,\n",
              " 'fall': 970,\n",
              " 'worry': 3803,\n",
              " 'soon': 3232,\n",
              " 'yum': 3856,\n",
              " 'food iphone': 1087,\n",
              " 'iphone iphoneonly': 1779,\n",
              " 'yosemite': 3848,\n",
              " 'hill': 1466,\n",
              " 'mac': 2132,\n",
              " 'apple update': 194,\n",
              " 'warning': 3725,\n",
              " 'display': 829,\n",
              " 'fuckyou sony': 1163,\n",
              " 'told': 3538,\n",
              " 'stop': 3304,\n",
              " 'like hour': 2034,\n",
              " 'selfie samsung': 3020,\n",
              " 'gear': 1250,\n",
              " 'vr': 3703,\n",
              " 'new samsung': 2388,\n",
              " 'new samsung galaxy': 2389,\n",
              " 'past': 2527,\n",
              " 'past year': 2529,\n",
              " 'american': 74,\n",
              " 'single': 3098,\n",
              " 'paid': 2508,\n",
              " 'sup': 3363,\n",
              " 'surf': 3375,\n",
              " 'capetown': 483,\n",
              " 'xt': 3825,\n",
              " 'instagram sup': 1627,\n",
              " 'sup surf': 3364,\n",
              " 'surf fun': 3376,\n",
              " 'fun capetown': 1165,\n",
              " 'capetown funny': 484,\n",
              " 'funny sexy': 1183,\n",
              " 'sexy samsung': 3039,\n",
              " 'samsung pic': 2959,\n",
              " 'instagram sup surf': 1628,\n",
              " 'sup surf fun': 3365,\n",
              " 'surf fun capetown': 3377,\n",
              " 'fun capetown funny': 1166,\n",
              " 'capetown funny sexy': 485,\n",
              " 'funny sexy samsung': 1184,\n",
              " 'sexy samsung pic': 3040,\n",
              " 'final': 1021,\n",
              " 'pro': 2718,\n",
              " 'trial': 3569,\n",
              " 'doe work': 839,\n",
              " 'half': 1386,\n",
              " 'downloaded': 858,\n",
              " 'mistake': 2243,\n",
              " 'stuff': 3331,\n",
              " 'arrived': 230,\n",
              " 'excited': 941,\n",
              " 'open': 2486,\n",
              " 'android samsung': 89,\n",
              " 'android samsung galaxy': 90,\n",
              " 'short': 3072,\n",
              " 'constantly': 650,\n",
              " 'piss': 2640,\n",
              " 'need new': 2339,\n",
              " 'iphone charger': 1723,\n",
              " 'like apple': 2032,\n",
              " 'officially': 2471,\n",
              " 'keyboard': 1936,\n",
              " 'okay': 2475,\n",
              " 'challenge': 530,\n",
              " 'decision': 783,\n",
              " 'simple': 3092,\n",
              " 'golden': 1301,\n",
              " 'state': 3289,\n",
              " 'colorful': 618,\n",
              " 'like iphone': 2035,\n",
              " 'installing': 1637,\n",
              " 'th': 3468,\n",
              " 'refuse': 2824,\n",
              " 'sync': 3396,\n",
              " 'th time': 3470,\n",
              " 'time week': 3513,\n",
              " 'night': 2429,\n",
              " 'father': 991,\n",
              " 'son': 3174,\n",
              " 'life instago': 2016,\n",
              " 'instahub instamood': 1633,\n",
              " 'instamood instagood': 1647,\n",
              " 'laugh life instago': 1979,\n",
              " 'life instago instahub': 2017,\n",
              " 'instago instahub instamood': 1601,\n",
              " 'jj': 1904,\n",
              " 'party': 2521,\n",
              " 'happy birthday': 1396,\n",
              " 'makeup': 2159,\n",
              " 'fashion makeup': 986,\n",
              " 'match': 2183,\n",
              " 'valentinesday': 3670,\n",
              " 'ad': 29,\n",
              " 'february': 998,\n",
              " 'gamers': 1230,\n",
              " 'college': 610,\n",
              " 'playstation sony': 2662,\n",
              " 'portrait': 2687,\n",
              " 'sonyalpha': 3211,\n",
              " 'mm': 2245,\n",
              " 'dof': 840,\n",
              " 'bokeh': 383,\n",
              " 'grey': 1357,\n",
              " 'sony sony': 3198,\n",
              " 'sony mm': 3190,\n",
              " 'hacker': 1375,\n",
              " 'password': 2524,\n",
              " 'hacker wifi': 1376,\n",
              " 'wifi password': 3762,\n",
              " 'password android': 2525,\n",
              " 'cute color': 723,\n",
              " 'color igers': 616,\n",
              " 'hacker wifi password': 1377,\n",
              " 'password android apps': 2526,\n",
              " 'beautiful cute color': 300,\n",
              " 'cute color igers': 724,\n",
              " 'color igers iphoneonly': 617,\n",
              " 'igers iphoneonly iphone': 1547,\n",
              " 'extra': 954,\n",
              " 'zoom': 3870,\n",
              " 'deleted': 790,\n",
              " 'music apple': 2303,\n",
              " 'apple fucking': 143,\n",
              " 'addiction': 35,\n",
              " 'dot': 848,\n",
              " 'prophet': 2737,\n",
              " 'husband': 1515,\n",
              " 'kindle': 1949,\n",
              " 'prophet husband': 2738,\n",
              " 'husband iphone': 1516,\n",
              " 'iphone android': 1701,\n",
              " 'android kindle': 87,\n",
              " 'kindle book': 1950,\n",
              " 'prophet husband iphone': 2739,\n",
              " 'husband iphone android': 1517,\n",
              " 'iphone android kindle': 1703,\n",
              " 'android kindle book': 88,\n",
              " 'upgraded': 3643,\n",
              " 'instagramers': 1629,\n",
              " 'instalike': 1634,\n",
              " 'iphone apple iphone': 1708,\n",
              " 'apple iphone iphone': 160,\n",
              " 'help': 1454,\n",
              " 'child': 560,\n",
              " 'malaysia': 2164,\n",
              " 'time day': 3508,\n",
              " ...}"
            ]
          },
          "metadata": {},
          "execution_count": 117
        }
      ],
      "source": [
        "CV.vocabulary_"
      ]
    },
    {
      "cell_type": "code",
      "source": [
        "# 0 refers to positive sentiment, 1 is negative sentiment\n"
      ],
      "metadata": {
        "id": "KbH3OAH69x8V"
      },
      "id": "KbH3OAH69x8V",
      "execution_count": null,
      "outputs": []
    },
    {
      "cell_type": "markdown",
      "source": [
        "10.\n",
        "word embeddings"
      ],
      "metadata": {
        "id": "SMDEgllq-jg_"
      },
      "id": "SMDEgllq-jg_"
    },
    {
      "cell_type": "code",
      "source": [
        "tweets_list = list(data['cleaned_tweets_w/o_SW'].apply(lambda x: x.split()))\n",
        "tweets_list[0] # list of lists, where each tweet is a list of tokens, finally we have a list of tweets"
      ],
      "metadata": {
        "id": "u8E8Efx293SQ",
        "colab": {
          "base_uri": "https://localhost:8080/"
        },
        "outputId": "cf329bd8-a7b6-4b37-953e-a4bdbfad2a30"
      },
      "id": "u8E8Efx293SQ",
      "execution_count": null,
      "outputs": [
        {
          "output_type": "execute_result",
          "data": {
            "text/plain": [
              "['fingerprint',\n",
              " 'pregnancy',\n",
              " 'test',\n",
              " 'android',\n",
              " 'apps',\n",
              " 'beautiful',\n",
              " 'cute',\n",
              " 'health',\n",
              " 'igers',\n",
              " 'iphoneonly',\n",
              " 'iphonesia',\n",
              " 'iphone']"
            ]
          },
          "metadata": {},
          "execution_count": 119
        }
      ]
    },
    {
      "cell_type": "code",
      "source": [
        "# !pip install gensim"
      ],
      "metadata": {
        "id": "uJZmObV6-5Gg"
      },
      "id": "uJZmObV6-5Gg",
      "execution_count": null,
      "outputs": []
    },
    {
      "cell_type": "code",
      "source": [
        "# Creating your own Word2Vec Model & Train\n",
        "from gensim.models import Word2Vec\n",
        "# train model\n",
        "cbow_model = Word2Vec(tweets_list, vector_size = 300, window = 3, min_count=5, sg=0)"
      ],
      "metadata": {
        "id": "v95PaxZ3-M8t"
      },
      "id": "v95PaxZ3-M8t",
      "execution_count": null,
      "outputs": []
    },
    {
      "cell_type": "code",
      "source": [
        "# summarize the loaded model\n",
        "print(cbow_model)"
      ],
      "metadata": {
        "id": "AOcFg40p_Om3",
        "colab": {
          "base_uri": "https://localhost:8080/"
        },
        "outputId": "e81435a4-3fce-4cd2-8f15-2b59de2987a7"
      },
      "id": "AOcFg40p_Om3",
      "execution_count": null,
      "outputs": [
        {
          "output_type": "stream",
          "name": "stdout",
          "text": [
            "Word2Vec<vocab=2420, vector_size=300, alpha=0.025>\n"
          ]
        }
      ]
    },
    {
      "cell_type": "code",
      "source": [
        "cbow_model.wv.index_to_key[:20]  # this your vocab"
      ],
      "metadata": {
        "id": "djw2WJyE_Sof",
        "colab": {
          "base_uri": "https://localhost:8080/"
        },
        "outputId": "e002b6ef-642d-4bfc-a1dd-e1bc250544c0"
      },
      "id": "djw2WJyE_Sof",
      "execution_count": null,
      "outputs": [
        {
          "output_type": "execute_result",
          "data": {
            "text/plain": [
              "['iphone',\n",
              " 'apple',\n",
              " 'i',\n",
              " 'my',\n",
              " 'the',\n",
              " 'to',\n",
              " 'a',\n",
              " 'is',\n",
              " 'samsung',\n",
              " 'it',\n",
              " 'and',\n",
              " 'you',\n",
              " 'new',\n",
              " 'twitter',\n",
              " 'for',\n",
              " 'com',\n",
              " 'phone',\n",
              " 'me',\n",
              " 'sony',\n",
              " 'not']"
            ]
          },
          "metadata": {},
          "execution_count": 123
        }
      ]
    },
    {
      "cell_type": "code",
      "source": [
        "len(cbow_model.wv.index_to_key)"
      ],
      "metadata": {
        "id": "d_dmvgmW_XkH",
        "colab": {
          "base_uri": "https://localhost:8080/"
        },
        "outputId": "926b6429-0d83-4b42-bd49-e4c5e290f1d4"
      },
      "id": "d_dmvgmW_XkH",
      "execution_count": null,
      "outputs": [
        {
          "output_type": "execute_result",
          "data": {
            "text/plain": [
              "2420"
            ]
          },
          "metadata": {},
          "execution_count": 124
        }
      ]
    },
    {
      "cell_type": "code",
      "source": [
        "def document_vector(doc):\n",
        "    \"\"\"Create document vectors by averaging word vectors. Remove out-of-vocabulary words.\"\"\"\n",
        "\n",
        "    # doc1 contains those words of the document which are included in the vocab\n",
        "    doc1 = [word for word in doc.split() if word in cbow_model.wv.index_to_key]\n",
        "\n",
        "    wv1 = []  # this will contain the WE of all the vocab words from the doc\n",
        "    for word in doc1:\n",
        "        wv1.append(cbow_model.wv.get_vector(word))\n",
        "    wv1_ = np.array(wv1)\n",
        "    wv1_mean = wv1_.mean(axis=0)\n",
        "    return wv1_mean\n",
        "\n",
        "# np.mean(model[doc], axis=0)"
      ],
      "metadata": {
        "id": "DvO4_Npk_bR1"
      },
      "id": "DvO4_Npk_bR1",
      "execution_count": null,
      "outputs": []
    },
    {
      "cell_type": "code",
      "source": [
        "tweets_temp = data['cleaned_tweets_w/o_SW'].apply(document_vector)"
      ],
      "metadata": {
        "id": "AZwC0XHV_k9V"
      },
      "id": "AZwC0XHV_k9V",
      "execution_count": null,
      "outputs": []
    },
    {
      "cell_type": "code",
      "source": [
        "tweets_temp[:5]  # displaying the 1st 5 tweets, as document vectors"
      ],
      "metadata": {
        "id": "XR7JZjke_mP_",
        "colab": {
          "base_uri": "https://localhost:8080/"
        },
        "outputId": "ed2f07f8-4e5d-46ac-d3a4-2b1c3cc11ba8"
      },
      "id": "XR7JZjke_mP_",
      "execution_count": null,
      "outputs": [
        {
          "output_type": "execute_result",
          "data": {
            "text/plain": [
              "0    [0.118419744, 0.29794657, -0.024323152, 0.09580207, 0.05792671, -0.4546201, 0.11106969, 0.6411185, -0.121994026, 0.031069094, -0.014742346, -0.17529374, -0.05175458, -0.068488866, -0.14111272, -0....\n",
              "1    [0.009641851, 0.17817849, -0.00037868618, 0.038054693, 0.001928056, -0.30781737, 0.21014664, 0.4828821, -0.012558332, -0.30153045, -0.004835489, -0.32221195, -0.031100243, 0.09510963, -0.22985157,...\n",
              "2    [-0.00390851, 0.13015501, 0.071978085, 0.10244033, -0.020107245, -0.1604831, 0.20395821, 0.42992246, 0.09220762, -0.19447601, 0.044206034, -0.22736244, -0.029603196, 0.04699163, -0.17968638, -0.08...\n",
              "3    [0.019903759, 0.11169279, 0.11135772, 0.15312584, -0.04617293, -0.12684768, 0.26107132, 0.4758018, 0.1585506, -0.2621775, 0.08023342, -0.28405353, -0.016486505, 0.0881598, -0.21985927, -0.06038307...\n",
              "4    [-0.012829322, 0.10119724, 0.08378095, 0.1264955, -0.047464322, -0.11679185, 0.24561165, 0.43695146, 0.15844855, -0.28545845, 0.06997085, -0.2754091, -0.032981187, 0.07702531, -0.22187456, -0.0937...\n",
              "Name: cleaned_tweets_w/o_SW, dtype: object"
            ]
          },
          "metadata": {},
          "execution_count": 127
        }
      ]
    },
    {
      "cell_type": "code",
      "source": [
        "tweets_temp[0].shape  # each document vecotr is 300-dimensional !!"
      ],
      "metadata": {
        "id": "tKiFcVNH_uFb",
        "colab": {
          "base_uri": "https://localhost:8080/"
        },
        "outputId": "760fa17c-94c0-43d5-821c-eb8f825e48c8"
      },
      "id": "tKiFcVNH_uFb",
      "execution_count": null,
      "outputs": [
        {
          "output_type": "execute_result",
          "data": {
            "text/plain": [
              "(300,)"
            ]
          },
          "metadata": {},
          "execution_count": 128
        }
      ]
    },
    {
      "cell_type": "code",
      "source": [
        "type(tweets_temp)"
      ],
      "metadata": {
        "id": "1hzcnHIG_x-M",
        "colab": {
          "base_uri": "https://localhost:8080/",
          "height": 203
        },
        "outputId": "13414815-49d9-44f0-bf22-e1d3d3b0eb3e"
      },
      "id": "1hzcnHIG_x-M",
      "execution_count": null,
      "outputs": [
        {
          "output_type": "execute_result",
          "data": {
            "text/plain": [
              "pandas.core.series.Series"
            ],
            "text/html": [
              "<div style=\"max-width:800px; border: 1px solid var(--colab-border-color);\"><style>\n",
              "      pre.function-repr-contents {\n",
              "        overflow-x: auto;\n",
              "        padding: 8px 12px;\n",
              "        max-height: 500px;\n",
              "      }\n",
              "\n",
              "      pre.function-repr-contents.function-repr-contents-collapsed {\n",
              "        cursor: pointer;\n",
              "        max-height: 100px;\n",
              "      }\n",
              "    </style>\n",
              "    <pre style=\"white-space: initial; background:\n",
              "         var(--colab-secondary-surface-color); padding: 8px 12px;\n",
              "         border-bottom: 1px solid var(--colab-border-color);\"><b>pandas.core.series.Series</b><br/>def __init__(data=None, index=None, dtype: Dtype | None=None, name=None, copy: bool=False, fastpath: bool=False) -&gt; None</pre><pre class=\"function-repr-contents function-repr-contents-collapsed\" style=\"\"><a class=\"filepath\" style=\"display:none\" href=\"#\">/usr/local/lib/python3.10/dist-packages/pandas/core/series.py</a>One-dimensional ndarray with axis labels (including time series).\n",
              "\n",
              "Labels need not be unique but must be a hashable type. The object\n",
              "supports both integer- and label-based indexing and provides a host of\n",
              "methods for performing operations involving the index. Statistical\n",
              "methods from ndarray have been overridden to automatically exclude\n",
              "missing data (currently represented as NaN).\n",
              "\n",
              "Operations between Series (+, -, /, \\*, \\*\\*) align values based on their\n",
              "associated index values-- they need not be the same length. The result\n",
              "index will be the sorted union of the two indexes.\n",
              "\n",
              "Parameters\n",
              "----------\n",
              "data : array-like, Iterable, dict, or scalar value\n",
              "    Contains data stored in Series. If data is a dict, argument order is\n",
              "    maintained.\n",
              "index : array-like or Index (1d)\n",
              "    Values must be hashable and have the same length as `data`.\n",
              "    Non-unique index values are allowed. Will default to\n",
              "    RangeIndex (0, 1, 2, ..., n) if not provided. If data is dict-like\n",
              "    and index is None, then the keys in the data are used as the index. If the\n",
              "    index is not None, the resulting Series is reindexed with the index values.\n",
              "dtype : str, numpy.dtype, or ExtensionDtype, optional\n",
              "    Data type for the output Series. If not specified, this will be\n",
              "    inferred from `data`.\n",
              "    See the :ref:`user guide &lt;basics.dtypes&gt;` for more usages.\n",
              "name : str, optional\n",
              "    The name to give to the Series.\n",
              "copy : bool, default False\n",
              "    Copy input data. Only affects Series or 1d ndarray input. See examples.\n",
              "\n",
              "Notes\n",
              "-----\n",
              "Please reference the :ref:`User Guide &lt;basics.series&gt;` for more information.\n",
              "\n",
              "Examples\n",
              "--------\n",
              "Constructing Series from a dictionary with an Index specified\n",
              "\n",
              "&gt;&gt;&gt; d = {&#x27;a&#x27;: 1, &#x27;b&#x27;: 2, &#x27;c&#x27;: 3}\n",
              "&gt;&gt;&gt; ser = pd.Series(data=d, index=[&#x27;a&#x27;, &#x27;b&#x27;, &#x27;c&#x27;])\n",
              "&gt;&gt;&gt; ser\n",
              "a   1\n",
              "b   2\n",
              "c   3\n",
              "dtype: int64\n",
              "\n",
              "The keys of the dictionary match with the Index values, hence the Index\n",
              "values have no effect.\n",
              "\n",
              "&gt;&gt;&gt; d = {&#x27;a&#x27;: 1, &#x27;b&#x27;: 2, &#x27;c&#x27;: 3}\n",
              "&gt;&gt;&gt; ser = pd.Series(data=d, index=[&#x27;x&#x27;, &#x27;y&#x27;, &#x27;z&#x27;])\n",
              "&gt;&gt;&gt; ser\n",
              "x   NaN\n",
              "y   NaN\n",
              "z   NaN\n",
              "dtype: float64\n",
              "\n",
              "Note that the Index is first build with the keys from the dictionary.\n",
              "After this the Series is reindexed with the given Index values, hence we\n",
              "get all NaN as a result.\n",
              "\n",
              "Constructing Series from a list with `copy=False`.\n",
              "\n",
              "&gt;&gt;&gt; r = [1, 2]\n",
              "&gt;&gt;&gt; ser = pd.Series(r, copy=False)\n",
              "&gt;&gt;&gt; ser.iloc[0] = 999\n",
              "&gt;&gt;&gt; r\n",
              "[1, 2]\n",
              "&gt;&gt;&gt; ser\n",
              "0    999\n",
              "1      2\n",
              "dtype: int64\n",
              "\n",
              "Due to input data type the Series has a `copy` of\n",
              "the original data even though `copy=False`, so\n",
              "the data is unchanged.\n",
              "\n",
              "Constructing Series from a 1d ndarray with `copy=False`.\n",
              "\n",
              "&gt;&gt;&gt; r = np.array([1, 2])\n",
              "&gt;&gt;&gt; ser = pd.Series(r, copy=False)\n",
              "&gt;&gt;&gt; ser.iloc[0] = 999\n",
              "&gt;&gt;&gt; r\n",
              "array([999,   2])\n",
              "&gt;&gt;&gt; ser\n",
              "0    999\n",
              "1      2\n",
              "dtype: int64\n",
              "\n",
              "Due to input data type the Series has a `view` on\n",
              "the original data, so\n",
              "the data is changed as well.</pre>\n",
              "      <script>\n",
              "      if (google.colab.kernel.accessAllowed && google.colab.files && google.colab.files.view) {\n",
              "        for (const element of document.querySelectorAll('.filepath')) {\n",
              "          element.style.display = 'block'\n",
              "          element.onclick = (event) => {\n",
              "            event.preventDefault();\n",
              "            event.stopPropagation();\n",
              "            google.colab.files.view(element.textContent, 216);\n",
              "          };\n",
              "        }\n",
              "      }\n",
              "      for (const element of document.querySelectorAll('.function-repr-contents')) {\n",
              "        element.onclick = (event) => {\n",
              "          event.preventDefault();\n",
              "          event.stopPropagation();\n",
              "          element.classList.toggle('function-repr-contents-collapsed');\n",
              "        };\n",
              "      }\n",
              "      </script>\n",
              "      </div>"
            ]
          },
          "metadata": {},
          "execution_count": 129
        }
      ]
    },
    {
      "cell_type": "code",
      "source": [
        "# Combining all the document vectors into a singl numpy array (tweets_vec)\n",
        "embedding_size = 300\n",
        "tweets_vec = np.ones((len(tweets_temp), embedding_size))*np.nan\n",
        "for i in range(tweets_vec.shape[0]):\n",
        "    tweets_vec[i,:] = tweets_temp.iloc[i]\n",
        "\n",
        "tweets_vec.shape # this itself is your final FEATURE MATRIX"
      ],
      "metadata": {
        "id": "3mMUDrLD_1Ad",
        "colab": {
          "base_uri": "https://localhost:8080/"
        },
        "outputId": "6b42403f-3a36-4f48-9fa9-72069e035933"
      },
      "id": "3mMUDrLD_1Ad",
      "execution_count": null,
      "outputs": [
        {
          "output_type": "execute_result",
          "data": {
            "text/plain": [
              "(7920, 300)"
            ]
          },
          "metadata": {},
          "execution_count": 130
        }
      ]
    },
    {
      "cell_type": "code",
      "source": [
        "# Create a new DF to store these new documnent features\n",
        "df = pd.DataFrame(tweets_vec)\n",
        "df['y'] = data['label']\n",
        "df.dropna(how='any', axis=0, inplace=True)"
      ],
      "metadata": {
        "id": "276BDr9z_8AG"
      },
      "id": "276BDr9z_8AG",
      "execution_count": null,
      "outputs": []
    },
    {
      "cell_type": "code",
      "source": [
        "df.head()"
      ],
      "metadata": {
        "id": "eSj6xTAUAByp",
        "colab": {
          "base_uri": "https://localhost:8080/",
          "height": 255
        },
        "outputId": "3022b63c-705f-4fd6-dfc5-483bceb621ee"
      },
      "id": "eSj6xTAUAByp",
      "execution_count": null,
      "outputs": [
        {
          "output_type": "execute_result",
          "data": {
            "text/plain": [
              "          0         1         2         3         4         5         6  \\\n",
              "0  0.118420  0.297947 -0.024323  0.095802  0.057927 -0.454620  0.111070   \n",
              "1  0.009642  0.178178 -0.000379  0.038055  0.001928 -0.307817  0.210147   \n",
              "2 -0.003909  0.130155  0.071978  0.102440 -0.020107 -0.160483  0.203958   \n",
              "3  0.019904  0.111693  0.111358  0.153126 -0.046173 -0.126848  0.261071   \n",
              "4 -0.012829  0.101197  0.083781  0.126495 -0.047464 -0.116792  0.245612   \n",
              "\n",
              "          7         8         9  ...       291       292       293       294  \\\n",
              "0  0.641119 -0.121994  0.031069  ...  0.265896  0.031210  0.031605  0.265653   \n",
              "1  0.482882 -0.012558 -0.301530  ...  0.292403  0.148086  0.020507  0.326336   \n",
              "2  0.429922  0.092208 -0.194476  ...  0.274763  0.144541  0.083506  0.291463   \n",
              "3  0.475802  0.158551 -0.262177  ...  0.330347  0.192203  0.129432  0.386070   \n",
              "4  0.436951  0.158449 -0.285458  ...  0.311553  0.192960  0.108050  0.351416   \n",
              "\n",
              "        295       296       297       298       299  y  \n",
              "0  0.290552  0.067280 -0.169721  0.195394 -0.057903  0  \n",
              "1  0.285804 -0.011501 -0.214424  0.161049 -0.152266  0  \n",
              "2  0.243172  0.029611 -0.101182  0.089045 -0.112180  0  \n",
              "3  0.252954  0.046842 -0.074667  0.074462 -0.122978  0  \n",
              "4  0.258715  0.032409 -0.096937  0.057144 -0.139409  1  \n",
              "\n",
              "[5 rows x 301 columns]"
            ],
            "text/html": [
              "\n",
              "  <div id=\"df-0ceb45d9-04b9-4e28-b9ef-153314cc158d\" class=\"colab-df-container\">\n",
              "    <div>\n",
              "<style scoped>\n",
              "    .dataframe tbody tr th:only-of-type {\n",
              "        vertical-align: middle;\n",
              "    }\n",
              "\n",
              "    .dataframe tbody tr th {\n",
              "        vertical-align: top;\n",
              "    }\n",
              "\n",
              "    .dataframe thead th {\n",
              "        text-align: right;\n",
              "    }\n",
              "</style>\n",
              "<table border=\"1\" class=\"dataframe\">\n",
              "  <thead>\n",
              "    <tr style=\"text-align: right;\">\n",
              "      <th></th>\n",
              "      <th>0</th>\n",
              "      <th>1</th>\n",
              "      <th>2</th>\n",
              "      <th>3</th>\n",
              "      <th>4</th>\n",
              "      <th>5</th>\n",
              "      <th>6</th>\n",
              "      <th>7</th>\n",
              "      <th>8</th>\n",
              "      <th>9</th>\n",
              "      <th>...</th>\n",
              "      <th>291</th>\n",
              "      <th>292</th>\n",
              "      <th>293</th>\n",
              "      <th>294</th>\n",
              "      <th>295</th>\n",
              "      <th>296</th>\n",
              "      <th>297</th>\n",
              "      <th>298</th>\n",
              "      <th>299</th>\n",
              "      <th>y</th>\n",
              "    </tr>\n",
              "  </thead>\n",
              "  <tbody>\n",
              "    <tr>\n",
              "      <th>0</th>\n",
              "      <td>0.118420</td>\n",
              "      <td>0.297947</td>\n",
              "      <td>-0.024323</td>\n",
              "      <td>0.095802</td>\n",
              "      <td>0.057927</td>\n",
              "      <td>-0.454620</td>\n",
              "      <td>0.111070</td>\n",
              "      <td>0.641119</td>\n",
              "      <td>-0.121994</td>\n",
              "      <td>0.031069</td>\n",
              "      <td>...</td>\n",
              "      <td>0.265896</td>\n",
              "      <td>0.031210</td>\n",
              "      <td>0.031605</td>\n",
              "      <td>0.265653</td>\n",
              "      <td>0.290552</td>\n",
              "      <td>0.067280</td>\n",
              "      <td>-0.169721</td>\n",
              "      <td>0.195394</td>\n",
              "      <td>-0.057903</td>\n",
              "      <td>0</td>\n",
              "    </tr>\n",
              "    <tr>\n",
              "      <th>1</th>\n",
              "      <td>0.009642</td>\n",
              "      <td>0.178178</td>\n",
              "      <td>-0.000379</td>\n",
              "      <td>0.038055</td>\n",
              "      <td>0.001928</td>\n",
              "      <td>-0.307817</td>\n",
              "      <td>0.210147</td>\n",
              "      <td>0.482882</td>\n",
              "      <td>-0.012558</td>\n",
              "      <td>-0.301530</td>\n",
              "      <td>...</td>\n",
              "      <td>0.292403</td>\n",
              "      <td>0.148086</td>\n",
              "      <td>0.020507</td>\n",
              "      <td>0.326336</td>\n",
              "      <td>0.285804</td>\n",
              "      <td>-0.011501</td>\n",
              "      <td>-0.214424</td>\n",
              "      <td>0.161049</td>\n",
              "      <td>-0.152266</td>\n",
              "      <td>0</td>\n",
              "    </tr>\n",
              "    <tr>\n",
              "      <th>2</th>\n",
              "      <td>-0.003909</td>\n",
              "      <td>0.130155</td>\n",
              "      <td>0.071978</td>\n",
              "      <td>0.102440</td>\n",
              "      <td>-0.020107</td>\n",
              "      <td>-0.160483</td>\n",
              "      <td>0.203958</td>\n",
              "      <td>0.429922</td>\n",
              "      <td>0.092208</td>\n",
              "      <td>-0.194476</td>\n",
              "      <td>...</td>\n",
              "      <td>0.274763</td>\n",
              "      <td>0.144541</td>\n",
              "      <td>0.083506</td>\n",
              "      <td>0.291463</td>\n",
              "      <td>0.243172</td>\n",
              "      <td>0.029611</td>\n",
              "      <td>-0.101182</td>\n",
              "      <td>0.089045</td>\n",
              "      <td>-0.112180</td>\n",
              "      <td>0</td>\n",
              "    </tr>\n",
              "    <tr>\n",
              "      <th>3</th>\n",
              "      <td>0.019904</td>\n",
              "      <td>0.111693</td>\n",
              "      <td>0.111358</td>\n",
              "      <td>0.153126</td>\n",
              "      <td>-0.046173</td>\n",
              "      <td>-0.126848</td>\n",
              "      <td>0.261071</td>\n",
              "      <td>0.475802</td>\n",
              "      <td>0.158551</td>\n",
              "      <td>-0.262177</td>\n",
              "      <td>...</td>\n",
              "      <td>0.330347</td>\n",
              "      <td>0.192203</td>\n",
              "      <td>0.129432</td>\n",
              "      <td>0.386070</td>\n",
              "      <td>0.252954</td>\n",
              "      <td>0.046842</td>\n",
              "      <td>-0.074667</td>\n",
              "      <td>0.074462</td>\n",
              "      <td>-0.122978</td>\n",
              "      <td>0</td>\n",
              "    </tr>\n",
              "    <tr>\n",
              "      <th>4</th>\n",
              "      <td>-0.012829</td>\n",
              "      <td>0.101197</td>\n",
              "      <td>0.083781</td>\n",
              "      <td>0.126495</td>\n",
              "      <td>-0.047464</td>\n",
              "      <td>-0.116792</td>\n",
              "      <td>0.245612</td>\n",
              "      <td>0.436951</td>\n",
              "      <td>0.158449</td>\n",
              "      <td>-0.285458</td>\n",
              "      <td>...</td>\n",
              "      <td>0.311553</td>\n",
              "      <td>0.192960</td>\n",
              "      <td>0.108050</td>\n",
              "      <td>0.351416</td>\n",
              "      <td>0.258715</td>\n",
              "      <td>0.032409</td>\n",
              "      <td>-0.096937</td>\n",
              "      <td>0.057144</td>\n",
              "      <td>-0.139409</td>\n",
              "      <td>1</td>\n",
              "    </tr>\n",
              "  </tbody>\n",
              "</table>\n",
              "<p>5 rows × 301 columns</p>\n",
              "</div>\n",
              "    <div class=\"colab-df-buttons\">\n",
              "\n",
              "  <div class=\"colab-df-container\">\n",
              "    <button class=\"colab-df-convert\" onclick=\"convertToInteractive('df-0ceb45d9-04b9-4e28-b9ef-153314cc158d')\"\n",
              "            title=\"Convert this dataframe to an interactive table.\"\n",
              "            style=\"display:none;\">\n",
              "\n",
              "  <svg xmlns=\"http://www.w3.org/2000/svg\" height=\"24px\" viewBox=\"0 -960 960 960\">\n",
              "    <path d=\"M120-120v-720h720v720H120Zm60-500h600v-160H180v160Zm220 220h160v-160H400v160Zm0 220h160v-160H400v160ZM180-400h160v-160H180v160Zm440 0h160v-160H620v160ZM180-180h160v-160H180v160Zm440 0h160v-160H620v160Z\"/>\n",
              "  </svg>\n",
              "    </button>\n",
              "\n",
              "  <style>\n",
              "    .colab-df-container {\n",
              "      display:flex;\n",
              "      gap: 12px;\n",
              "    }\n",
              "\n",
              "    .colab-df-convert {\n",
              "      background-color: #E8F0FE;\n",
              "      border: none;\n",
              "      border-radius: 50%;\n",
              "      cursor: pointer;\n",
              "      display: none;\n",
              "      fill: #1967D2;\n",
              "      height: 32px;\n",
              "      padding: 0 0 0 0;\n",
              "      width: 32px;\n",
              "    }\n",
              "\n",
              "    .colab-df-convert:hover {\n",
              "      background-color: #E2EBFA;\n",
              "      box-shadow: 0px 1px 2px rgba(60, 64, 67, 0.3), 0px 1px 3px 1px rgba(60, 64, 67, 0.15);\n",
              "      fill: #174EA6;\n",
              "    }\n",
              "\n",
              "    .colab-df-buttons div {\n",
              "      margin-bottom: 4px;\n",
              "    }\n",
              "\n",
              "    [theme=dark] .colab-df-convert {\n",
              "      background-color: #3B4455;\n",
              "      fill: #D2E3FC;\n",
              "    }\n",
              "\n",
              "    [theme=dark] .colab-df-convert:hover {\n",
              "      background-color: #434B5C;\n",
              "      box-shadow: 0px 1px 3px 1px rgba(0, 0, 0, 0.15);\n",
              "      filter: drop-shadow(0px 1px 2px rgba(0, 0, 0, 0.3));\n",
              "      fill: #FFFFFF;\n",
              "    }\n",
              "  </style>\n",
              "\n",
              "    <script>\n",
              "      const buttonEl =\n",
              "        document.querySelector('#df-0ceb45d9-04b9-4e28-b9ef-153314cc158d button.colab-df-convert');\n",
              "      buttonEl.style.display =\n",
              "        google.colab.kernel.accessAllowed ? 'block' : 'none';\n",
              "\n",
              "      async function convertToInteractive(key) {\n",
              "        const element = document.querySelector('#df-0ceb45d9-04b9-4e28-b9ef-153314cc158d');\n",
              "        const dataTable =\n",
              "          await google.colab.kernel.invokeFunction('convertToInteractive',\n",
              "                                                    [key], {});\n",
              "        if (!dataTable) return;\n",
              "\n",
              "        const docLinkHtml = 'Like what you see? Visit the ' +\n",
              "          '<a target=\"_blank\" href=https://colab.research.google.com/notebooks/data_table.ipynb>data table notebook</a>'\n",
              "          + ' to learn more about interactive tables.';\n",
              "        element.innerHTML = '';\n",
              "        dataTable['output_type'] = 'display_data';\n",
              "        await google.colab.output.renderOutput(dataTable, element);\n",
              "        const docLink = document.createElement('div');\n",
              "        docLink.innerHTML = docLinkHtml;\n",
              "        element.appendChild(docLink);\n",
              "      }\n",
              "    </script>\n",
              "  </div>\n",
              "\n",
              "\n",
              "<div id=\"df-c4a2d90d-99a7-48e3-9904-e828334cef39\">\n",
              "  <button class=\"colab-df-quickchart\" onclick=\"quickchart('df-c4a2d90d-99a7-48e3-9904-e828334cef39')\"\n",
              "            title=\"Suggest charts\"\n",
              "            style=\"display:none;\">\n",
              "\n",
              "<svg xmlns=\"http://www.w3.org/2000/svg\" height=\"24px\"viewBox=\"0 0 24 24\"\n",
              "     width=\"24px\">\n",
              "    <g>\n",
              "        <path d=\"M19 3H5c-1.1 0-2 .9-2 2v14c0 1.1.9 2 2 2h14c1.1 0 2-.9 2-2V5c0-1.1-.9-2-2-2zM9 17H7v-7h2v7zm4 0h-2V7h2v10zm4 0h-2v-4h2v4z\"/>\n",
              "    </g>\n",
              "</svg>\n",
              "  </button>\n",
              "\n",
              "<style>\n",
              "  .colab-df-quickchart {\n",
              "      --bg-color: #E8F0FE;\n",
              "      --fill-color: #1967D2;\n",
              "      --hover-bg-color: #E2EBFA;\n",
              "      --hover-fill-color: #174EA6;\n",
              "      --disabled-fill-color: #AAA;\n",
              "      --disabled-bg-color: #DDD;\n",
              "  }\n",
              "\n",
              "  [theme=dark] .colab-df-quickchart {\n",
              "      --bg-color: #3B4455;\n",
              "      --fill-color: #D2E3FC;\n",
              "      --hover-bg-color: #434B5C;\n",
              "      --hover-fill-color: #FFFFFF;\n",
              "      --disabled-bg-color: #3B4455;\n",
              "      --disabled-fill-color: #666;\n",
              "  }\n",
              "\n",
              "  .colab-df-quickchart {\n",
              "    background-color: var(--bg-color);\n",
              "    border: none;\n",
              "    border-radius: 50%;\n",
              "    cursor: pointer;\n",
              "    display: none;\n",
              "    fill: var(--fill-color);\n",
              "    height: 32px;\n",
              "    padding: 0;\n",
              "    width: 32px;\n",
              "  }\n",
              "\n",
              "  .colab-df-quickchart:hover {\n",
              "    background-color: var(--hover-bg-color);\n",
              "    box-shadow: 0 1px 2px rgba(60, 64, 67, 0.3), 0 1px 3px 1px rgba(60, 64, 67, 0.15);\n",
              "    fill: var(--button-hover-fill-color);\n",
              "  }\n",
              "\n",
              "  .colab-df-quickchart-complete:disabled,\n",
              "  .colab-df-quickchart-complete:disabled:hover {\n",
              "    background-color: var(--disabled-bg-color);\n",
              "    fill: var(--disabled-fill-color);\n",
              "    box-shadow: none;\n",
              "  }\n",
              "\n",
              "  .colab-df-spinner {\n",
              "    border: 2px solid var(--fill-color);\n",
              "    border-color: transparent;\n",
              "    border-bottom-color: var(--fill-color);\n",
              "    animation:\n",
              "      spin 1s steps(1) infinite;\n",
              "  }\n",
              "\n",
              "  @keyframes spin {\n",
              "    0% {\n",
              "      border-color: transparent;\n",
              "      border-bottom-color: var(--fill-color);\n",
              "      border-left-color: var(--fill-color);\n",
              "    }\n",
              "    20% {\n",
              "      border-color: transparent;\n",
              "      border-left-color: var(--fill-color);\n",
              "      border-top-color: var(--fill-color);\n",
              "    }\n",
              "    30% {\n",
              "      border-color: transparent;\n",
              "      border-left-color: var(--fill-color);\n",
              "      border-top-color: var(--fill-color);\n",
              "      border-right-color: var(--fill-color);\n",
              "    }\n",
              "    40% {\n",
              "      border-color: transparent;\n",
              "      border-right-color: var(--fill-color);\n",
              "      border-top-color: var(--fill-color);\n",
              "    }\n",
              "    60% {\n",
              "      border-color: transparent;\n",
              "      border-right-color: var(--fill-color);\n",
              "    }\n",
              "    80% {\n",
              "      border-color: transparent;\n",
              "      border-right-color: var(--fill-color);\n",
              "      border-bottom-color: var(--fill-color);\n",
              "    }\n",
              "    90% {\n",
              "      border-color: transparent;\n",
              "      border-bottom-color: var(--fill-color);\n",
              "    }\n",
              "  }\n",
              "</style>\n",
              "\n",
              "  <script>\n",
              "    async function quickchart(key) {\n",
              "      const quickchartButtonEl =\n",
              "        document.querySelector('#' + key + ' button');\n",
              "      quickchartButtonEl.disabled = true;  // To prevent multiple clicks.\n",
              "      quickchartButtonEl.classList.add('colab-df-spinner');\n",
              "      try {\n",
              "        const charts = await google.colab.kernel.invokeFunction(\n",
              "            'suggestCharts', [key], {});\n",
              "      } catch (error) {\n",
              "        console.error('Error during call to suggestCharts:', error);\n",
              "      }\n",
              "      quickchartButtonEl.classList.remove('colab-df-spinner');\n",
              "      quickchartButtonEl.classList.add('colab-df-quickchart-complete');\n",
              "    }\n",
              "    (() => {\n",
              "      let quickchartButtonEl =\n",
              "        document.querySelector('#df-c4a2d90d-99a7-48e3-9904-e828334cef39 button');\n",
              "      quickchartButtonEl.style.display =\n",
              "        google.colab.kernel.accessAllowed ? 'block' : 'none';\n",
              "    })();\n",
              "  </script>\n",
              "</div>\n",
              "    </div>\n",
              "  </div>\n"
            ],
            "application/vnd.google.colaboratory.intrinsic+json": {
              "type": "dataframe",
              "variable_name": "df"
            }
          },
          "metadata": {},
          "execution_count": 132
        }
      ]
    },
    {
      "cell_type": "code",
      "source": [
        "df.shape"
      ],
      "metadata": {
        "id": "fzPRJPk_AG37",
        "colab": {
          "base_uri": "https://localhost:8080/"
        },
        "outputId": "dd072d1e-f0d5-478a-8092-9e715bf42343"
      },
      "id": "fzPRJPk_AG37",
      "execution_count": null,
      "outputs": [
        {
          "output_type": "execute_result",
          "data": {
            "text/plain": [
              "(7920, 301)"
            ]
          },
          "metadata": {},
          "execution_count": 133
        }
      ]
    },
    {
      "cell_type": "code",
      "source": [
        "X_word_emb = df.drop('y', axis=1)\n",
        "y = df['y']\n",
        "X_word_emb.shape"
      ],
      "metadata": {
        "id": "v4DhlAUlAMLT",
        "colab": {
          "base_uri": "https://localhost:8080/"
        },
        "outputId": "6dd5e48d-fc22-4570-a110-678d5e6406ab"
      },
      "id": "v4DhlAUlAMLT",
      "execution_count": null,
      "outputs": [
        {
          "output_type": "execute_result",
          "data": {
            "text/plain": [
              "(7920, 300)"
            ]
          },
          "metadata": {},
          "execution_count": 134
        }
      ]
    },
    {
      "cell_type": "code",
      "source": [
        "from sklearn.pipeline import make_pipeline, Pipeline\n",
        "from sklearn.linear_model import LogisticRegression\n",
        "from sklearn.model_selection import cross_val_score, cross_validate\n",
        "from sklearn.model_selection import StratifiedKFold\n",
        "from sklearn.preprocessing import StandardScaler\n",
        "from sklearn.feature_extraction.text import CountVectorizer"
      ],
      "metadata": {
        "id": "8kAr1pZdAQem"
      },
      "id": "8kAr1pZdAQem",
      "execution_count": null,
      "outputs": []
    },
    {
      "cell_type": "code",
      "source": [
        "kfold = StratifiedKFold(n_splits=5, shuffle=True, random_state=42)\n",
        "LR1 = LogisticRegression(class_weight='balanced', solver='liblinear', penalty='l1', C=0.4, random_state=42)\n",
        "WE_pipe = Pipeline([('SC', StandardScaler()), ('LR', LR1)] )\n",
        "\n",
        "results = cross_validate(WE_pipe, X_word_emb, y, cv=kfold, scoring='accuracy', return_train_score=True)\n",
        "\n",
        "# print(results['train_score'])\n",
        "print(np.round((results['train_score'].mean())*100, 2), np.round((results['train_score'].std())*100, 2))\n",
        "\n",
        "# print(results['test_score'])\n",
        "print(np.round((results['test_score'].mean())*100, 2), np.round((results['test_score'].std())*100, 2))"
      ],
      "metadata": {
        "id": "LUpZbJjGAXe-",
        "colab": {
          "base_uri": "https://localhost:8080/"
        },
        "outputId": "3088cfb3-e4c5-43db-dbab-0badfd102c4b"
      },
      "id": "LUpZbJjGAXe-",
      "execution_count": null,
      "outputs": [
        {
          "output_type": "stream",
          "name": "stdout",
          "text": [
            "85.66 0.16\n",
            "85.3 0.67\n"
          ]
        }
      ]
    },
    {
      "cell_type": "code",
      "source": [
        "X = data['cleaned_tweets_w/o_SW']\n",
        "y = data['label']\n",
        "\n",
        "# we want to include only those words in the vocab which have min df of 5,\n",
        "# means select only those words which occur ATLEAST in 5 documents!!\n",
        "# AND SELECT the TOP 300 FEATURES ONLY to build the model\n",
        "CV = CountVectorizer(min_df=5, max_features=300)\n",
        "\n",
        "LR1 = LogisticRegression(class_weight='balanced', solver='liblinear', penalty='l1', C=0.4)\n",
        "CV_pipe = Pipeline([('CV', CV) , ('LR', LR1)] )\n",
        "results = cross_validate(CV_pipe, X, y, cv=kfold, scoring='accuracy', return_train_score=True)\n",
        "\n",
        "# print(results['train_score'])\n",
        "print(np.round((results['train_score'].mean())*100, 2), np.round((results['train_score'].std())*100, 2))"
      ],
      "metadata": {
        "id": "H24R0bujAYwg",
        "colab": {
          "base_uri": "https://localhost:8080/"
        },
        "outputId": "40204c74-1ca3-4e14-e08f-90b2ba62d028"
      },
      "id": "H24R0bujAYwg",
      "execution_count": null,
      "outputs": [
        {
          "output_type": "stream",
          "name": "stdout",
          "text": [
            "88.95 0.07\n"
          ]
        }
      ]
    },
    {
      "cell_type": "code",
      "source": [
        "CV_pipe.fit(X,y)"
      ],
      "metadata": {
        "colab": {
          "base_uri": "https://localhost:8080/",
          "height": 124
        },
        "id": "CzjgSsphqKUX",
        "outputId": "a2f04f34-b0dc-467a-8094-717536f15be1"
      },
      "id": "CzjgSsphqKUX",
      "execution_count": null,
      "outputs": [
        {
          "output_type": "execute_result",
          "data": {
            "text/plain": [
              "Pipeline(steps=[('CV', CountVectorizer(max_features=300, min_df=5)),\n",
              "                ('LR',\n",
              "                 LogisticRegression(C=0.4, class_weight='balanced',\n",
              "                                    penalty='l1', solver='liblinear'))])"
            ],
            "text/html": [
              "<style>#sk-container-id-3 {color: black;background-color: white;}#sk-container-id-3 pre{padding: 0;}#sk-container-id-3 div.sk-toggleable {background-color: white;}#sk-container-id-3 label.sk-toggleable__label {cursor: pointer;display: block;width: 100%;margin-bottom: 0;padding: 0.3em;box-sizing: border-box;text-align: center;}#sk-container-id-3 label.sk-toggleable__label-arrow:before {content: \"▸\";float: left;margin-right: 0.25em;color: #696969;}#sk-container-id-3 label.sk-toggleable__label-arrow:hover:before {color: black;}#sk-container-id-3 div.sk-estimator:hover label.sk-toggleable__label-arrow:before {color: black;}#sk-container-id-3 div.sk-toggleable__content {max-height: 0;max-width: 0;overflow: hidden;text-align: left;background-color: #f0f8ff;}#sk-container-id-3 div.sk-toggleable__content pre {margin: 0.2em;color: black;border-radius: 0.25em;background-color: #f0f8ff;}#sk-container-id-3 input.sk-toggleable__control:checked~div.sk-toggleable__content {max-height: 200px;max-width: 100%;overflow: auto;}#sk-container-id-3 input.sk-toggleable__control:checked~label.sk-toggleable__label-arrow:before {content: \"▾\";}#sk-container-id-3 div.sk-estimator input.sk-toggleable__control:checked~label.sk-toggleable__label {background-color: #d4ebff;}#sk-container-id-3 div.sk-label input.sk-toggleable__control:checked~label.sk-toggleable__label {background-color: #d4ebff;}#sk-container-id-3 input.sk-hidden--visually {border: 0;clip: rect(1px 1px 1px 1px);clip: rect(1px, 1px, 1px, 1px);height: 1px;margin: -1px;overflow: hidden;padding: 0;position: absolute;width: 1px;}#sk-container-id-3 div.sk-estimator {font-family: monospace;background-color: #f0f8ff;border: 1px dotted black;border-radius: 0.25em;box-sizing: border-box;margin-bottom: 0.5em;}#sk-container-id-3 div.sk-estimator:hover {background-color: #d4ebff;}#sk-container-id-3 div.sk-parallel-item::after {content: \"\";width: 100%;border-bottom: 1px solid gray;flex-grow: 1;}#sk-container-id-3 div.sk-label:hover label.sk-toggleable__label {background-color: #d4ebff;}#sk-container-id-3 div.sk-serial::before {content: \"\";position: absolute;border-left: 1px solid gray;box-sizing: border-box;top: 0;bottom: 0;left: 50%;z-index: 0;}#sk-container-id-3 div.sk-serial {display: flex;flex-direction: column;align-items: center;background-color: white;padding-right: 0.2em;padding-left: 0.2em;position: relative;}#sk-container-id-3 div.sk-item {position: relative;z-index: 1;}#sk-container-id-3 div.sk-parallel {display: flex;align-items: stretch;justify-content: center;background-color: white;position: relative;}#sk-container-id-3 div.sk-item::before, #sk-container-id-3 div.sk-parallel-item::before {content: \"\";position: absolute;border-left: 1px solid gray;box-sizing: border-box;top: 0;bottom: 0;left: 50%;z-index: -1;}#sk-container-id-3 div.sk-parallel-item {display: flex;flex-direction: column;z-index: 1;position: relative;background-color: white;}#sk-container-id-3 div.sk-parallel-item:first-child::after {align-self: flex-end;width: 50%;}#sk-container-id-3 div.sk-parallel-item:last-child::after {align-self: flex-start;width: 50%;}#sk-container-id-3 div.sk-parallel-item:only-child::after {width: 0;}#sk-container-id-3 div.sk-dashed-wrapped {border: 1px dashed gray;margin: 0 0.4em 0.5em 0.4em;box-sizing: border-box;padding-bottom: 0.4em;background-color: white;}#sk-container-id-3 div.sk-label label {font-family: monospace;font-weight: bold;display: inline-block;line-height: 1.2em;}#sk-container-id-3 div.sk-label-container {text-align: center;}#sk-container-id-3 div.sk-container {/* jupyter's `normalize.less` sets `[hidden] { display: none; }` but bootstrap.min.css set `[hidden] { display: none !important; }` so we also need the `!important` here to be able to override the default hidden behavior on the sphinx rendered scikit-learn.org. See: https://github.com/scikit-learn/scikit-learn/issues/21755 */display: inline-block !important;position: relative;}#sk-container-id-3 div.sk-text-repr-fallback {display: none;}</style><div id=\"sk-container-id-3\" class=\"sk-top-container\"><div class=\"sk-text-repr-fallback\"><pre>Pipeline(steps=[(&#x27;CV&#x27;, CountVectorizer(max_features=300, min_df=5)),\n",
              "                (&#x27;LR&#x27;,\n",
              "                 LogisticRegression(C=0.4, class_weight=&#x27;balanced&#x27;,\n",
              "                                    penalty=&#x27;l1&#x27;, solver=&#x27;liblinear&#x27;))])</pre><b>In a Jupyter environment, please rerun this cell to show the HTML representation or trust the notebook. <br />On GitHub, the HTML representation is unable to render, please try loading this page with nbviewer.org.</b></div><div class=\"sk-container\" hidden><div class=\"sk-item sk-dashed-wrapped\"><div class=\"sk-label-container\"><div class=\"sk-label sk-toggleable\"><input class=\"sk-toggleable__control sk-hidden--visually\" id=\"sk-estimator-id-7\" type=\"checkbox\" ><label for=\"sk-estimator-id-7\" class=\"sk-toggleable__label sk-toggleable__label-arrow\">Pipeline</label><div class=\"sk-toggleable__content\"><pre>Pipeline(steps=[(&#x27;CV&#x27;, CountVectorizer(max_features=300, min_df=5)),\n",
              "                (&#x27;LR&#x27;,\n",
              "                 LogisticRegression(C=0.4, class_weight=&#x27;balanced&#x27;,\n",
              "                                    penalty=&#x27;l1&#x27;, solver=&#x27;liblinear&#x27;))])</pre></div></div></div><div class=\"sk-serial\"><div class=\"sk-item\"><div class=\"sk-estimator sk-toggleable\"><input class=\"sk-toggleable__control sk-hidden--visually\" id=\"sk-estimator-id-8\" type=\"checkbox\" ><label for=\"sk-estimator-id-8\" class=\"sk-toggleable__label sk-toggleable__label-arrow\">CountVectorizer</label><div class=\"sk-toggleable__content\"><pre>CountVectorizer(max_features=300, min_df=5)</pre></div></div></div><div class=\"sk-item\"><div class=\"sk-estimator sk-toggleable\"><input class=\"sk-toggleable__control sk-hidden--visually\" id=\"sk-estimator-id-9\" type=\"checkbox\" ><label for=\"sk-estimator-id-9\" class=\"sk-toggleable__label sk-toggleable__label-arrow\">LogisticRegression</label><div class=\"sk-toggleable__content\"><pre>LogisticRegression(C=0.4, class_weight=&#x27;balanced&#x27;, penalty=&#x27;l1&#x27;,\n",
              "                   solver=&#x27;liblinear&#x27;)</pre></div></div></div></div></div></div></div>"
            ]
          },
          "metadata": {},
          "execution_count": 138
        }
      ]
    },
    {
      "cell_type": "code",
      "source": [
        "import pickle\n",
        "\n",
        "pickle.dump(CV_pipe, open('twitter_sentiment.pkl', 'wb'))"
      ],
      "metadata": {
        "id": "97yvw0pTAdeF"
      },
      "id": "97yvw0pTAdeF",
      "execution_count": null,
      "outputs": []
    },
    {
      "cell_type": "code",
      "source": [
        "test_tweeet=[\"i  will be not doing the work\"]\n",
        "CV_pipe.predict(test_tweeet)"
      ],
      "metadata": {
        "colab": {
          "base_uri": "https://localhost:8080/"
        },
        "id": "0XuG7fGzkXLZ",
        "outputId": "06f8bb84-fc5a-490e-d5f1-cc50c9c26e3a"
      },
      "id": "0XuG7fGzkXLZ",
      "execution_count": null,
      "outputs": [
        {
          "output_type": "execute_result",
          "data": {
            "text/plain": [
              "array([1])"
            ]
          },
          "metadata": {},
          "execution_count": 140
        }
      ]
    }
  ],
  "metadata": {
    "kernelspec": {
      "display_name": "Python 3 (ipykernel)",
      "language": "python",
      "name": "python3"
    },
    "language_info": {
      "codemirror_mode": {
        "name": "ipython",
        "version": 3
      },
      "file_extension": ".py",
      "mimetype": "text/x-python",
      "name": "python",
      "nbconvert_exporter": "python",
      "pygments_lexer": "ipython3",
      "version": "3.12.1"
    },
    "colab": {
      "provenance": []
    }
  },
  "nbformat": 4,
  "nbformat_minor": 5
}